{
 "cells": [
  {
   "cell_type": "markdown",
   "id": "0c9a0697-75ef-4203-a7d7-e62a0472e972",
   "metadata": {},
   "source": [
    "## Step 1: Imports\n",
    "In this step, all the essential libraries are imported:\n",
    "- `asyncio`: To run asynchronous operations.\n",
    "- `Understat`: Python library to scrape data from the Understat website.\n",
    "- `nest_asyncio`: Allows nested event loops (required to run async code inside Jupyter).\n",
    "- `pandas`: For handling and analyzing the data.\n",
    "- `aiohttp`: Asynchronous HTTP client to make network requests."
   ]
  },
  {
   "cell_type": "code",
   "execution_count": 9,
   "id": "3e28a044-de17-4c6a-9d9d-801c2204c897",
   "metadata": {},
   "outputs": [],
   "source": [
    "import asyncio\n",
    "from understat import Understat\n",
    "import nest_asyncio\n",
    "import pandas as pd\n",
    "import aiohttp"
   ]
  },
  {
   "cell_type": "markdown",
   "id": "61156c71-08d5-4800-910b-6be0f040f60c",
   "metadata": {},
   "source": [
    "---\n",
    "## Step 2: Prepare Event Loop\n",
    "Jupyter Notebook can't run asynchronous loops directly like a normal Python script.\n",
    "To fix this, `nest_asyncio` was applied which patches Jupyter to support running asynchronous tasks inside cells."
   ]
  },
  {
   "cell_type": "code",
   "execution_count": 10,
   "id": "50635842-8aa9-457e-950e-ae1f7281990b",
   "metadata": {},
   "outputs": [],
   "source": [
    "nest_asyncio.apply()"
   ]
  },
  {
   "cell_type": "markdown",
   "id": "b3858c74-0a59-4fa5-b590-779350b16b34",
   "metadata": {},
   "source": [
    "---\n",
    "## Step 3: Define Scraper Function\n",
    "An **asynchronous function** was created to scrape player-level data from the Premier League for the 2024/25 season.\n",
    "This function:\n",
    "- Starts an aiohttp session.\n",
    "- Connects to the Understat API.\n",
    "- Retrieves player data for the **EPL** in the **2024 season** (which is the 2024/25 season on Understat)."
   ]
  },
  {
   "cell_type": "code",
   "execution_count": 11,
   "id": "2f58a0cf-6ba4-4f30-97d4-ead3210d1654",
   "metadata": {},
   "outputs": [],
   "source": [
    "async def get_understat_data():\n",
    "    async with aiohttp.ClientSession() as session:\n",
    "        understat = Understat(session)\n",
    "        players = await understat.get_league_players(\n",
    "            league_name=\"EPL\",    \n",
    "            season=\"2024\"       \n",
    "        )\n",
    "        return players"
   ]
  },
  {
   "cell_type": "markdown",
   "id": "b100e1cc-c596-4bf1-9483-4ec4c72af78a",
   "metadata": {},
   "source": [
    "---\n",
    "## Step 4: Run Scraper\n",
    "The async function was run using `asyncio.run()` which executes the scraping process and stores the returned data."
   ]
  },
  {
   "cell_type": "code",
   "execution_count": 12,
   "id": "05457457-eb9b-4d79-b6f8-7808be21a71a",
   "metadata": {},
   "outputs": [],
   "source": [
    "players_data = asyncio.run(get_understat_data())"
   ]
  },
  {
   "cell_type": "markdown",
   "id": "e6d81477-2858-4f42-8b6c-49a58efe47db",
   "metadata": {},
   "source": [
    "---\n",
    "## Step 5: Convert to DataFrame\n",
    "The scraped data is in a dictionary format.\n",
    "It was converted into a pandas **DataFrame** to make it easy to inspect, clean, and analyze."
   ]
  },
  {
   "cell_type": "code",
   "execution_count": 13,
   "id": "52a4df1b-8a87-4500-9823-11c8a00e3b96",
   "metadata": {},
   "outputs": [],
   "source": [
    "df = pd.DataFrame(players_data)"
   ]
  },
  {
   "cell_type": "markdown",
   "id": "3f157f08-d63f-4603-8da2-c0b31acf1a1f",
   "metadata": {},
   "source": [
    "---\n",
    "## Step 6: Preview the Dataset\n",
    "Here, the **first five rows** were displayed to check the structure."
   ]
  },
  {
   "cell_type": "code",
   "execution_count": 14,
   "id": "6d99c350-b409-4f6b-bf99-70ac8068e384",
   "metadata": {},
   "outputs": [
    {
     "data": {
      "text/html": [
       "<div>\n",
       "<style scoped>\n",
       "    .dataframe tbody tr th:only-of-type {\n",
       "        vertical-align: middle;\n",
       "    }\n",
       "\n",
       "    .dataframe tbody tr th {\n",
       "        vertical-align: top;\n",
       "    }\n",
       "\n",
       "    .dataframe thead th {\n",
       "        text-align: right;\n",
       "    }\n",
       "</style>\n",
       "<table border=\"1\" class=\"dataframe\">\n",
       "  <thead>\n",
       "    <tr style=\"text-align: right;\">\n",
       "      <th></th>\n",
       "      <th>id</th>\n",
       "      <th>player_name</th>\n",
       "      <th>games</th>\n",
       "      <th>time</th>\n",
       "      <th>goals</th>\n",
       "      <th>xG</th>\n",
       "      <th>assists</th>\n",
       "      <th>xA</th>\n",
       "      <th>shots</th>\n",
       "      <th>key_passes</th>\n",
       "      <th>yellow_cards</th>\n",
       "      <th>red_cards</th>\n",
       "      <th>position</th>\n",
       "      <th>team_title</th>\n",
       "      <th>npg</th>\n",
       "      <th>npxG</th>\n",
       "      <th>xGChain</th>\n",
       "      <th>xGBuildup</th>\n",
       "    </tr>\n",
       "  </thead>\n",
       "  <tbody>\n",
       "    <tr>\n",
       "      <th>0</th>\n",
       "      <td>1250</td>\n",
       "      <td>Mohamed Salah</td>\n",
       "      <td>38</td>\n",
       "      <td>3392</td>\n",
       "      <td>29</td>\n",
       "      <td>27.70626749098301</td>\n",
       "      <td>18</td>\n",
       "      <td>15.858334187418222</td>\n",
       "      <td>130</td>\n",
       "      <td>89</td>\n",
       "      <td>1</td>\n",
       "      <td>0</td>\n",
       "      <td>F M</td>\n",
       "      <td>Liverpool</td>\n",
       "      <td>20</td>\n",
       "      <td>20.855747912079096</td>\n",
       "      <td>48.53588879853487</td>\n",
       "      <td>16.20675839856267</td>\n",
       "    </tr>\n",
       "    <tr>\n",
       "      <th>1</th>\n",
       "      <td>5232</td>\n",
       "      <td>Alexander Isak</td>\n",
       "      <td>34</td>\n",
       "      <td>2822</td>\n",
       "      <td>23</td>\n",
       "      <td>22.356988068670034</td>\n",
       "      <td>6</td>\n",
       "      <td>5.44870379474014</td>\n",
       "      <td>99</td>\n",
       "      <td>42</td>\n",
       "      <td>1</td>\n",
       "      <td>0</td>\n",
       "      <td>F</td>\n",
       "      <td>Newcastle United</td>\n",
       "      <td>19</td>\n",
       "      <td>19.312312599271536</td>\n",
       "      <td>26.209551103413105</td>\n",
       "      <td>3.579237926751375</td>\n",
       "    </tr>\n",
       "    <tr>\n",
       "      <th>2</th>\n",
       "      <td>8260</td>\n",
       "      <td>Erling Haaland</td>\n",
       "      <td>31</td>\n",
       "      <td>2749</td>\n",
       "      <td>22</td>\n",
       "      <td>23.95459282770753</td>\n",
       "      <td>3</td>\n",
       "      <td>3.5812273556366563</td>\n",
       "      <td>109</td>\n",
       "      <td>29</td>\n",
       "      <td>2</td>\n",
       "      <td>0</td>\n",
       "      <td>F</td>\n",
       "      <td>Manchester City</td>\n",
       "      <td>19</td>\n",
       "      <td>20.909917432814837</td>\n",
       "      <td>22.845245644450188</td>\n",
       "      <td>3.5353690683841705</td>\n",
       "    </tr>\n",
       "    <tr>\n",
       "      <th>3</th>\n",
       "      <td>4456</td>\n",
       "      <td>Chris Wood</td>\n",
       "      <td>36</td>\n",
       "      <td>3024</td>\n",
       "      <td>20</td>\n",
       "      <td>15.638655036687851</td>\n",
       "      <td>3</td>\n",
       "      <td>3.044111367315054</td>\n",
       "      <td>68</td>\n",
       "      <td>22</td>\n",
       "      <td>1</td>\n",
       "      <td>0</td>\n",
       "      <td>F S</td>\n",
       "      <td>Nottingham Forest</td>\n",
       "      <td>17</td>\n",
       "      <td>13.355148404836655</td>\n",
       "      <td>14.72016467526555</td>\n",
       "      <td>1.6692094188183546</td>\n",
       "    </tr>\n",
       "    <tr>\n",
       "      <th>4</th>\n",
       "      <td>6552</td>\n",
       "      <td>Bryan Mbeumo</td>\n",
       "      <td>38</td>\n",
       "      <td>3419</td>\n",
       "      <td>20</td>\n",
       "      <td>13.63216146454215</td>\n",
       "      <td>7</td>\n",
       "      <td>10.376488702371716</td>\n",
       "      <td>86</td>\n",
       "      <td>70</td>\n",
       "      <td>3</td>\n",
       "      <td>0</td>\n",
       "      <td>D F M</td>\n",
       "      <td>Brentford</td>\n",
       "      <td>15</td>\n",
       "      <td>9.06514835730195</td>\n",
       "      <td>24.377113293856382</td>\n",
       "      <td>9.351834732107818</td>\n",
       "    </tr>\n",
       "  </tbody>\n",
       "</table>\n",
       "</div>"
      ],
      "text/plain": [
       "     id     player_name games  time goals                  xG assists  \\\n",
       "0  1250   Mohamed Salah    38  3392    29   27.70626749098301      18   \n",
       "1  5232  Alexander Isak    34  2822    23  22.356988068670034       6   \n",
       "2  8260  Erling Haaland    31  2749    22   23.95459282770753       3   \n",
       "3  4456      Chris Wood    36  3024    20  15.638655036687851       3   \n",
       "4  6552    Bryan Mbeumo    38  3419    20   13.63216146454215       7   \n",
       "\n",
       "                   xA shots key_passes yellow_cards red_cards position  \\\n",
       "0  15.858334187418222   130         89            1         0      F M   \n",
       "1    5.44870379474014    99         42            1         0        F   \n",
       "2  3.5812273556366563   109         29            2         0        F   \n",
       "3   3.044111367315054    68         22            1         0      F S   \n",
       "4  10.376488702371716    86         70            3         0    D F M   \n",
       "\n",
       "          team_title npg                npxG             xGChain  \\\n",
       "0          Liverpool  20  20.855747912079096   48.53588879853487   \n",
       "1   Newcastle United  19  19.312312599271536  26.209551103413105   \n",
       "2    Manchester City  19  20.909917432814837  22.845245644450188   \n",
       "3  Nottingham Forest  17  13.355148404836655   14.72016467526555   \n",
       "4          Brentford  15    9.06514835730195  24.377113293856382   \n",
       "\n",
       "            xGBuildup  \n",
       "0   16.20675839856267  \n",
       "1   3.579237926751375  \n",
       "2  3.5353690683841705  \n",
       "3  1.6692094188183546  \n",
       "4   9.351834732107818  "
      ]
     },
     "execution_count": 14,
     "metadata": {},
     "output_type": "execute_result"
    }
   ],
   "source": [
    "df.head()"
   ]
  },
  {
   "cell_type": "markdown",
   "id": "b93609ee-58a3-47cc-9d4f-f81a80b2d660",
   "metadata": {},
   "source": [
    "---\n",
    "## Step 7: Save Dataset Locally\n",
    "Finally, the cleaned dataset is saved as a **CSV file**.\n",
    "This makes it easy to use in future analysis without needing to scrape again."
   ]
  },
  {
   "cell_type": "code",
   "execution_count": 15,
   "id": "0d4cd579-60f7-412d-a2fa-e86971ac4f15",
   "metadata": {},
   "outputs": [
    {
     "name": "stdout",
     "output_type": "stream",
     "text": [
      "Dataset saved successfully!\n"
     ]
    }
   ],
   "source": [
    "df.to_csv('EPL_2024_25_Understat.csv', index=False)\n",
    "print('Dataset saved successfully!')"
   ]
  }
 ],
 "metadata": {
  "kernelspec": {
   "display_name": "Python 3 (ipykernel)",
   "language": "python",
   "name": "python3"
  },
  "language_info": {
   "codemirror_mode": {
    "name": "ipython",
    "version": 3
   },
   "file_extension": ".py",
   "mimetype": "text/x-python",
   "name": "python",
   "nbconvert_exporter": "python",
   "pygments_lexer": "ipython3",
   "version": "3.11.9"
  }
 },
 "nbformat": 4,
 "nbformat_minor": 5
}
