{
 "cells": [
  {
   "cell_type": "markdown",
   "id": "dfe89bae-547b-4773-a872-3c170319a624",
   "metadata": {},
   "source": [
    "# Analysis : Identifying the Most Valuable Players Based on xG and xA Per 90 Minutes\n",
    "\n",
    "## Objective\n",
    "The goal of this analysis is to identify the most valuable players in the Premier League 2024/25 season based on their contributions relative to expected goals (xG) and expected assists (xA) **per 90 minutes**. \n",
    "\n",
    "Analyzing per 90-minute statistics allows us to make fair comparisons between players regardless of their total playing time, helping to uncover players who make a significant impact when they are on the pitch, even if they have not played as many total minutes.\n",
    "\n",
    "## Key Metrics:\n",
    "- **xG per 90 minutes:** Expected goals a player is likely to score every 90 minutes.\n",
    "- **xA per 90 minutes:** Expected assists a player is likely to provide every 90 minutes.\n",
    "- **xG + xA per 90 minutes:** Combined contribution to the team's expected goals per 90 minutes.\n",
    "\n",
    "\n",
    "## Key Questions to be Analyzed\n",
    "1. **Who are the most valuable players based on their contributions relative to expected goals (xG) and expected assists (xA) per 90 minutes?**\n",
    "2. **Which players are the most efficient goal scorers when comparing actual goals to their expected goals?**\n",
    "3. **Which players are underperforming or overperforming based on their expected goals and assists?**\n",
    "\n",
    "---\n"
   ]
  },
  {
   "cell_type": "markdown",
   "id": "58075e89-8dcb-42cb-84f5-0e562708f6de",
   "metadata": {},
   "source": [
    "## Step 1: Importing Libraries\n",
    "\n",
    "In this step, all the essential libraries for data handling, visualization, and numerical analysis were imported."
   ]
  },
  {
   "cell_type": "code",
   "execution_count": 1,
   "id": "76d12e6c-57a5-4b6b-a799-9d61d3b7072b",
   "metadata": {},
   "outputs": [],
   "source": [
    "# Data handling\n",
    "import pandas as pd\n",
    "import numpy as np\n",
    "\n",
    "# Visualization\n",
    "import matplotlib.pyplot as plt\n",
    "import seaborn as sns\n",
    "\n",
    "plt.style.use('seaborn-v0_8')\n",
    "plt.rcParams['figure.figsize'] = (12, 7)\n",
    "plt.rcParams['axes.grid'] = True"
   ]
  },
  {
   "cell_type": "markdown",
   "id": "a6d723a3-6f33-4d11-9488-d2c06412320f",
   "metadata": {},
   "source": [
    "---\n",
    "## Step 2: Loading the Scraped Data\n",
    "\n",
    "The CSV file created from the web scraping process, which contains player performance statistics from the Premier League 2024/25 season, was loaded."
   ]
  },
  {
   "cell_type": "code",
   "execution_count": 2,
   "id": "b3a112b0-162e-454a-b272-d64a8bebf358",
   "metadata": {},
   "outputs": [
    {
     "data": {
      "text/html": [
       "<div>\n",
       "<style scoped>\n",
       "    .dataframe tbody tr th:only-of-type {\n",
       "        vertical-align: middle;\n",
       "    }\n",
       "\n",
       "    .dataframe tbody tr th {\n",
       "        vertical-align: top;\n",
       "    }\n",
       "\n",
       "    .dataframe thead th {\n",
       "        text-align: right;\n",
       "    }\n",
       "</style>\n",
       "<table border=\"1\" class=\"dataframe\">\n",
       "  <thead>\n",
       "    <tr style=\"text-align: right;\">\n",
       "      <th></th>\n",
       "      <th>id</th>\n",
       "      <th>player_name</th>\n",
       "      <th>games</th>\n",
       "      <th>time</th>\n",
       "      <th>goals</th>\n",
       "      <th>xG</th>\n",
       "      <th>assists</th>\n",
       "      <th>xA</th>\n",
       "      <th>shots</th>\n",
       "      <th>key_passes</th>\n",
       "      <th>yellow_cards</th>\n",
       "      <th>red_cards</th>\n",
       "      <th>position</th>\n",
       "      <th>team_title</th>\n",
       "      <th>npg</th>\n",
       "      <th>npxG</th>\n",
       "      <th>xGChain</th>\n",
       "      <th>xGBuildup</th>\n",
       "    </tr>\n",
       "  </thead>\n",
       "  <tbody>\n",
       "    <tr>\n",
       "      <th>0</th>\n",
       "      <td>1250</td>\n",
       "      <td>Mohamed Salah</td>\n",
       "      <td>38</td>\n",
       "      <td>3392</td>\n",
       "      <td>29</td>\n",
       "      <td>27.706267</td>\n",
       "      <td>18</td>\n",
       "      <td>15.858334</td>\n",
       "      <td>130</td>\n",
       "      <td>89</td>\n",
       "      <td>1</td>\n",
       "      <td>0</td>\n",
       "      <td>F M</td>\n",
       "      <td>Liverpool</td>\n",
       "      <td>20</td>\n",
       "      <td>20.855748</td>\n",
       "      <td>48.535889</td>\n",
       "      <td>16.206758</td>\n",
       "    </tr>\n",
       "    <tr>\n",
       "      <th>1</th>\n",
       "      <td>5232</td>\n",
       "      <td>Alexander Isak</td>\n",
       "      <td>34</td>\n",
       "      <td>2822</td>\n",
       "      <td>23</td>\n",
       "      <td>22.356988</td>\n",
       "      <td>6</td>\n",
       "      <td>5.448704</td>\n",
       "      <td>99</td>\n",
       "      <td>42</td>\n",
       "      <td>1</td>\n",
       "      <td>0</td>\n",
       "      <td>F</td>\n",
       "      <td>Newcastle United</td>\n",
       "      <td>19</td>\n",
       "      <td>19.312313</td>\n",
       "      <td>26.209551</td>\n",
       "      <td>3.579238</td>\n",
       "    </tr>\n",
       "    <tr>\n",
       "      <th>2</th>\n",
       "      <td>8260</td>\n",
       "      <td>Erling Haaland</td>\n",
       "      <td>31</td>\n",
       "      <td>2749</td>\n",
       "      <td>22</td>\n",
       "      <td>23.954593</td>\n",
       "      <td>3</td>\n",
       "      <td>3.581227</td>\n",
       "      <td>109</td>\n",
       "      <td>29</td>\n",
       "      <td>2</td>\n",
       "      <td>0</td>\n",
       "      <td>F</td>\n",
       "      <td>Manchester City</td>\n",
       "      <td>19</td>\n",
       "      <td>20.909917</td>\n",
       "      <td>22.845246</td>\n",
       "      <td>3.535369</td>\n",
       "    </tr>\n",
       "    <tr>\n",
       "      <th>3</th>\n",
       "      <td>4456</td>\n",
       "      <td>Chris Wood</td>\n",
       "      <td>36</td>\n",
       "      <td>3024</td>\n",
       "      <td>20</td>\n",
       "      <td>15.638655</td>\n",
       "      <td>3</td>\n",
       "      <td>3.044111</td>\n",
       "      <td>68</td>\n",
       "      <td>22</td>\n",
       "      <td>1</td>\n",
       "      <td>0</td>\n",
       "      <td>F S</td>\n",
       "      <td>Nottingham Forest</td>\n",
       "      <td>17</td>\n",
       "      <td>13.355148</td>\n",
       "      <td>14.720165</td>\n",
       "      <td>1.669209</td>\n",
       "    </tr>\n",
       "    <tr>\n",
       "      <th>4</th>\n",
       "      <td>6552</td>\n",
       "      <td>Bryan Mbeumo</td>\n",
       "      <td>38</td>\n",
       "      <td>3419</td>\n",
       "      <td>20</td>\n",
       "      <td>13.632161</td>\n",
       "      <td>7</td>\n",
       "      <td>10.376489</td>\n",
       "      <td>86</td>\n",
       "      <td>70</td>\n",
       "      <td>3</td>\n",
       "      <td>0</td>\n",
       "      <td>D F M</td>\n",
       "      <td>Brentford</td>\n",
       "      <td>15</td>\n",
       "      <td>9.065148</td>\n",
       "      <td>24.377113</td>\n",
       "      <td>9.351835</td>\n",
       "    </tr>\n",
       "  </tbody>\n",
       "</table>\n",
       "</div>"
      ],
      "text/plain": [
       "     id     player_name  games  time  goals         xG  assists         xA  \\\n",
       "0  1250   Mohamed Salah     38  3392     29  27.706267       18  15.858334   \n",
       "1  5232  Alexander Isak     34  2822     23  22.356988        6   5.448704   \n",
       "2  8260  Erling Haaland     31  2749     22  23.954593        3   3.581227   \n",
       "3  4456      Chris Wood     36  3024     20  15.638655        3   3.044111   \n",
       "4  6552    Bryan Mbeumo     38  3419     20  13.632161        7  10.376489   \n",
       "\n",
       "   shots  key_passes  yellow_cards  red_cards position         team_title  \\\n",
       "0    130          89             1          0      F M          Liverpool   \n",
       "1     99          42             1          0        F   Newcastle United   \n",
       "2    109          29             2          0        F    Manchester City   \n",
       "3     68          22             1          0      F S  Nottingham Forest   \n",
       "4     86          70             3          0    D F M          Brentford   \n",
       "\n",
       "   npg       npxG    xGChain  xGBuildup  \n",
       "0   20  20.855748  48.535889  16.206758  \n",
       "1   19  19.312313  26.209551   3.579238  \n",
       "2   19  20.909917  22.845246   3.535369  \n",
       "3   17  13.355148  14.720165   1.669209  \n",
       "4   15   9.065148  24.377113   9.351835  "
      ]
     },
     "execution_count": 2,
     "metadata": {},
     "output_type": "execute_result"
    }
   ],
   "source": [
    "players_df = pd.read_csv('EPL_2024_25_Understat.csv')\n",
    "players_df.head()"
   ]
  },
  {
   "cell_type": "markdown",
   "id": "253dadba-8b24-4609-a20c-47b83ce8e497",
   "metadata": {},
   "source": [
    "---\n",
    "## Step 3: Clean and Rename Columns\n",
    "\n",
    "To enhance readability and maintain consistency throughout the analysis, certain columns were renamed using more intuitive and descriptive labels."
   ]
  },
  {
   "cell_type": "code",
   "execution_count": 3,
   "id": "4770b934-7afc-4839-879c-b99d9ce7b4b9",
   "metadata": {},
   "outputs": [],
   "source": [
    "players_df.rename(columns={\n",
    "    'games' : 'Games',\n",
    "    'time' : 'Minutes Played',\n",
    "    'goals' : 'Goals',\n",
    "    'assists' : 'Assists',\n",
    "    'shots' : 'Shots',\n",
    "    'key_passes' : 'Key Passes',\n",
    "    'yellow_cards' : 'Yellow Cards',\n",
    "    'red_cards' : 'Red Cards',\n",
    "    'position' : 'Position',\n",
    "    'player_name': 'Player',\n",
    "    'team_title': 'Team',\n",
    "    'xGChain': 'xG Chain',\n",
    "    'xGBuildup': 'xG Buildup'\n",
    "}, inplace=True)"
   ]
  },
  {
   "cell_type": "code",
   "execution_count": 4,
   "id": "7e65bc34-c9f3-4f07-98da-1d6924df6abf",
   "metadata": {},
   "outputs": [
    {
     "name": "stdout",
     "output_type": "stream",
     "text": [
      "Dataset shape: (562, 18)\n",
      "Columns: Index(['id', 'Player', 'Games', 'Minutes Played', 'Goals', 'xG', 'Assists',\n",
      "       'xA', 'Shots', 'Key Passes', 'Yellow Cards', 'Red Cards', 'Position',\n",
      "       'Team', 'npg', 'npxG', 'xG Chain', 'xG Buildup'],\n",
      "      dtype='object')\n",
      "\n",
      "Missing values:\n",
      " id                0\n",
      "Player            0\n",
      "Games             0\n",
      "Minutes Played    0\n",
      "Goals             0\n",
      "xG                0\n",
      "Assists           0\n",
      "xA                0\n",
      "Shots             0\n",
      "Key Passes        0\n",
      "Yellow Cards      0\n",
      "Red Cards         0\n",
      "Position          0\n",
      "Team              0\n",
      "npg               0\n",
      "npxG              0\n",
      "xG Chain          0\n",
      "xG Buildup        0\n",
      "dtype: int64\n"
     ]
    },
    {
     "data": {
      "text/html": [
       "<div>\n",
       "<style scoped>\n",
       "    .dataframe tbody tr th:only-of-type {\n",
       "        vertical-align: middle;\n",
       "    }\n",
       "\n",
       "    .dataframe tbody tr th {\n",
       "        vertical-align: top;\n",
       "    }\n",
       "\n",
       "    .dataframe thead th {\n",
       "        text-align: right;\n",
       "    }\n",
       "</style>\n",
       "<table border=\"1\" class=\"dataframe\">\n",
       "  <thead>\n",
       "    <tr style=\"text-align: right;\">\n",
       "      <th></th>\n",
       "      <th>id</th>\n",
       "      <th>Games</th>\n",
       "      <th>Minutes Played</th>\n",
       "      <th>Goals</th>\n",
       "      <th>xG</th>\n",
       "      <th>Assists</th>\n",
       "      <th>xA</th>\n",
       "      <th>Shots</th>\n",
       "      <th>Key Passes</th>\n",
       "      <th>Yellow Cards</th>\n",
       "      <th>Red Cards</th>\n",
       "      <th>npg</th>\n",
       "      <th>npxG</th>\n",
       "      <th>xG Chain</th>\n",
       "      <th>xG Buildup</th>\n",
       "    </tr>\n",
       "  </thead>\n",
       "  <tbody>\n",
       "    <tr>\n",
       "      <th>count</th>\n",
       "      <td>562.000000</td>\n",
       "      <td>562.000000</td>\n",
       "      <td>562.000000</td>\n",
       "      <td>562.000000</td>\n",
       "      <td>562.000000</td>\n",
       "      <td>562.000000</td>\n",
       "      <td>562.000000</td>\n",
       "      <td>562.000000</td>\n",
       "      <td>562.000000</td>\n",
       "      <td>562.000000</td>\n",
       "      <td>562.000000</td>\n",
       "      <td>562.000000</td>\n",
       "      <td>562.000000</td>\n",
       "      <td>562.000000</td>\n",
       "      <td>562.000000</td>\n",
       "    </tr>\n",
       "    <tr>\n",
       "      <th>mean</th>\n",
       "      <td>8128.081851</td>\n",
       "      <td>20.581851</td>\n",
       "      <td>1337.208185</td>\n",
       "      <td>1.923488</td>\n",
       "      <td>2.200242</td>\n",
       "      <td>1.427046</td>\n",
       "      <td>1.627337</td>\n",
       "      <td>17.516014</td>\n",
       "      <td>13.160142</td>\n",
       "      <td>2.741993</td>\n",
       "      <td>0.090747</td>\n",
       "      <td>1.800712</td>\n",
       "      <td>2.087827</td>\n",
       "      <td>6.528051</td>\n",
       "      <td>3.950416</td>\n",
       "    </tr>\n",
       "    <tr>\n",
       "      <th>std</th>\n",
       "      <td>3972.744409</td>\n",
       "      <td>12.136239</td>\n",
       "      <td>1065.385455</td>\n",
       "      <td>3.560456</td>\n",
       "      <td>3.609300</td>\n",
       "      <td>2.256110</td>\n",
       "      <td>2.256957</td>\n",
       "      <td>22.366831</td>\n",
       "      <td>16.305221</td>\n",
       "      <td>2.732125</td>\n",
       "      <td>0.305540</td>\n",
       "      <td>3.159932</td>\n",
       "      <td>3.284676</td>\n",
       "      <td>6.523192</td>\n",
       "      <td>3.917180</td>\n",
       "    </tr>\n",
       "    <tr>\n",
       "      <th>min</th>\n",
       "      <td>65.000000</td>\n",
       "      <td>1.000000</td>\n",
       "      <td>1.000000</td>\n",
       "      <td>0.000000</td>\n",
       "      <td>0.000000</td>\n",
       "      <td>0.000000</td>\n",
       "      <td>0.000000</td>\n",
       "      <td>0.000000</td>\n",
       "      <td>0.000000</td>\n",
       "      <td>0.000000</td>\n",
       "      <td>0.000000</td>\n",
       "      <td>0.000000</td>\n",
       "      <td>0.000000</td>\n",
       "      <td>0.000000</td>\n",
       "      <td>0.000000</td>\n",
       "    </tr>\n",
       "    <tr>\n",
       "      <th>25%</th>\n",
       "      <td>6054.250000</td>\n",
       "      <td>10.000000</td>\n",
       "      <td>325.250000</td>\n",
       "      <td>0.000000</td>\n",
       "      <td>0.083089</td>\n",
       "      <td>0.000000</td>\n",
       "      <td>0.071857</td>\n",
       "      <td>1.000000</td>\n",
       "      <td>1.000000</td>\n",
       "      <td>0.000000</td>\n",
       "      <td>0.000000</td>\n",
       "      <td>0.000000</td>\n",
       "      <td>0.083089</td>\n",
       "      <td>1.271974</td>\n",
       "      <td>0.785370</td>\n",
       "    </tr>\n",
       "    <tr>\n",
       "      <th>50%</th>\n",
       "      <td>8768.000000</td>\n",
       "      <td>22.000000</td>\n",
       "      <td>1151.500000</td>\n",
       "      <td>0.000000</td>\n",
       "      <td>0.794591</td>\n",
       "      <td>0.000000</td>\n",
       "      <td>0.724003</td>\n",
       "      <td>10.000000</td>\n",
       "      <td>7.000000</td>\n",
       "      <td>2.000000</td>\n",
       "      <td>0.000000</td>\n",
       "      <td>0.000000</td>\n",
       "      <td>0.790356</td>\n",
       "      <td>4.836126</td>\n",
       "      <td>2.985751</td>\n",
       "    </tr>\n",
       "    <tr>\n",
       "      <th>75%</th>\n",
       "      <td>11358.500000</td>\n",
       "      <td>32.000000</td>\n",
       "      <td>2242.000000</td>\n",
       "      <td>2.000000</td>\n",
       "      <td>2.652824</td>\n",
       "      <td>2.000000</td>\n",
       "      <td>2.183637</td>\n",
       "      <td>24.750000</td>\n",
       "      <td>19.000000</td>\n",
       "      <td>4.000000</td>\n",
       "      <td>0.000000</td>\n",
       "      <td>2.000000</td>\n",
       "      <td>2.577103</td>\n",
       "      <td>9.678113</td>\n",
       "      <td>6.004263</td>\n",
       "    </tr>\n",
       "    <tr>\n",
       "      <th>max</th>\n",
       "      <td>13649.000000</td>\n",
       "      <td>38.000000</td>\n",
       "      <td>3420.000000</td>\n",
       "      <td>29.000000</td>\n",
       "      <td>27.706267</td>\n",
       "      <td>18.000000</td>\n",
       "      <td>15.858334</td>\n",
       "      <td>130.000000</td>\n",
       "      <td>92.000000</td>\n",
       "      <td>12.000000</td>\n",
       "      <td>2.000000</td>\n",
       "      <td>20.000000</td>\n",
       "      <td>20.909917</td>\n",
       "      <td>48.535889</td>\n",
       "      <td>21.517376</td>\n",
       "    </tr>\n",
       "  </tbody>\n",
       "</table>\n",
       "</div>"
      ],
      "text/plain": [
       "                 id       Games  Minutes Played       Goals          xG  \\\n",
       "count    562.000000  562.000000      562.000000  562.000000  562.000000   \n",
       "mean    8128.081851   20.581851     1337.208185    1.923488    2.200242   \n",
       "std     3972.744409   12.136239     1065.385455    3.560456    3.609300   \n",
       "min       65.000000    1.000000        1.000000    0.000000    0.000000   \n",
       "25%     6054.250000   10.000000      325.250000    0.000000    0.083089   \n",
       "50%     8768.000000   22.000000     1151.500000    0.000000    0.794591   \n",
       "75%    11358.500000   32.000000     2242.000000    2.000000    2.652824   \n",
       "max    13649.000000   38.000000     3420.000000   29.000000   27.706267   \n",
       "\n",
       "          Assists          xA       Shots  Key Passes  Yellow Cards  \\\n",
       "count  562.000000  562.000000  562.000000  562.000000    562.000000   \n",
       "mean     1.427046    1.627337   17.516014   13.160142      2.741993   \n",
       "std      2.256110    2.256957   22.366831   16.305221      2.732125   \n",
       "min      0.000000    0.000000    0.000000    0.000000      0.000000   \n",
       "25%      0.000000    0.071857    1.000000    1.000000      0.000000   \n",
       "50%      0.000000    0.724003   10.000000    7.000000      2.000000   \n",
       "75%      2.000000    2.183637   24.750000   19.000000      4.000000   \n",
       "max     18.000000   15.858334  130.000000   92.000000     12.000000   \n",
       "\n",
       "        Red Cards         npg        npxG    xG Chain  xG Buildup  \n",
       "count  562.000000  562.000000  562.000000  562.000000  562.000000  \n",
       "mean     0.090747    1.800712    2.087827    6.528051    3.950416  \n",
       "std      0.305540    3.159932    3.284676    6.523192    3.917180  \n",
       "min      0.000000    0.000000    0.000000    0.000000    0.000000  \n",
       "25%      0.000000    0.000000    0.083089    1.271974    0.785370  \n",
       "50%      0.000000    0.000000    0.790356    4.836126    2.985751  \n",
       "75%      0.000000    2.000000    2.577103    9.678113    6.004263  \n",
       "max      2.000000   20.000000   20.909917   48.535889   21.517376  "
      ]
     },
     "execution_count": 4,
     "metadata": {},
     "output_type": "execute_result"
    }
   ],
   "source": [
    "# Check the shape of the dataset\n",
    "print(\"Dataset shape:\", players_df.shape)\n",
    "\n",
    "# List all column names\n",
    "print(\"Columns:\", players_df.columns)\n",
    "\n",
    "# Check for missing values\n",
    "print(\"\\nMissing values:\\n\", players_df.isnull().sum())\n",
    "\n",
    "players_df.describe()"
   ]
  },
  {
   "cell_type": "markdown",
   "id": "ef1dcb62-9bf1-4c68-8a8e-55c48f70dcc5",
   "metadata": {},
   "source": [
    "---\n",
    "## Step 4 - Calculating Per 90-Minute Statistics and Overperformance\n",
    "\n",
    "To enable fair comparisons between players with varying amounts of playing time, key performance metrics were normalized per 90 minutes.\n",
    "\n",
    "First, the number of 90-minute segments each player participated in was calculated. Based on this, the following per 90-minute statistics were computed:\n",
    "- Goals per 90 minutes\n",
    "- Assists per 90 minutes\n",
    "- Goal Contributions per 90 minutes (sum of goals and assists)\n",
    "\n",
    "Similarly, expected performance metrics were calculated:\n",
    "- Expected Goals (xG) per 90 minutes\n",
    "- Expected Assists (xA) per 90 minutes\n",
    "- Expected Goal Contributions per 90 minutes (sum of expected goals and expected assists)\n",
    "\n",
    "Finally, performance per 90 minutes was derived by subtracting the expected goal contributions from the actual goal contributions. This value indicates whether a player is exceeding or underperforming relative to their expected contribution.\n",
    "\n",
    "A preview of the calculated metrics is displayed below to verify the results.\n"
   ]
  },
  {
   "cell_type": "code",
   "execution_count": 5,
   "id": "6b2ae509-092f-425e-9de3-f58d5c36263d",
   "metadata": {},
   "outputs": [
    {
     "data": {
      "text/html": [
       "<div>\n",
       "<style scoped>\n",
       "    .dataframe tbody tr th:only-of-type {\n",
       "        vertical-align: middle;\n",
       "    }\n",
       "\n",
       "    .dataframe tbody tr th {\n",
       "        vertical-align: top;\n",
       "    }\n",
       "\n",
       "    .dataframe thead th {\n",
       "        text-align: right;\n",
       "    }\n",
       "</style>\n",
       "<table border=\"1\" class=\"dataframe\">\n",
       "  <thead>\n",
       "    <tr style=\"text-align: right;\">\n",
       "      <th></th>\n",
       "      <th>Player</th>\n",
       "      <th>Goal Contributions Per90</th>\n",
       "      <th>xGoal Contributions Per90</th>\n",
       "      <th>Performance Per90</th>\n",
       "    </tr>\n",
       "  </thead>\n",
       "  <tbody>\n",
       "    <tr>\n",
       "      <th>0</th>\n",
       "      <td>Mohamed Salah</td>\n",
       "      <td>1.247052</td>\n",
       "      <td>1.155900</td>\n",
       "      <td>0.091151</td>\n",
       "    </tr>\n",
       "    <tr>\n",
       "      <th>1</th>\n",
       "      <td>Alexander Isak</td>\n",
       "      <td>0.924876</td>\n",
       "      <td>0.886787</td>\n",
       "      <td>0.038089</td>\n",
       "    </tr>\n",
       "    <tr>\n",
       "      <th>2</th>\n",
       "      <td>Erling Haaland</td>\n",
       "      <td>0.818479</td>\n",
       "      <td>0.901500</td>\n",
       "      <td>-0.083021</td>\n",
       "    </tr>\n",
       "    <tr>\n",
       "      <th>3</th>\n",
       "      <td>Chris Wood</td>\n",
       "      <td>0.684524</td>\n",
       "      <td>0.556035</td>\n",
       "      <td>0.128489</td>\n",
       "    </tr>\n",
       "    <tr>\n",
       "      <th>4</th>\n",
       "      <td>Bryan Mbeumo</td>\n",
       "      <td>0.710734</td>\n",
       "      <td>0.631991</td>\n",
       "      <td>0.078743</td>\n",
       "    </tr>\n",
       "  </tbody>\n",
       "</table>\n",
       "</div>"
      ],
      "text/plain": [
       "           Player  Goal Contributions Per90  xGoal Contributions Per90  \\\n",
       "0   Mohamed Salah                  1.247052                   1.155900   \n",
       "1  Alexander Isak                  0.924876                   0.886787   \n",
       "2  Erling Haaland                  0.818479                   0.901500   \n",
       "3      Chris Wood                  0.684524                   0.556035   \n",
       "4    Bryan Mbeumo                  0.710734                   0.631991   \n",
       "\n",
       "   Performance Per90  \n",
       "0           0.091151  \n",
       "1           0.038089  \n",
       "2          -0.083021  \n",
       "3           0.128489  \n",
       "4           0.078743  "
      ]
     },
     "execution_count": 5,
     "metadata": {},
     "output_type": "execute_result"
    }
   ],
   "source": [
    "# Calculate number of 90-minute segments played\n",
    "players_df['Nineties'] = players_df['Minutes Played'] / 90\n",
    "\n",
    "# Calculate actual goal contributions per 90 minutes\n",
    "players_df['Goals Per90'] = players_df['Goals'] / players_df['Nineties']\n",
    "players_df['Assists Per90'] = players_df['Assists'] / players_df['Nineties']\n",
    "players_df['Goal Contributions Per90'] = players_df['Goals Per90'] + players_df['Assists Per90']\n",
    "\n",
    "# Calculate expected goal contributions per 90 minutes\n",
    "players_df['xG Per90'] = players_df['xG'] / players_df['Nineties']\n",
    "players_df['xA Per90'] = players_df['xA'] / players_df['Nineties']\n",
    "players_df['xGoal Contributions Per90'] = players_df['xG Per90'] + players_df['xA Per90']\n",
    "\n",
    "# Calculate Performance (Actual - Expected)\n",
    "players_df['Performance Per90'] = players_df['Goal Contributions Per90'] - players_df['xGoal Contributions Per90']\n",
    "\n",
    "players_df[['Player', 'Goal Contributions Per90', 'xGoal Contributions Per90', 'Performance Per90']].head()"
   ]
  },
  {
   "cell_type": "markdown",
   "id": "4ff3578b-7504-4233-b6ee-5d7bc6211a1e",
   "metadata": {},
   "source": [
    "---\n",
    "### Step 5 - Identifying Overperformers and Underperformers\n",
    "\n",
    "With the per 90-minute contributions calculated, the next step was to:\n",
    "- **Compare actual goals to expected goals (xG).**\n",
    "- **Compare actual assists to expected assists (xA).**\n",
    "\n",
    "The objective was to identify:\n",
    "- Players who consistently exceeded their expected output (overperformers).\n",
    "- Players who consistently fell below their expected output (underperformers).\n",
    "\n",
    "To ensure the reliability of the analysis, players with limited playing time were excluded. Only those who played at least 800 minutes were considered.\n",
    "\n",
    "Visualizations such as scatter plots and bar charts were used to clearly illustrate the trends and highlight significant overperformers and underperformers.\n"
   ]
  },
  {
   "cell_type": "code",
   "execution_count": 6,
   "id": "161d4fc1-2b6b-4ca2-b2da-6d7e9c443250",
   "metadata": {},
   "outputs": [],
   "source": [
    "filtered_df = players_df[players_df['Minutes Played'] >= 800].copy()"
   ]
  },
  {
   "cell_type": "markdown",
   "id": "a0033838-44ba-42b6-9ecb-b74009a4d97e",
   "metadata": {},
   "source": [
    "### Step 6 - Visualizing Overperformance and Underperformance\n",
    "\n",
    "Scatter plots were created to compare:\n",
    "- Actual goals versus expected goals (xG)\n",
    "- Actual assists versus expected assists (xA)\n",
    "\n",
    "Each data point represents an individual player, with player names labeled for easy identification.\n",
    "\n",
    "The red dashed line in each plot represents the baseline where actual performance equals expected performance. Players positioned above the line were overperforming relative to expectations, while players below the line were underperforming.\n",
    "\n",
    "These visualizations provided a clear overview of which players significantly exceeded or fell short of their expected contributions.\n"
   ]
  },
  {
   "cell_type": "code",
   "execution_count": 7,
   "id": "dc5c1a8d-6c8a-4044-8791-ba4c5d0dc295",
   "metadata": {},
   "outputs": [
    {
     "data": {
      "image/png": "[encoded data removed]",
      "text/plain": [
       "<Figure size 1600x1000 with 1 Axes>"
      ]
     },
     "metadata": {},
     "output_type": "display_data"
    }
   ],
   "source": [
    "plt.figure(figsize=(16, 10))\n",
    "sns.scatterplot(data=filtered_df, x='xG', y='Goals')\n",
    "\n",
    "# Reference line\n",
    "plt.plot([filtered_df['xG'].min(), filtered_df['xG'].max()],\n",
    "         [filtered_df['xG'].min(), filtered_df['xG'].max()],\n",
    "         color='red', linestyle='--')\n",
    "\n",
    "# Select top 20 players by Goals\n",
    "top_scorers = filtered_df.sort_values(by='Goals', ascending=False).head(20)\n",
    "\n",
    "for idx, row in top_scorers.iterrows():\n",
    "    plt.text(row['xG'] + 0.05, row['Goals'] + 0.05, row['Player'], fontsize=9)\n",
    "\n",
    "plt.title('Actual Goals vs Expected Goals (Top 20)', fontsize=16)\n",
    "plt.xlabel('Expected Goals (xG)', fontsize=14)\n",
    "plt.ylabel('Actual Goals', fontsize=14)\n",
    "plt.grid(True)\n",
    "plt.show()"
   ]
  },
  {
   "cell_type": "code",
   "execution_count": 8,
   "id": "bee23d96-1ae8-4bcd-b325-ef9ff38d61b6",
   "metadata": {},
   "outputs": [
    {
     "data": {
      "image/png": "[encoded data removed]",
      "text/plain": [
       "<Figure size 1600x1000 with 1 Axes>"
      ]
     },
     "metadata": {},
     "output_type": "display_data"
    }
   ],
   "source": [
    "plt.figure(figsize=(16, 10))\n",
    "sns.scatterplot(data=filtered_df, x='xA', y='Assists')\n",
    "\n",
    "# Reference line\n",
    "plt.plot([filtered_df['xA'].min(), filtered_df['xA'].max()],\n",
    "         [filtered_df['xA'].min(), filtered_df['xA'].max()],\n",
    "         color='red', linestyle='--')\n",
    "\n",
    "# Select top 20 players by Assists\n",
    "top_assisters = filtered_df.sort_values(by='Assists', ascending=False).head(20)\n",
    "\n",
    "for idx, row in top_assisters.iterrows():\n",
    "    plt.text(row['xA'] + 0.05, row['Assists'] + 0.05, row['Player'], fontsize=9)\n",
    "\n",
    "plt.title('Actual Assists vs Expected Assists (Top 20)', fontsize=16)\n",
    "plt.xlabel('Expected Assists (xA)', fontsize=14)\n",
    "plt.ylabel('Actual Assists', fontsize=14)\n",
    "plt.grid(True)\n",
    "plt.show()"
   ]
  },
  {
   "cell_type": "markdown",
   "id": "10ac05ff-f1bf-4273-b8d5-f1ab3a2b8b86",
   "metadata": {},
   "source": [
    "---\n",
    "### Step 7 - Ranking Overperformers and Underperformers\n",
    "\n",
    "To further analyze individual player performance, the dataset was sorted based on performance per 90 minutes. The top 10 overperformers and the top 10 underperformers were identified.\n",
    "\n",
    "- **Overperformers:** Players with the highest positive difference between actual and expected goal contributions per 90 minutes.\n",
    "- **Underperformers:** Players with the largest negative difference between actual and expected goal contributions per 90 minutes.\n",
    "\n",
    "The results are displayed below, showing each player's performance per 90 minutes alongside their actual and expected goal contributions.\n"
   ]
  },
  {
   "cell_type": "code",
   "execution_count": 9,
   "id": "d4c148fb-cc5e-4cd7-86f0-66572faf498d",
   "metadata": {},
   "outputs": [
    {
     "name": "stdout",
     "output_type": "stream",
     "text": [
      "Top Overperformers per 90 Minutes:\n"
     ]
    },
    {
     "data": {
      "text/html": [
       "<div>\n",
       "<style scoped>\n",
       "    .dataframe tbody tr th:only-of-type {\n",
       "        vertical-align: middle;\n",
       "    }\n",
       "\n",
       "    .dataframe tbody tr th {\n",
       "        vertical-align: top;\n",
       "    }\n",
       "\n",
       "    .dataframe thead th {\n",
       "        text-align: right;\n",
       "    }\n",
       "</style>\n",
       "<table border=\"1\" class=\"dataframe\">\n",
       "  <thead>\n",
       "    <tr style=\"text-align: right;\">\n",
       "      <th></th>\n",
       "      <th>Player</th>\n",
       "      <th>Performance Per90</th>\n",
       "      <th>Goal Contributions Per90</th>\n",
       "      <th>xGoal Contributions Per90</th>\n",
       "    </tr>\n",
       "  </thead>\n",
       "  <tbody>\n",
       "    <tr>\n",
       "      <th>92</th>\n",
       "      <td>Ethan Nwaneri</td>\n",
       "      <td>0.312140</td>\n",
       "      <td>0.611552</td>\n",
       "      <td>0.299411</td>\n",
       "    </tr>\n",
       "    <tr>\n",
       "      <th>152</th>\n",
       "      <td>Tariq Lamptey</td>\n",
       "      <td>0.285961</td>\n",
       "      <td>0.413793</td>\n",
       "      <td>0.127832</td>\n",
       "    </tr>\n",
       "    <tr>\n",
       "      <th>38</th>\n",
       "      <td>Amad Diallo Traore</td>\n",
       "      <td>0.214543</td>\n",
       "      <td>0.667727</td>\n",
       "      <td>0.453184</td>\n",
       "    </tr>\n",
       "    <tr>\n",
       "      <th>30</th>\n",
       "      <td>James Maddison</td>\n",
       "      <td>0.198851</td>\n",
       "      <td>0.777958</td>\n",
       "      <td>0.579107</td>\n",
       "    </tr>\n",
       "    <tr>\n",
       "      <th>7</th>\n",
       "      <td>Matheus Cunha</td>\n",
       "      <td>0.176856</td>\n",
       "      <td>0.722201</td>\n",
       "      <td>0.545345</td>\n",
       "    </tr>\n",
       "    <tr>\n",
       "      <th>148</th>\n",
       "      <td>Jean-Ricner Bellegarde</td>\n",
       "      <td>0.167640</td>\n",
       "      <td>0.478441</td>\n",
       "      <td>0.310801</td>\n",
       "    </tr>\n",
       "    <tr>\n",
       "      <th>263</th>\n",
       "      <td>Mats Wieffer</td>\n",
       "      <td>0.167042</td>\n",
       "      <td>0.364372</td>\n",
       "      <td>0.197330</td>\n",
       "    </tr>\n",
       "    <tr>\n",
       "      <th>151</th>\n",
       "      <td>Riccardo Calafiori</td>\n",
       "      <td>0.166092</td>\n",
       "      <td>0.273834</td>\n",
       "      <td>0.107742</td>\n",
       "    </tr>\n",
       "    <tr>\n",
       "      <th>86</th>\n",
       "      <td>Dwight McNeil</td>\n",
       "      <td>0.160356</td>\n",
       "      <td>0.655022</td>\n",
       "      <td>0.494666</td>\n",
       "    </tr>\n",
       "    <tr>\n",
       "      <th>59</th>\n",
       "      <td>Anthony Elanga</td>\n",
       "      <td>0.157870</td>\n",
       "      <td>0.600235</td>\n",
       "      <td>0.442366</td>\n",
       "    </tr>\n",
       "  </tbody>\n",
       "</table>\n",
       "</div>"
      ],
      "text/plain": [
       "                     Player  Performance Per90  Goal Contributions Per90  \\\n",
       "92            Ethan Nwaneri           0.312140                  0.611552   \n",
       "152           Tariq Lamptey           0.285961                  0.413793   \n",
       "38       Amad Diallo Traore           0.214543                  0.667727   \n",
       "30           James Maddison           0.198851                  0.777958   \n",
       "7             Matheus Cunha           0.176856                  0.722201   \n",
       "148  Jean-Ricner Bellegarde           0.167640                  0.478441   \n",
       "263            Mats Wieffer           0.167042                  0.364372   \n",
       "151      Riccardo Calafiori           0.166092                  0.273834   \n",
       "86            Dwight McNeil           0.160356                  0.655022   \n",
       "59           Anthony Elanga           0.157870                  0.600235   \n",
       "\n",
       "     xGoal Contributions Per90  \n",
       "92                    0.299411  \n",
       "152                   0.127832  \n",
       "38                    0.453184  \n",
       "30                    0.579107  \n",
       "7                     0.545345  \n",
       "148                   0.310801  \n",
       "263                   0.197330  \n",
       "151                   0.107742  \n",
       "86                    0.494666  \n",
       "59                    0.442366  "
      ]
     },
     "metadata": {},
     "output_type": "display_data"
    },
    {
     "name": "stdout",
     "output_type": "stream",
     "text": [
      "\n",
      "Top Underperformers per 90 Minutes:\n"
     ]
    },
    {
     "data": {
      "text/html": [
       "<div>\n",
       "<style scoped>\n",
       "    .dataframe tbody tr th:only-of-type {\n",
       "        vertical-align: middle;\n",
       "    }\n",
       "\n",
       "    .dataframe tbody tr th {\n",
       "        vertical-align: top;\n",
       "    }\n",
       "\n",
       "    .dataframe thead th {\n",
       "        text-align: right;\n",
       "    }\n",
       "</style>\n",
       "<table border=\"1\" class=\"dataframe\">\n",
       "  <thead>\n",
       "    <tr style=\"text-align: right;\">\n",
       "      <th></th>\n",
       "      <th>Player</th>\n",
       "      <th>Performance Per90</th>\n",
       "      <th>Goal Contributions Per90</th>\n",
       "      <th>xGoal Contributions Per90</th>\n",
       "    </tr>\n",
       "  </thead>\n",
       "  <tbody>\n",
       "    <tr>\n",
       "      <th>111</th>\n",
       "      <td>Eddie Nketiah</td>\n",
       "      <td>-0.415170</td>\n",
       "      <td>0.365854</td>\n",
       "      <td>0.781024</td>\n",
       "    </tr>\n",
       "    <tr>\n",
       "      <th>162</th>\n",
       "      <td>Cameron Archer</td>\n",
       "      <td>-0.344997</td>\n",
       "      <td>0.127750</td>\n",
       "      <td>0.472748</td>\n",
       "    </tr>\n",
       "    <tr>\n",
       "      <th>106</th>\n",
       "      <td>Dominic Calvert-Lewin</td>\n",
       "      <td>-0.294931</td>\n",
       "      <td>0.221538</td>\n",
       "      <td>0.516469</td>\n",
       "    </tr>\n",
       "    <tr>\n",
       "      <th>34</th>\n",
       "      <td>Ismaila Sarr</td>\n",
       "      <td>-0.274967</td>\n",
       "      <td>0.460190</td>\n",
       "      <td>0.735157</td>\n",
       "    </tr>\n",
       "    <tr>\n",
       "      <th>429</th>\n",
       "      <td>Jesper Lindstrom</td>\n",
       "      <td>-0.274458</td>\n",
       "      <td>0.070367</td>\n",
       "      <td>0.344825</td>\n",
       "    </tr>\n",
       "    <tr>\n",
       "      <th>181</th>\n",
       "      <td>Michail Antonio</td>\n",
       "      <td>-0.271568</td>\n",
       "      <td>0.209546</td>\n",
       "      <td>0.481114</td>\n",
       "    </tr>\n",
       "    <tr>\n",
       "      <th>354</th>\n",
       "      <td>Joe Willock</td>\n",
       "      <td>-0.270110</td>\n",
       "      <td>0.172579</td>\n",
       "      <td>0.442689</td>\n",
       "    </tr>\n",
       "    <tr>\n",
       "      <th>49</th>\n",
       "      <td>Dango Ouattara</td>\n",
       "      <td>-0.264822</td>\n",
       "      <td>0.491803</td>\n",
       "      <td>0.756625</td>\n",
       "    </tr>\n",
       "    <tr>\n",
       "      <th>221</th>\n",
       "      <td>Jack Harrison</td>\n",
       "      <td>-0.258004</td>\n",
       "      <td>0.042816</td>\n",
       "      <td>0.300820</td>\n",
       "    </tr>\n",
       "    <tr>\n",
       "      <th>141</th>\n",
       "      <td>David Brooks</td>\n",
       "      <td>-0.254153</td>\n",
       "      <td>0.192102</td>\n",
       "      <td>0.446256</td>\n",
       "    </tr>\n",
       "  </tbody>\n",
       "</table>\n",
       "</div>"
      ],
      "text/plain": [
       "                    Player  Performance Per90  Goal Contributions Per90  \\\n",
       "111          Eddie Nketiah          -0.415170                  0.365854   \n",
       "162         Cameron Archer          -0.344997                  0.127750   \n",
       "106  Dominic Calvert-Lewin          -0.294931                  0.221538   \n",
       "34            Ismaila Sarr          -0.274967                  0.460190   \n",
       "429       Jesper Lindstrom          -0.274458                  0.070367   \n",
       "181        Michail Antonio          -0.271568                  0.209546   \n",
       "354            Joe Willock          -0.270110                  0.172579   \n",
       "49          Dango Ouattara          -0.264822                  0.491803   \n",
       "221          Jack Harrison          -0.258004                  0.042816   \n",
       "141           David Brooks          -0.254153                  0.192102   \n",
       "\n",
       "     xGoal Contributions Per90  \n",
       "111                   0.781024  \n",
       "162                   0.472748  \n",
       "106                   0.516469  \n",
       "34                    0.735157  \n",
       "429                   0.344825  \n",
       "181                   0.481114  \n",
       "354                   0.442689  \n",
       "49                    0.756625  \n",
       "221                   0.300820  \n",
       "141                   0.446256  "
      ]
     },
     "metadata": {},
     "output_type": "display_data"
    }
   ],
   "source": [
    "# Sort by Overperformance per 90\n",
    "overperformers = filtered_df.sort_values(by='Performance Per90', ascending=False).head(10)\n",
    "underperformers = filtered_df.sort_values(by='Performance Per90').head(10)\n",
    "\n",
    "print(\"Top Overperformers per 90 Minutes:\")\n",
    "display(overperformers[['Player', 'Performance Per90', 'Goal Contributions Per90', 'xGoal Contributions Per90']])\n",
    "\n",
    "print(\"\\nTop Underperformers per 90 Minutes:\")\n",
    "display(underperformers[['Player', 'Performance Per90', 'Goal Contributions Per90', 'xGoal Contributions Per90']])\n"
   ]
  },
  {
   "cell_type": "markdown",
   "id": "9afb9454-0afb-47ce-ae50-67f5c506d3d0",
   "metadata": {},
   "source": [
    "---\n",
    "## Step 8 - Interactive Scatter Plot: Actual Goals vs Expected Goals (xG)\n",
    "\n",
    "In this section, interactive scatter plots were created to visually compare players' actual goal tallies against their expected goals (xG). These visualizations provided a dynamic way to identify players who were either overperforming (scoring more than expected) or underperforming (scoring less than expected) based on the quality of chances they received.\n",
    "\n",
    "To maintain readability and focus, the analysis was limited to the top 20 goal scorers in the dataset.\n",
    "\n",
    "Each data point represents a player, with player names labeled directly on the plot for clear identification. The scatter plot was designed using Plotly to allow interactive exploration of the data, enhancing the interpretability of individual player performances.\n"
   ]
  },
  {
   "cell_type": "code",
   "execution_count": 10,
   "id": "02026791-0a4b-470e-bed5-995465776a95",
   "metadata": {},
   "outputs": [
    {
     "data": {
      "application/vnd.plotly.v1+json": {
       "config": {
        "plotlyServerURL": "https://plot.ly"
       },
       "data": [
        {
         "hovertemplate": "xG=%{x}<br>Actual Goals=%{y}<br>Player=%{text}<extra></extra>",
         "legendgroup": "",
         "marker": {
          "color": "blue",
          "opacity": 0.7,
          "size": 12,
          "symbol": "circle"
         },
         "mode": "markers+text",
         "name": "",
         "orientation": "v",
         "showlegend": false,
         "text": [
          "Mohamed Salah",
          "Alexander Isak",
          "Erling Haaland",
          "Chris Wood",
          "Bryan Mbeumo",
          "Yoane Wissa",
          "Ollie Watkins",
          "Matheus Cunha",
          "Cole Palmer",
          "Jean-Philippe Mateta",
          "Jørgen Strand Larsen",
          "Jarrod Bowen",
          "Luis Díaz",
          "Raúl Jiménez",
          "Justin Kluivert",
          "Liam Delap",
          "Kevin Schade",
          "Brennan Johnson",
          "Antoine Semenyo",
          "Danny Welbeck"
         ],
         "textposition": "top right",
         "type": "scatter",
         "x": {
          "bdata": "AABA8s20O0AAAPCRY1s2QAAAEDJg9DdAAQAAy/1GL0AAAOCqqkMrQAAAoLcmuzRAAAAAyuihMkAAAABNgeQgQAAAYLhojC9AAACwu02qL0AAACA+HmEnQAAA0F/YoSNAAACg3XC2KEAAADgfi88sQP//77Ma4iRAAAAArancJ0AAAABlne8iQP//H7VCUyZAAACA60MZLUABAOCkfOkkQA==",
          "dtype": "f8"
         },
         "xaxis": "x",
         "y": {
          "bdata": "HRcWFBQSEA8PDg4NDQwMDAsLCwo=",
          "dtype": "i1"
         },
         "yaxis": "y"
        }
       ],
       "layout": {
        "height": 800,
        "legend": {
         "tracegroupgap": 0
        },
        "showlegend": false,
        "template": {
         "data": {
          "bar": [
           {
            "error_x": {
             "color": "#2a3f5f"
            },
            "error_y": {
             "color": "#2a3f5f"
            },
            "marker": {
             "line": {
              "color": "#E5ECF6",
              "width": 0.5
             },
             "pattern": {
              "fillmode": "overlay",
              "size": 10,
              "solidity": 0.2
             }
            },
            "type": "bar"
           }
          ],
          "barpolar": [
           {
            "marker": {
             "line": {
              "color": "#E5ECF6",
              "width": 0.5
             },
             "pattern": {
              "fillmode": "overlay",
              "size": 10,
              "solidity": 0.2
             }
            },
            "type": "barpolar"
           }
          ],
          "carpet": [
           {
            "aaxis": {
             "endlinecolor": "#2a3f5f",
             "gridcolor": "white",
             "linecolor": "white",
             "minorgridcolor": "white",
             "startlinecolor": "#2a3f5f"
            },
            "baxis": {
             "endlinecolor": "#2a3f5f",
             "gridcolor": "white",
             "linecolor": "white",
             "minorgridcolor": "white",
             "startlinecolor": "#2a3f5f"
            },
            "type": "carpet"
           }
          ],
          "choropleth": [
           {
            "colorbar": {
             "outlinewidth": 0,
             "ticks": ""
            },
            "type": "choropleth"
           }
          ],
          "contour": [
           {
            "colorbar": {
             "outlinewidth": 0,
             "ticks": ""
            },
            "colorscale": [
             [
              0,
              "#0d0887"
             ],
             [
              0.1111111111111111,
              "#46039f"
             ],
             [
              0.2222222222222222,
              "#7201a8"
             ],
             [
              0.3333333333333333,
              "#9c179e"
             ],
             [
              0.4444444444444444,
              "#bd3786"
             ],
             [
              0.5555555555555556,
              "#d8576b"
             ],
             [
              0.6666666666666666,
              "#ed7953"
             ],
             [
              0.7777777777777778,
              "#fb9f3a"
             ],
             [
              0.8888888888888888,
              "#fdca26"
             ],
             [
              1,
              "#f0f921"
             ]
            ],
            "type": "contour"
           }
          ],
          "contourcarpet": [
           {
            "colorbar": {
             "outlinewidth": 0,
             "ticks": ""
            },
            "type": "contourcarpet"
           }
          ],
          "heatmap": [
           {
            "colorbar": {
             "outlinewidth": 0,
             "ticks": ""
            },
            "colorscale": [
             [
              0,
              "#0d0887"
             ],
             [
              0.1111111111111111,
              "#46039f"
             ],
             [
              0.2222222222222222,
              "#7201a8"
             ],
             [
              0.3333333333333333,
              "#9c179e"
             ],
             [
              0.4444444444444444,
              "#bd3786"
             ],
             [
              0.5555555555555556,
              "#d8576b"
             ],
             [
              0.6666666666666666,
              "#ed7953"
             ],
             [
              0.7777777777777778,
              "#fb9f3a"
             ],
             [
              0.8888888888888888,
              "#fdca26"
             ],
             [
              1,
              "#f0f921"
             ]
            ],
            "type": "heatmap"
           }
          ],
          "histogram": [
           {
            "marker": {
             "pattern": {
              "fillmode": "overlay",
              "size": 10,
              "solidity": 0.2
             }
            },
            "type": "histogram"
           }
          ],
          "histogram2d": [
           {
            "colorbar": {
             "outlinewidth": 0,
             "ticks": ""
            },
            "colorscale": [
             [
              0,
              "#0d0887"
             ],
             [
              0.1111111111111111,
              "#46039f"
             ],
             [
              0.2222222222222222,
              "#7201a8"
             ],
             [
              0.3333333333333333,
              "#9c179e"
             ],
             [
              0.4444444444444444,
              "#bd3786"
             ],
             [
              0.5555555555555556,
              "#d8576b"
             ],
             [
              0.6666666666666666,
              "#ed7953"
             ],
             [
              0.7777777777777778,
              "#fb9f3a"
             ],
             [
              0.8888888888888888,
              "#fdca26"
             ],
             [
              1,
              "#f0f921"
             ]
            ],
            "type": "histogram2d"
           }
          ],
          "histogram2dcontour": [
           {
            "colorbar": {
             "outlinewidth": 0,
             "ticks": ""
            },
            "colorscale": [
             [
              0,
              "#0d0887"
             ],
             [
              0.1111111111111111,
              "#46039f"
             ],
             [
              0.2222222222222222,
              "#7201a8"
             ],
             [
              0.3333333333333333,
              "#9c179e"
             ],
             [
              0.4444444444444444,
              "#bd3786"
             ],
             [
              0.5555555555555556,
              "#d8576b"
             ],
             [
              0.6666666666666666,
              "#ed7953"
             ],
             [
              0.7777777777777778,
              "#fb9f3a"
             ],
             [
              0.8888888888888888,
              "#fdca26"
             ],
             [
              1,
              "#f0f921"
             ]
            ],
            "type": "histogram2dcontour"
           }
          ],
          "mesh3d": [
           {
            "colorbar": {
             "outlinewidth": 0,
             "ticks": ""
            },
            "type": "mesh3d"
           }
          ],
          "parcoords": [
           {
            "line": {
             "colorbar": {
              "outlinewidth": 0,
              "ticks": ""
             }
            },
            "type": "parcoords"
           }
          ],
          "pie": [
           {
            "automargin": true,
            "type": "pie"
           }
          ],
          "scatter": [
           {
            "fillpattern": {
             "fillmode": "overlay",
             "size": 10,
             "solidity": 0.2
            },
            "type": "scatter"
           }
          ],
          "scatter3d": [
           {
            "line": {
             "colorbar": {
              "outlinewidth": 0,
              "ticks": ""
             }
            },
            "marker": {
             "colorbar": {
              "outlinewidth": 0,
              "ticks": ""
             }
            },
            "type": "scatter3d"
           }
          ],
          "scattercarpet": [
           {
            "marker": {
             "colorbar": {
              "outlinewidth": 0,
              "ticks": ""
             }
            },
            "type": "scattercarpet"
           }
          ],
          "scattergeo": [
           {
            "marker": {
             "colorbar": {
              "outlinewidth": 0,
              "ticks": ""
             }
            },
            "type": "scattergeo"
           }
          ],
          "scattergl": [
           {
            "marker": {
             "colorbar": {
              "outlinewidth": 0,
              "ticks": ""
             }
            },
            "type": "scattergl"
           }
          ],
          "scattermap": [
           {
            "marker": {
             "colorbar": {
              "outlinewidth": 0,
              "ticks": ""
             }
            },
            "type": "scattermap"
           }
          ],
          "scattermapbox": [
           {
            "marker": {
             "colorbar": {
              "outlinewidth": 0,
              "ticks": ""
             }
            },
            "type": "scattermapbox"
           }
          ],
          "scatterpolar": [
           {
            "marker": {
             "colorbar": {
              "outlinewidth": 0,
              "ticks": ""
             }
            },
            "type": "scatterpolar"
           }
          ],
          "scatterpolargl": [
           {
            "marker": {
             "colorbar": {
              "outlinewidth": 0,
              "ticks": ""
             }
            },
            "type": "scatterpolargl"
           }
          ],
          "scatterternary": [
           {
            "marker": {
             "colorbar": {
              "outlinewidth": 0,
              "ticks": ""
             }
            },
            "type": "scatterternary"
           }
          ],
          "surface": [
           {
            "colorbar": {
             "outlinewidth": 0,
             "ticks": ""
            },
            "colorscale": [
             [
              0,
              "#0d0887"
             ],
             [
              0.1111111111111111,
              "#46039f"
             ],
             [
              0.2222222222222222,
              "#7201a8"
             ],
             [
              0.3333333333333333,
              "#9c179e"
             ],
             [
              0.4444444444444444,
              "#bd3786"
             ],
             [
              0.5555555555555556,
              "#d8576b"
             ],
             [
              0.6666666666666666,
              "#ed7953"
             ],
             [
              0.7777777777777778,
              "#fb9f3a"
             ],
             [
              0.8888888888888888,
              "#fdca26"
             ],
             [
              1,
              "#f0f921"
             ]
            ],
            "type": "surface"
           }
          ],
          "table": [
           {
            "cells": {
             "fill": {
              "color": "#EBF0F8"
             },
             "line": {
              "color": "white"
             }
            },
            "header": {
             "fill": {
              "color": "#C8D4E3"
             },
             "line": {
              "color": "white"
             }
            },
            "type": "table"
           }
          ]
         },
         "layout": {
          "annotationdefaults": {
           "arrowcolor": "#2a3f5f",
           "arrowhead": 0,
           "arrowwidth": 1
          },
          "autotypenumbers": "strict",
          "coloraxis": {
           "colorbar": {
            "outlinewidth": 0,
            "ticks": ""
           }
          },
          "colorscale": {
           "diverging": [
            [
             0,
             "#8e0152"
            ],
            [
             0.1,
             "#c51b7d"
            ],
            [
             0.2,
             "#de77ae"
            ],
            [
             0.3,
             "#f1b6da"
            ],
            [
             0.4,
             "#fde0ef"
            ],
            [
             0.5,
             "#f7f7f7"
            ],
            [
             0.6,
             "#e6f5d0"
            ],
            [
             0.7,
             "#b8e186"
            ],
            [
             0.8,
             "#7fbc41"
            ],
            [
             0.9,
             "#4d9221"
            ],
            [
             1,
             "#276419"
            ]
           ],
           "sequential": [
            [
             0,
             "#0d0887"
            ],
            [
             0.1111111111111111,
             "#46039f"
            ],
            [
             0.2222222222222222,
             "#7201a8"
            ],
            [
             0.3333333333333333,
             "#9c179e"
            ],
            [
             0.4444444444444444,
             "#bd3786"
            ],
            [
             0.5555555555555556,
             "#d8576b"
            ],
            [
             0.6666666666666666,
             "#ed7953"
            ],
            [
             0.7777777777777778,
             "#fb9f3a"
            ],
            [
             0.8888888888888888,
             "#fdca26"
            ],
            [
             1,
             "#f0f921"
            ]
           ],
           "sequentialminus": [
            [
             0,
             "#0d0887"
            ],
            [
             0.1111111111111111,
             "#46039f"
            ],
            [
             0.2222222222222222,
             "#7201a8"
            ],
            [
             0.3333333333333333,
             "#9c179e"
            ],
            [
             0.4444444444444444,
             "#bd3786"
            ],
            [
             0.5555555555555556,
             "#d8576b"
            ],
            [
             0.6666666666666666,
             "#ed7953"
            ],
            [
             0.7777777777777778,
             "#fb9f3a"
            ],
            [
             0.8888888888888888,
             "#fdca26"
            ],
            [
             1,
             "#f0f921"
            ]
           ]
          },
          "colorway": [
           "#636efa",
           "#EF553B",
           "#00cc96",
           "#ab63fa",
           "#FFA15A",
           "#19d3f3",
           "#FF6692",
           "#B6E880",
           "#FF97FF",
           "#FECB52"
          ],
          "font": {
           "color": "#2a3f5f"
          },
          "geo": {
           "bgcolor": "white",
           "lakecolor": "white",
           "landcolor": "#E5ECF6",
           "showlakes": true,
           "showland": true,
           "subunitcolor": "white"
          },
          "hoverlabel": {
           "align": "left"
          },
          "hovermode": "closest",
          "mapbox": {
           "style": "light"
          },
          "paper_bgcolor": "white",
          "plot_bgcolor": "#E5ECF6",
          "polar": {
           "angularaxis": {
            "gridcolor": "white",
            "linecolor": "white",
            "ticks": ""
           },
           "bgcolor": "#E5ECF6",
           "radialaxis": {
            "gridcolor": "white",
            "linecolor": "white",
            "ticks": ""
           }
          },
          "scene": {
           "xaxis": {
            "backgroundcolor": "#E5ECF6",
            "gridcolor": "white",
            "gridwidth": 2,
            "linecolor": "white",
            "showbackground": true,
            "ticks": "",
            "zerolinecolor": "white"
           },
           "yaxis": {
            "backgroundcolor": "#E5ECF6",
            "gridcolor": "white",
            "gridwidth": 2,
            "linecolor": "white",
            "showbackground": true,
            "ticks": "",
            "zerolinecolor": "white"
           },
           "zaxis": {
            "backgroundcolor": "#E5ECF6",
            "gridcolor": "white",
            "gridwidth": 2,
            "linecolor": "white",
            "showbackground": true,
            "ticks": "",
            "zerolinecolor": "white"
           }
          },
          "shapedefaults": {
           "line": {
            "color": "#2a3f5f"
           }
          },
          "ternary": {
           "aaxis": {
            "gridcolor": "white",
            "linecolor": "white",
            "ticks": ""
           },
           "baxis": {
            "gridcolor": "white",
            "linecolor": "white",
            "ticks": ""
           },
           "bgcolor": "#E5ECF6",
           "caxis": {
            "gridcolor": "white",
            "linecolor": "white",
            "ticks": ""
           }
          },
          "title": {
           "x": 0.05
          },
          "xaxis": {
           "automargin": true,
           "gridcolor": "white",
           "linecolor": "white",
           "ticks": "",
           "title": {
            "standoff": 15
           },
           "zerolinecolor": "white",
           "zerolinewidth": 2
          },
          "yaxis": {
           "automargin": true,
           "gridcolor": "white",
           "linecolor": "white",
           "ticks": "",
           "title": {
            "standoff": 15
           },
           "zerolinecolor": "white",
           "zerolinewidth": 2
          }
         }
        },
        "title": {
         "text": "Actual Goals vs Expected Goals (xG) - Top 20 Players"
        },
        "width": 1000,
        "xaxis": {
         "anchor": "y",
         "domain": [
          0,
          1
         ],
         "title": {
          "text": "Expected Goals (xG)"
         }
        },
        "yaxis": {
         "anchor": "x",
         "domain": [
          0,
          1
         ],
         "title": {
          "text": "Actual Goals"
         }
        }
       }
      }
     },
     "metadata": {},
     "output_type": "display_data"
    }
   ],
   "source": [
    "import plotly.express as px\n",
    "\n",
    "# Selecting top 20 players by Goals\n",
    "top_goals_df = players_df.sort_values(by='Goals', ascending=False).head(20)\n",
    "\n",
    "fig = px.scatter(top_goals_df, \n",
    "                 x='xG', \n",
    "                 y='Goals', \n",
    "                 text='Player',  \n",
    "                 labels={'Expected Goals': 'Expected Goals (xG)', 'Goals': 'Actual Goals'},\n",
    "                 title='Actual Goals vs Expected Goals (xG) - Top 20 Players',\n",
    "                 width=1000,\n",
    "                 height=800)\n",
    "\n",
    "fig.update_traces(marker=dict(size=12,\n",
    "                              color='blue',\n",
    "                              opacity=0.7),\n",
    "                  textposition='top right')\n",
    "\n",
    "fig.update_layout(xaxis_title='Expected Goals (xG)',\n",
    "                  yaxis_title='Actual Goals',\n",
    "                  showlegend=False)\n",
    "\n",
    "fig.show()"
   ]
  },
  {
   "cell_type": "code",
   "execution_count": 11,
   "id": "e638faf0-c2a8-4d57-8b5d-8232b6117a18",
   "metadata": {},
   "outputs": [
    {
     "data": {
      "application/vnd.plotly.v1+json": {
       "config": {
        "plotlyServerURL": "https://plot.ly"
       },
       "data": [
        {
         "hovertemplate": "xA=%{x}<br>Actual Assists=%{y}<br>Player=%{text}<extra></extra>",
         "legendgroup": "",
         "marker": {
          "color": "green",
          "opacity": 0.7,
          "size": 12,
          "symbol": "circle"
         },
         "mode": "markers+text",
         "name": "",
         "orientation": "v",
         "showlegend": false,
         "text": [
          "Mohamed Salah",
          "Anthony Elanga",
          "Jacob Murphy",
          "Morgan Rogers",
          "Bruno Fernandes",
          "Bukayo Saka",
          "Antonee Robinson",
          "Mikkel Damsgaard",
          "Son Heung-Min",
          "Eberechi Eze",
          "Martin Odegaard",
          "Morgan Gibbs-White",
          "Cole Palmer",
          "Sávio",
          "Jarrod Bowen",
          "Ollie Watkins",
          "Declan Rice",
          "Youri Tielemans",
          "Kevin De Bruyne",
          "Rayan Ait Nouri"
         ],
         "textposition": "top right",
         "type": "scatter",
         "x": {
          "bdata": "AAAglHe3L0AAAGAMcWwaQAAAcGPAriJAAAAwO7VKIEAAADB6fnQkQAAAYNPeKidAAADAqyieEUAAAEhvFX4iQAAAYAuaFiJAAACQBQYUHEAAAODpjWgfQAAAIPJgbBhAAQDAtqLoKUAAAIAtVccbQAAAAK+EiB5AAACAMuACD0AAAEA4Bh8iQAAAEEimFiBAAADAEGbeIUAAAODMCtgVQA==",
          "dtype": "f8"
         },
         "xaxis": "x",
         "y": {
          "bdata": "EgsLCgoKCgkJCAgICAgICAcHBwc=",
          "dtype": "i1"
         },
         "yaxis": "y"
        }
       ],
       "layout": {
        "height": 800,
        "legend": {
         "tracegroupgap": 0
        },
        "showlegend": false,
        "template": {
         "data": {
          "bar": [
           {
            "error_x": {
             "color": "#2a3f5f"
            },
            "error_y": {
             "color": "#2a3f5f"
            },
            "marker": {
             "line": {
              "color": "#E5ECF6",
              "width": 0.5
             },
             "pattern": {
              "fillmode": "overlay",
              "size": 10,
              "solidity": 0.2
             }
            },
            "type": "bar"
           }
          ],
          "barpolar": [
           {
            "marker": {
             "line": {
              "color": "#E5ECF6",
              "width": 0.5
             },
             "pattern": {
              "fillmode": "overlay",
              "size": 10,
              "solidity": 0.2
             }
            },
            "type": "barpolar"
           }
          ],
          "carpet": [
           {
            "aaxis": {
             "endlinecolor": "#2a3f5f",
             "gridcolor": "white",
             "linecolor": "white",
             "minorgridcolor": "white",
             "startlinecolor": "#2a3f5f"
            },
            "baxis": {
             "endlinecolor": "#2a3f5f",
             "gridcolor": "white",
             "linecolor": "white",
             "minorgridcolor": "white",
             "startlinecolor": "#2a3f5f"
            },
            "type": "carpet"
           }
          ],
          "choropleth": [
           {
            "colorbar": {
             "outlinewidth": 0,
             "ticks": ""
            },
            "type": "choropleth"
           }
          ],
          "contour": [
           {
            "colorbar": {
             "outlinewidth": 0,
             "ticks": ""
            },
            "colorscale": [
             [
              0,
              "#0d0887"
             ],
             [
              0.1111111111111111,
              "#46039f"
             ],
             [
              0.2222222222222222,
              "#7201a8"
             ],
             [
              0.3333333333333333,
              "#9c179e"
             ],
             [
              0.4444444444444444,
              "#bd3786"
             ],
             [
              0.5555555555555556,
              "#d8576b"
             ],
             [
              0.6666666666666666,
              "#ed7953"
             ],
             [
              0.7777777777777778,
              "#fb9f3a"
             ],
             [
              0.8888888888888888,
              "#fdca26"
             ],
             [
              1,
              "#f0f921"
             ]
            ],
            "type": "contour"
           }
          ],
          "contourcarpet": [
           {
            "colorbar": {
             "outlinewidth": 0,
             "ticks": ""
            },
            "type": "contourcarpet"
           }
          ],
          "heatmap": [
           {
            "colorbar": {
             "outlinewidth": 0,
             "ticks": ""
            },
            "colorscale": [
             [
              0,
              "#0d0887"
             ],
             [
              0.1111111111111111,
              "#46039f"
             ],
             [
              0.2222222222222222,
              "#7201a8"
             ],
             [
              0.3333333333333333,
              "#9c179e"
             ],
             [
              0.4444444444444444,
              "#bd3786"
             ],
             [
              0.5555555555555556,
              "#d8576b"
             ],
             [
              0.6666666666666666,
              "#ed7953"
             ],
             [
              0.7777777777777778,
              "#fb9f3a"
             ],
             [
              0.8888888888888888,
              "#fdca26"
             ],
             [
              1,
              "#f0f921"
             ]
            ],
            "type": "heatmap"
           }
          ],
          "histogram": [
           {
            "marker": {
             "pattern": {
              "fillmode": "overlay",
              "size": 10,
              "solidity": 0.2
             }
            },
            "type": "histogram"
           }
          ],
          "histogram2d": [
           {
            "colorbar": {
             "outlinewidth": 0,
             "ticks": ""
            },
            "colorscale": [
             [
              0,
              "#0d0887"
             ],
             [
              0.1111111111111111,
              "#46039f"
             ],
             [
              0.2222222222222222,
              "#7201a8"
             ],
             [
              0.3333333333333333,
              "#9c179e"
             ],
             [
              0.4444444444444444,
              "#bd3786"
             ],
             [
              0.5555555555555556,
              "#d8576b"
             ],
             [
              0.6666666666666666,
              "#ed7953"
             ],
             [
              0.7777777777777778,
              "#fb9f3a"
             ],
             [
              0.8888888888888888,
              "#fdca26"
             ],
             [
              1,
              "#f0f921"
             ]
            ],
            "type": "histogram2d"
           }
          ],
          "histogram2dcontour": [
           {
            "colorbar": {
             "outlinewidth": 0,
             "ticks": ""
            },
            "colorscale": [
             [
              0,
              "#0d0887"
             ],
             [
              0.1111111111111111,
              "#46039f"
             ],
             [
              0.2222222222222222,
              "#7201a8"
             ],
             [
              0.3333333333333333,
              "#9c179e"
             ],
             [
              0.4444444444444444,
              "#bd3786"
             ],
             [
              0.5555555555555556,
              "#d8576b"
             ],
             [
              0.6666666666666666,
              "#ed7953"
             ],
             [
              0.7777777777777778,
              "#fb9f3a"
             ],
             [
              0.8888888888888888,
              "#fdca26"
             ],
             [
              1,
              "#f0f921"
             ]
            ],
            "type": "histogram2dcontour"
           }
          ],
          "mesh3d": [
           {
            "colorbar": {
             "outlinewidth": 0,
             "ticks": ""
            },
            "type": "mesh3d"
           }
          ],
          "parcoords": [
           {
            "line": {
             "colorbar": {
              "outlinewidth": 0,
              "ticks": ""
             }
            },
            "type": "parcoords"
           }
          ],
          "pie": [
           {
            "automargin": true,
            "type": "pie"
           }
          ],
          "scatter": [
           {
            "fillpattern": {
             "fillmode": "overlay",
             "size": 10,
             "solidity": 0.2
            },
            "type": "scatter"
           }
          ],
          "scatter3d": [
           {
            "line": {
             "colorbar": {
              "outlinewidth": 0,
              "ticks": ""
             }
            },
            "marker": {
             "colorbar": {
              "outlinewidth": 0,
              "ticks": ""
             }
            },
            "type": "scatter3d"
           }
          ],
          "scattercarpet": [
           {
            "marker": {
             "colorbar": {
              "outlinewidth": 0,
              "ticks": ""
             }
            },
            "type": "scattercarpet"
           }
          ],
          "scattergeo": [
           {
            "marker": {
             "colorbar": {
              "outlinewidth": 0,
              "ticks": ""
             }
            },
            "type": "scattergeo"
           }
          ],
          "scattergl": [
           {
            "marker": {
             "colorbar": {
              "outlinewidth": 0,
              "ticks": ""
             }
            },
            "type": "scattergl"
           }
          ],
          "scattermap": [
           {
            "marker": {
             "colorbar": {
              "outlinewidth": 0,
              "ticks": ""
             }
            },
            "type": "scattermap"
           }
          ],
          "scattermapbox": [
           {
            "marker": {
             "colorbar": {
              "outlinewidth": 0,
              "ticks": ""
             }
            },
            "type": "scattermapbox"
           }
          ],
          "scatterpolar": [
           {
            "marker": {
             "colorbar": {
              "outlinewidth": 0,
              "ticks": ""
             }
            },
            "type": "scatterpolar"
           }
          ],
          "scatterpolargl": [
           {
            "marker": {
             "colorbar": {
              "outlinewidth": 0,
              "ticks": ""
             }
            },
            "type": "scatterpolargl"
           }
          ],
          "scatterternary": [
           {
            "marker": {
             "colorbar": {
              "outlinewidth": 0,
              "ticks": ""
             }
            },
            "type": "scatterternary"
           }
          ],
          "surface": [
           {
            "colorbar": {
             "outlinewidth": 0,
             "ticks": ""
            },
            "colorscale": [
             [
              0,
              "#0d0887"
             ],
             [
              0.1111111111111111,
              "#46039f"
             ],
             [
              0.2222222222222222,
              "#7201a8"
             ],
             [
              0.3333333333333333,
              "#9c179e"
             ],
             [
              0.4444444444444444,
              "#bd3786"
             ],
             [
              0.5555555555555556,
              "#d8576b"
             ],
             [
              0.6666666666666666,
              "#ed7953"
             ],
             [
              0.7777777777777778,
              "#fb9f3a"
             ],
             [
              0.8888888888888888,
              "#fdca26"
             ],
             [
              1,
              "#f0f921"
             ]
            ],
            "type": "surface"
           }
          ],
          "table": [
           {
            "cells": {
             "fill": {
              "color": "#EBF0F8"
             },
             "line": {
              "color": "white"
             }
            },
            "header": {
             "fill": {
              "color": "#C8D4E3"
             },
             "line": {
              "color": "white"
             }
            },
            "type": "table"
           }
          ]
         },
         "layout": {
          "annotationdefaults": {
           "arrowcolor": "#2a3f5f",
           "arrowhead": 0,
           "arrowwidth": 1
          },
          "autotypenumbers": "strict",
          "coloraxis": {
           "colorbar": {
            "outlinewidth": 0,
            "ticks": ""
           }
          },
          "colorscale": {
           "diverging": [
            [
             0,
             "#8e0152"
            ],
            [
             0.1,
             "#c51b7d"
            ],
            [
             0.2,
             "#de77ae"
            ],
            [
             0.3,
             "#f1b6da"
            ],
            [
             0.4,
             "#fde0ef"
            ],
            [
             0.5,
             "#f7f7f7"
            ],
            [
             0.6,
             "#e6f5d0"
            ],
            [
             0.7,
             "#b8e186"
            ],
            [
             0.8,
             "#7fbc41"
            ],
            [
             0.9,
             "#4d9221"
            ],
            [
             1,
             "#276419"
            ]
           ],
           "sequential": [
            [
             0,
             "#0d0887"
            ],
            [
             0.1111111111111111,
             "#46039f"
            ],
            [
             0.2222222222222222,
             "#7201a8"
            ],
            [
             0.3333333333333333,
             "#9c179e"
            ],
            [
             0.4444444444444444,
             "#bd3786"
            ],
            [
             0.5555555555555556,
             "#d8576b"
            ],
            [
             0.6666666666666666,
             "#ed7953"
            ],
            [
             0.7777777777777778,
             "#fb9f3a"
            ],
            [
             0.8888888888888888,
             "#fdca26"
            ],
            [
             1,
             "#f0f921"
            ]
           ],
           "sequentialminus": [
            [
             0,
             "#0d0887"
            ],
            [
             0.1111111111111111,
             "#46039f"
            ],
            [
             0.2222222222222222,
             "#7201a8"
            ],
            [
             0.3333333333333333,
             "#9c179e"
            ],
            [
             0.4444444444444444,
             "#bd3786"
            ],
            [
             0.5555555555555556,
             "#d8576b"
            ],
            [
             0.6666666666666666,
             "#ed7953"
            ],
            [
             0.7777777777777778,
             "#fb9f3a"
            ],
            [
             0.8888888888888888,
             "#fdca26"
            ],
            [
             1,
             "#f0f921"
            ]
           ]
          },
          "colorway": [
           "#636efa",
           "#EF553B",
           "#00cc96",
           "#ab63fa",
           "#FFA15A",
           "#19d3f3",
           "#FF6692",
           "#B6E880",
           "#FF97FF",
           "#FECB52"
          ],
          "font": {
           "color": "#2a3f5f"
          },
          "geo": {
           "bgcolor": "white",
           "lakecolor": "white",
           "landcolor": "#E5ECF6",
           "showlakes": true,
           "showland": true,
           "subunitcolor": "white"
          },
          "hoverlabel": {
           "align": "left"
          },
          "hovermode": "closest",
          "mapbox": {
           "style": "light"
          },
          "paper_bgcolor": "white",
          "plot_bgcolor": "#E5ECF6",
          "polar": {
           "angularaxis": {
            "gridcolor": "white",
            "linecolor": "white",
            "ticks": ""
           },
           "bgcolor": "#E5ECF6",
           "radialaxis": {
            "gridcolor": "white",
            "linecolor": "white",
            "ticks": ""
           }
          },
          "scene": {
           "xaxis": {
            "backgroundcolor": "#E5ECF6",
            "gridcolor": "white",
            "gridwidth": 2,
            "linecolor": "white",
            "showbackground": true,
            "ticks": "",
            "zerolinecolor": "white"
           },
           "yaxis": {
            "backgroundcolor": "#E5ECF6",
            "gridcolor": "white",
            "gridwidth": 2,
            "linecolor": "white",
            "showbackground": true,
            "ticks": "",
            "zerolinecolor": "white"
           },
           "zaxis": {
            "backgroundcolor": "#E5ECF6",
            "gridcolor": "white",
            "gridwidth": 2,
            "linecolor": "white",
            "showbackground": true,
            "ticks": "",
            "zerolinecolor": "white"
           }
          },
          "shapedefaults": {
           "line": {
            "color": "#2a3f5f"
           }
          },
          "ternary": {
           "aaxis": {
            "gridcolor": "white",
            "linecolor": "white",
            "ticks": ""
           },
           "baxis": {
            "gridcolor": "white",
            "linecolor": "white",
            "ticks": ""
           },
           "bgcolor": "#E5ECF6",
           "caxis": {
            "gridcolor": "white",
            "linecolor": "white",
            "ticks": ""
           }
          },
          "title": {
           "x": 0.05
          },
          "xaxis": {
           "automargin": true,
           "gridcolor": "white",
           "linecolor": "white",
           "ticks": "",
           "title": {
            "standoff": 15
           },
           "zerolinecolor": "white",
           "zerolinewidth": 2
          },
          "yaxis": {
           "automargin": true,
           "gridcolor": "white",
           "linecolor": "white",
           "ticks": "",
           "title": {
            "standoff": 15
           },
           "zerolinecolor": "white",
           "zerolinewidth": 2
          }
         }
        },
        "title": {
         "text": "Actual Assists vs Expected Assists (xA) - Top 20 Players"
        },
        "width": 1000,
        "xaxis": {
         "anchor": "y",
         "domain": [
          0,
          1
         ],
         "title": {
          "text": "Expected Assists (xA)"
         }
        },
        "yaxis": {
         "anchor": "x",
         "domain": [
          0,
          1
         ],
         "title": {
          "text": "Actual Assists"
         }
        }
       }
      }
     },
     "metadata": {},
     "output_type": "display_data"
    }
   ],
   "source": [
    "# Selecting top 20 players by Assists\n",
    "top_assists_df = players_df.sort_values(by='Assists', ascending=False).head(20)\n",
    "\n",
    "fig = px.scatter(top_assists_df, \n",
    "                 x='xA', \n",
    "                 y='Assists', \n",
    "                 text='Player',  \n",
    "                 labels={'Expected Assists': 'Expected Assists (xA)', 'Assists': 'Actual Assists'},\n",
    "                 title='Actual Assists vs Expected Assists (xA) - Top 20 Players',\n",
    "                 width=1000,\n",
    "                 height=800)\n",
    "\n",
    "fig.update_traces(marker=dict(size=12,\n",
    "                              color='green',\n",
    "                              opacity=0.7),\n",
    "                  textposition='top right') \n",
    "\n",
    "fig.update_layout(xaxis_title='Expected Assists (xA)',\n",
    "                  yaxis_title='Actual Assists',\n",
    "                  showlegend=False)\n",
    "\n",
    "fig.show()"
   ]
  },
  {
   "cell_type": "markdown",
   "id": "cb1767de-aff6-47a1-9f6a-9dc7a1338bae",
   "metadata": {},
   "source": [
    "---\n",
    "## Step 9 - Filtering by Minimum Appearances\n",
    "\n",
    "To ensure statistical reliability, a minimum appearance threshold was applied. Only players who participated in at least **20 games** during the 2024/25 Premier League season were included in this analysis. This filtering step helped focus the evaluation on players with a meaningful sample size, reducing the impact of outliers such as youth players or substitutes with limited playing time.\n",
    "\n",
    "### Top 5 Overperformers per 90 Minutes\n",
    "The players listed below consistently exceeded their expected goal contributions (xG + xA) per 90 minutes, indicating strong overperformance relative to their expected output.\n",
    "\n",
    "### Top 5 Underperformers per 90 Minutes\n",
    "The players listed below consistently fell short of their expected goal contributions per 90 minutes, indicating underperformance relative to the quality of chances they received or created.\n",
    "\n",
    "The tables provided summarize the top five overperformers and underperformers, including each player's name, team, position, and overperformance value, considering only those with substantial playing time.\n"
   ]
  },
  {
   "cell_type": "code",
   "execution_count": 12,
   "id": "9ef2fca5-e53e-4a80-8160-7015542eb21c",
   "metadata": {},
   "outputs": [
    {
     "name": "stdout",
     "output_type": "stream",
     "text": [
      "Top 5 Overperformers per 90 mins (Minimum 20 Games Played):\n"
     ]
    },
    {
     "data": {
      "text/html": [
       "<div>\n",
       "<style scoped>\n",
       "    .dataframe tbody tr th:only-of-type {\n",
       "        vertical-align: middle;\n",
       "    }\n",
       "\n",
       "    .dataframe tbody tr th {\n",
       "        vertical-align: top;\n",
       "    }\n",
       "\n",
       "    .dataframe thead th {\n",
       "        text-align: right;\n",
       "    }\n",
       "</style>\n",
       "<table border=\"1\" class=\"dataframe\">\n",
       "  <thead>\n",
       "    <tr style=\"text-align: right;\">\n",
       "      <th></th>\n",
       "      <th>Player</th>\n",
       "      <th>Team</th>\n",
       "      <th>Position</th>\n",
       "      <th>Performance Per90</th>\n",
       "    </tr>\n",
       "  </thead>\n",
       "  <tbody>\n",
       "    <tr>\n",
       "      <th>92</th>\n",
       "      <td>Ethan Nwaneri</td>\n",
       "      <td>Arsenal</td>\n",
       "      <td>F M S</td>\n",
       "      <td>0.312140</td>\n",
       "    </tr>\n",
       "    <tr>\n",
       "      <th>51</th>\n",
       "      <td>Jhon Durán</td>\n",
       "      <td>Aston Villa</td>\n",
       "      <td>F S</td>\n",
       "      <td>0.266284</td>\n",
       "    </tr>\n",
       "    <tr>\n",
       "      <th>249</th>\n",
       "      <td>Brajan Gruda</td>\n",
       "      <td>Brighton</td>\n",
       "      <td>F M S</td>\n",
       "      <td>0.225508</td>\n",
       "    </tr>\n",
       "    <tr>\n",
       "      <th>38</th>\n",
       "      <td>Amad Diallo Traore</td>\n",
       "      <td>Manchester United</td>\n",
       "      <td>D F M S</td>\n",
       "      <td>0.214543</td>\n",
       "    </tr>\n",
       "    <tr>\n",
       "      <th>30</th>\n",
       "      <td>James Maddison</td>\n",
       "      <td>Tottenham</td>\n",
       "      <td>M S</td>\n",
       "      <td>0.198851</td>\n",
       "    </tr>\n",
       "  </tbody>\n",
       "</table>\n",
       "</div>"
      ],
      "text/plain": [
       "                 Player               Team Position  Performance Per90\n",
       "92        Ethan Nwaneri            Arsenal    F M S           0.312140\n",
       "51           Jhon Durán        Aston Villa      F S           0.266284\n",
       "249        Brajan Gruda           Brighton    F M S           0.225508\n",
       "38   Amad Diallo Traore  Manchester United  D F M S           0.214543\n",
       "30       James Maddison          Tottenham      M S           0.198851"
      ]
     },
     "metadata": {},
     "output_type": "display_data"
    },
    {
     "name": "stdout",
     "output_type": "stream",
     "text": [
      "\n",
      "Top 5 Underperformers per 90 mins (Minimum 20 Games Played):\n"
     ]
    },
    {
     "data": {
      "text/html": [
       "<div>\n",
       "<style scoped>\n",
       "    .dataframe tbody tr th:only-of-type {\n",
       "        vertical-align: middle;\n",
       "    }\n",
       "\n",
       "    .dataframe tbody tr th {\n",
       "        vertical-align: top;\n",
       "    }\n",
       "\n",
       "    .dataframe thead th {\n",
       "        text-align: right;\n",
       "    }\n",
       "</style>\n",
       "<table border=\"1\" class=\"dataframe\">\n",
       "  <thead>\n",
       "    <tr style=\"text-align: right;\">\n",
       "      <th></th>\n",
       "      <th>Player</th>\n",
       "      <th>Team</th>\n",
       "      <th>Position</th>\n",
       "      <th>Performance Per90</th>\n",
       "    </tr>\n",
       "  </thead>\n",
       "  <tbody>\n",
       "    <tr>\n",
       "      <th>111</th>\n",
       "      <td>Eddie Nketiah</td>\n",
       "      <td>Crystal Palace</td>\n",
       "      <td>F M S</td>\n",
       "      <td>-0.415170</td>\n",
       "    </tr>\n",
       "    <tr>\n",
       "      <th>212</th>\n",
       "      <td>Taiwo Awoniyi</td>\n",
       "      <td>Nottingham Forest</td>\n",
       "      <td>F S</td>\n",
       "      <td>-0.373701</td>\n",
       "    </tr>\n",
       "    <tr>\n",
       "      <th>162</th>\n",
       "      <td>Cameron Archer</td>\n",
       "      <td>Southampton</td>\n",
       "      <td>F S</td>\n",
       "      <td>-0.344997</td>\n",
       "    </tr>\n",
       "    <tr>\n",
       "      <th>237</th>\n",
       "      <td>Evan Ferguson</td>\n",
       "      <td>Brighton,West Ham</td>\n",
       "      <td>F S</td>\n",
       "      <td>-0.336299</td>\n",
       "    </tr>\n",
       "    <tr>\n",
       "      <th>106</th>\n",
       "      <td>Dominic Calvert-Lewin</td>\n",
       "      <td>Everton</td>\n",
       "      <td>F S</td>\n",
       "      <td>-0.294931</td>\n",
       "    </tr>\n",
       "  </tbody>\n",
       "</table>\n",
       "</div>"
      ],
      "text/plain": [
       "                    Player               Team Position  Performance Per90\n",
       "111          Eddie Nketiah     Crystal Palace    F M S          -0.415170\n",
       "212          Taiwo Awoniyi  Nottingham Forest      F S          -0.373701\n",
       "162         Cameron Archer        Southampton      F S          -0.344997\n",
       "237          Evan Ferguson  Brighton,West Ham      F S          -0.336299\n",
       "106  Dominic Calvert-Lewin            Everton      F S          -0.294931"
      ]
     },
     "metadata": {},
     "output_type": "display_data"
    }
   ],
   "source": [
    "# Apply minimum games filter\n",
    "filtered_df = players_df[players_df['Games'] >= 20]\n",
    "\n",
    "# Sort to find top overperformers and underperformers per 90 mins\n",
    "top_overperformers = filtered_df.sort_values(by='Performance Per90', ascending=False).head(5)\n",
    "top_underperformers = filtered_df.sort_values(by='Performance Per90', ascending=True).head(5)\n",
    "\n",
    "print(\"Top 5 Overperformers per 90 mins (Minimum 20 Games Played):\")\n",
    "display(top_overperformers[['Player', 'Team', 'Position', 'Performance Per90']])\n",
    "\n",
    "print(\"\\nTop 5 Underperformers per 90 mins (Minimum 20 Games Played):\")\n",
    "display(top_underperformers[['Player', 'Team', 'Position', 'Performance Per90']])"
   ]
  },
  {
   "cell_type": "markdown",
   "id": "0839e704-679a-410e-bb42-55f432be7e7b",
   "metadata": {},
   "source": [
    "---\n",
    "# Conclusion and Key Takeaways: Player Overperformance and Underperformance\n",
    "\n",
    "This analysis offered an in-depth evaluation of players' actual goal contributions compared to their expected contributions (xG + xA) in the 2024/25 Premier League season. By calculating per 90-minute statistics and applying a minimum games threshold, the study focused on players with sufficient playing time to ensure statistical relevance.\n",
    "\n",
    "## Key Takeaways:\n",
    "- **Overperformers:** These players consistently exceeded their expected output, suggesting outstanding finishing ability, intelligent off-the-ball movement, or temporary form peaks beyond expected levels.\n",
    "- **Underperformers:** These players regularly underdelivered relative to their expected metrics, which could be attributed to poor shot selection, inefficient finishing, or natural variance that may stabilize over time.\n",
    "- **Per 90 Analysis:** Evaluating contributions per 90 minutes, rather than using raw totals, provided a more accurate comparison across players with differing amounts of playing time.\n",
    "- **Data-Driven Insights:** The analysis emphasized the importance of considering expected metrics (xG and xA) to gain a balanced perspective on player performance, moving beyond traditional goal and assist counts.\n",
    "\n",
    "## Conclusion:\n",
    "By integrating per 90-minute adjustments and expected metrics, this study provided a more nuanced understanding of player efficiency. The identification of overperformers and underperformers can offer valuable insights for managers, analysts, and recruitment teams when assessing players' true impact and potential areas for tactical or technical improvement. Ultimately, this approach reinforced the value of advanced performance analysis in modern football decision-making.\n",
    "\n",
    "---"
   ]
  }
 ],
 "metadata": {
  "kernelspec": {
   "display_name": "Python 3 (ipykernel)",
   "language": "python",
   "name": "python3"
  },
  "language_info": {
   "codemirror_mode": {
    "name": "ipython",
    "version": 3
   },
   "file_extension": ".py",
   "mimetype": "text/x-python",
   "name": "python",
   "nbconvert_exporter": "python",
   "pygments_lexer": "ipython3",
   "version": "3.11.9"
  }
 },
 "nbformat": 4,
 "nbformat_minor": 5
}
