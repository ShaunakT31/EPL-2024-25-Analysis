{
 "cells": [
  {
   "cell_type": "markdown",
   "id": "a64173f3-2292-493f-9e9b-83c99664bf3c",
   "metadata": {},
   "source": [
    "# Analysis: Player Efficiency and Shot Profiles – Premier League 2024/25\n",
    "\n",
    "## Objective\n",
    "This analysis aimed to build detailed efficiency and shot profiles of players in the English Premier League (EPL) for the 2024/25 season. By combining metrics related to shooting volume, shot quality, and passing influence, the goal was to identify:\n",
    "- The most clinical finishers\n",
    "- The most frequent shooters\n",
    "- The most efficient all-round offensive players\n",
    "\n",
    "## Key Questions Addressed\n",
    "1. **Which players were the most clinical finishers based on shooting efficiency (Goals per Shot)?**\n",
    "2. **Which players demonstrated high offensive influence through key passes per 90 minutes?**\n",
    "3. **Who were the most efficient all-round contributors, considering both goal involvement and key passes?**\n",
    "4. **How did shot volume (Shots per 90) compare with shot quality (xG per Shot)?**\n",
    "5. **Can players be classified as volume shooters, clinical finishers, or both?**\n",
    "\n",
    "---"
   ]
  },
  {
   "cell_type": "markdown",
   "id": "522f384b-318b-463f-a80d-e9fbdfebe863",
   "metadata": {},
   "source": [
    "## Step 1: Importing Libraries and Loading Scraped Data\n",
    "\n",
    "In this step, the essential libraries for data handling, visualization, and numerical analysis were imported. Additionally, the CSV file containing player performance statistics from the 2024/25 Premier League season, previously obtained through web scraping, was loaded for further analysis."
   ]
  },
  {
   "cell_type": "code",
   "execution_count": 1,
   "id": "898a8375-dec0-4465-87ed-28b71f844b94",
   "metadata": {},
   "outputs": [],
   "source": [
    "# Data handling\n",
    "import pandas as pd\n",
    "import numpy as np\n",
    "\n",
    "# Visualization\n",
    "import matplotlib.pyplot as plt\n",
    "import seaborn as sns\n",
    "\n",
    "plt.style.use('seaborn-v0_8')\n",
    "plt.rcParams['figure.figsize'] = (12, 7)\n",
    "plt.rcParams['axes.grid'] = True\n",
    "\n",
    "players_df = pd.read_csv('EPL_2024_25_Understat.csv')"
   ]
  },
  {
   "cell_type": "markdown",
   "id": "ed2a98a8-f029-40c9-a139-d0c2528942e8",
   "metadata": {},
   "source": [
    "---\n",
    "## Step 2: Clean and Rename Columns\n",
    "\n",
    "To enhance readability and maintain consistency throughout the analysis, certain columns were renamed using more intuitive and descriptive labels."
   ]
  },
  {
   "cell_type": "code",
   "execution_count": 2,
   "id": "c831ea84-4fa9-45f5-a524-9a47e55dd811",
   "metadata": {},
   "outputs": [
    {
     "name": "stdout",
     "output_type": "stream",
     "text": [
      "Dataset shape: (562, 18)\n",
      "Columns: Index(['id', 'Player', 'Games', 'Minutes Played', 'Goals', 'xG', 'Assists',\n",
      "       'xA', 'Shots', 'Key Passes', 'Yellow Cards', 'Red Cards', 'Position',\n",
      "       'Team', 'npg', 'npxG', 'xG Chain', 'xG Buildup'],\n",
      "      dtype='object')\n"
     ]
    }
   ],
   "source": [
    "# Renaming columns\n",
    "players_df.rename(columns={\n",
    "    'games' : 'Games',\n",
    "    'time' : 'Minutes Played',\n",
    "    'goals' : 'Goals',\n",
    "    'assists' : 'Assists',\n",
    "    'shots' : 'Shots',\n",
    "    'key_passes' : 'Key Passes',\n",
    "    'yellow_cards' : 'Yellow Cards',\n",
    "    'red_cards' : 'Red Cards',\n",
    "    'position' : 'Position',\n",
    "    'player_name': 'Player',\n",
    "    'team_title': 'Team',\n",
    "    'xGChain': 'xG Chain',\n",
    "    'xGBuildup': 'xG Buildup'\n",
    "}, inplace=True)\n",
    "\n",
    "# Check the shape of the dataset\n",
    "print(\"Dataset shape:\", players_df.shape)\n",
    "\n",
    "# List all column names\n",
    "print(\"Columns:\", players_df.columns)"
   ]
  },
  {
   "cell_type": "markdown",
   "id": "3518f28f-21aa-4fb5-af68-a14a8eb72995",
   "metadata": {},
   "source": [
    "---\n",
    "## Step 3: Player Efficiency Profiles\n",
    "\n",
    "### Objective:\n",
    "In this step, efficiency profiles for players were developed by focusing on their shooting and passing effectiveness. Specifically, the analysis:\n",
    "- Calculated shooting efficiency using **Goals per Shot**\n",
    "- Evaluated offensive influence using **Key Passes per 90 minutes**\n",
    "- Identified the most efficient all-round attacking players\n",
    "\n",
    "These metrics helped pinpoint players who were both clinical finishers and influential chance creators during the 2024/25 Premier League season.\n"
   ]
  },
  {
   "cell_type": "code",
   "execution_count": 3,
   "id": "c5b548fb-5da0-4f3a-be57-d550099324f8",
   "metadata": {},
   "outputs": [
    {
     "data": {
      "text/html": [
       "<div>\n",
       "<style scoped>\n",
       "    .dataframe tbody tr th:only-of-type {\n",
       "        vertical-align: middle;\n",
       "    }\n",
       "\n",
       "    .dataframe tbody tr th {\n",
       "        vertical-align: top;\n",
       "    }\n",
       "\n",
       "    .dataframe thead th {\n",
       "        text-align: right;\n",
       "    }\n",
       "</style>\n",
       "<table border=\"1\" class=\"dataframe\">\n",
       "  <thead>\n",
       "    <tr style=\"text-align: right;\">\n",
       "      <th></th>\n",
       "      <th>Player</th>\n",
       "      <th>Team</th>\n",
       "      <th>Position</th>\n",
       "      <th>Goals per Shot</th>\n",
       "      <th>xG per Shot</th>\n",
       "      <th>Shots per 90</th>\n",
       "      <th>Key Passes per 90</th>\n",
       "      <th>Total Offensive Contribution per 90</th>\n",
       "    </tr>\n",
       "  </thead>\n",
       "  <tbody>\n",
       "    <tr>\n",
       "      <th>0</th>\n",
       "      <td>Mohamed Salah</td>\n",
       "      <td>Liverpool</td>\n",
       "      <td>F M</td>\n",
       "      <td>0.223077</td>\n",
       "      <td>0.213125</td>\n",
       "      <td>3.449292</td>\n",
       "      <td>2.361439</td>\n",
       "      <td>3.608491</td>\n",
       "    </tr>\n",
       "    <tr>\n",
       "      <th>1</th>\n",
       "      <td>Alexander Isak</td>\n",
       "      <td>Newcastle United</td>\n",
       "      <td>F</td>\n",
       "      <td>0.232323</td>\n",
       "      <td>0.225828</td>\n",
       "      <td>3.157335</td>\n",
       "      <td>1.339476</td>\n",
       "      <td>2.264352</td>\n",
       "    </tr>\n",
       "    <tr>\n",
       "      <th>2</th>\n",
       "      <td>Erling Haaland</td>\n",
       "      <td>Manchester City</td>\n",
       "      <td>F</td>\n",
       "      <td>0.201835</td>\n",
       "      <td>0.219767</td>\n",
       "      <td>3.568570</td>\n",
       "      <td>0.949436</td>\n",
       "      <td>1.767916</td>\n",
       "    </tr>\n",
       "    <tr>\n",
       "      <th>3</th>\n",
       "      <td>Chris Wood</td>\n",
       "      <td>Nottingham Forest</td>\n",
       "      <td>F S</td>\n",
       "      <td>0.294118</td>\n",
       "      <td>0.229980</td>\n",
       "      <td>2.023810</td>\n",
       "      <td>0.654762</td>\n",
       "      <td>1.339286</td>\n",
       "    </tr>\n",
       "    <tr>\n",
       "      <th>4</th>\n",
       "      <td>Bryan Mbeumo</td>\n",
       "      <td>Brentford</td>\n",
       "      <td>D F M</td>\n",
       "      <td>0.232558</td>\n",
       "      <td>0.158514</td>\n",
       "      <td>2.263820</td>\n",
       "      <td>1.842644</td>\n",
       "      <td>2.553378</td>\n",
       "    </tr>\n",
       "  </tbody>\n",
       "</table>\n",
       "</div>"
      ],
      "text/plain": [
       "           Player               Team Position  Goals per Shot  xG per Shot  \\\n",
       "0   Mohamed Salah          Liverpool      F M        0.223077     0.213125   \n",
       "1  Alexander Isak   Newcastle United        F        0.232323     0.225828   \n",
       "2  Erling Haaland    Manchester City        F        0.201835     0.219767   \n",
       "3      Chris Wood  Nottingham Forest      F S        0.294118     0.229980   \n",
       "4    Bryan Mbeumo          Brentford    D F M        0.232558     0.158514   \n",
       "\n",
       "   Shots per 90  Key Passes per 90  Total Offensive Contribution per 90  \n",
       "0      3.449292           2.361439                             3.608491  \n",
       "1      3.157335           1.339476                             2.264352  \n",
       "2      3.568570           0.949436                             1.767916  \n",
       "3      2.023810           0.654762                             1.339286  \n",
       "4      2.263820           1.842644                             2.553378  "
      ]
     },
     "execution_count": 3,
     "metadata": {},
     "output_type": "execute_result"
    }
   ],
   "source": [
    "# Calculate Nineties (matches played per 90 minutes)\n",
    "players_df['Nineties'] = players_df['Minutes Played'] / 90\n",
    "\n",
    "# Calculate Goals per Shot (Shooting Efficiency)\n",
    "players_df['Goals per Shot'] = players_df['Goals'] / players_df['Shots']\n",
    "\n",
    "# Calculate xG per Shot (Shot Quality)\n",
    "players_df['xG per Shot'] = players_df['xG'] / players_df['Shots']\n",
    "\n",
    "# Calculate Shots per 90 (Shot Volume)\n",
    "players_df['Shots per 90'] = players_df['Shots'] / players_df['Nineties']\n",
    "\n",
    "# Calculate Key Passes per 90 (Passing Influence)\n",
    "players_df['Key Passes per 90'] = players_df['Key Passes'] / players_df['Nineties']\n",
    "\n",
    "# Calculate Total Offensive Contribution per 90 (Combined offensive output)\n",
    "players_df['Total Offensive Contribution per 90'] = (players_df['Goals'] + players_df['Assists'] + players_df['Key Passes']) / players_df['Nineties']\n",
    "\n",
    "players_df[['Player', 'Team', 'Position', 'Goals per Shot', 'xG per Shot', 'Shots per 90', 'Key Passes per 90', 'Total Offensive Contribution per 90']].head()"
   ]
  },
  {
   "cell_type": "markdown",
   "id": "7598fafd-cbe5-4ca7-863a-8397d8a63602",
   "metadata": {},
   "source": [
    "---\n",
    "## Step 4: Cleaning Team Data for Multi-Club Players\n",
    "\n",
    "Throughout the season, some players transferred between clubs, leading to multiple teams being listed in the dataset (e.g., \"Arsenal, Fulham\"). To ensure each player was accurately associated with a single club, the most recent team was retained.\n"
   ]
  },
  {
   "cell_type": "code",
   "execution_count": 4,
   "id": "34dee21e-a92e-4666-83f0-bdee41491e52",
   "metadata": {},
   "outputs": [
    {
     "name": "stdout",
     "output_type": "stream",
     "text": [
      "Unique teams after cleaning:\n",
      "['Liverpool' 'Newcastle United' 'Manchester City' 'Nottingham Forest'\n",
      " 'Brentford' 'Aston Villa' 'Wolverhampton Wanderers' 'Chelsea'\n",
      " 'Crystal Palace' 'West Ham' 'Fulham' 'Bournemouth' 'Ipswich' 'Tottenham'\n",
      " 'Brighton' 'Leicester' 'Arsenal' 'Everton' 'Manchester United'\n",
      " 'Southampton']\n"
     ]
    }
   ],
   "source": [
    "players_df['Team'] = players_df['Team'].apply(lambda x: x.split(',')[-1].strip())\n",
    "\n",
    "print(\"Unique teams after cleaning:\")\n",
    "print(players_df['Team'].unique())"
   ]
  },
  {
   "cell_type": "markdown",
   "id": "d655d316-b63c-42c8-8664-50fb9ff26e26",
   "metadata": {},
   "source": [
    "---\n",
    "## Step 5: Analyzing Shot Quality vs. Shot Volume\n",
    "\n",
    "In this step, each player's shot quality (measured by expected goals per shot) was compared to their shot volume (measured by shots per 90 minutes). This comparison aimed to identify:\n",
    "- **Clinical Finishers:** Players who took fewer shots but consistently created high-quality chances.\n",
    "- **Volume Shooters:** Players who frequently attempted shots, often from lower-quality positions.\n",
    "\n",
    "To ensure relevance and statistical significance, the analysis was limited to players who appeared in at least 20 games during the season.\n"
   ]
  },
  {
   "cell_type": "code",
   "execution_count": 5,
   "id": "857dce21-43e4-4cdb-b165-e82eb2030925",
   "metadata": {},
   "outputs": [],
   "source": [
    "filtered_df = players_df[players_df['Games'] >= 20].copy()"
   ]
  },
  {
   "cell_type": "code",
   "execution_count": 6,
   "id": "6c732f8e-81e0-4b07-9b44-02f554643472",
   "metadata": {},
   "outputs": [
    {
     "data": {
      "application/vnd.plotly.v1+json": {
       "config": {
        "plotlyServerURL": "https://plot.ly"
       },
       "data": [
        {
         "hoverinfo": "text",
         "marker": {
          "color": {
           "bdata": "Cw4MDwMDARMFBhMSCwgCCQMRAgQEBQQLAggKEQAOERIHDQYOAAANBgcIAREADBEPAgUBDQwICwgADg8LDQUECg8PBAMFDgsMCwQKEg4ODAAMAAUTBxIKDg0AEAYJAQsHCxMABQcAAQUGBgsGDQkMEQEJBAIQEwIPDwgIEhASERMQEQIIEwARAQoTDRMDDwkDAxAQAg0FDwkEAgQHDxMQCgQMBw0MEgcNAg0SBAEFAQsJCgoOAQ8PBhAKBwYBCQEQBRADChIHCREEAxAMDAQACAwNAQAJCQkJBBAGCA4HBwIQCQoLCAsBBhIIAQIKDhAIBAwGBggTAQoIDA4SEg8DDgMKDRICBwYGDxIIBxMJBAsREQgMEgUFDgADEwcRDhMNDQsDDRMNCgIEAxICBgoRCRMPEA==",
           "dtype": "i1"
          },
          "opacity": 0.7,
          "size": 10
         },
         "mode": "markers",
         "text": [
          "Mohamed Salah",
          "Alexander Isak",
          "Erling Haaland",
          "Chris Wood",
          "Bryan Mbeumo",
          "Yoane Wissa",
          "Ollie Watkins",
          "Matheus Cunha",
          "Cole Palmer",
          "Jean-Philippe Mateta",
          "Jørgen Strand Larsen",
          "Jarrod Bowen",
          "Luis Díaz",
          "Raúl Jiménez",
          "Justin Kluivert",
          "Liam Delap",
          "Kevin Schade",
          "Brennan Johnson",
          "Antoine Semenyo",
          "Danny Welbeck",
          "João Pedro",
          "Nicolas Jackson",
          "Kaoru Mitoma",
          "Cody Gakpo",
          "Evanilson",
          "Alex Iwobi",
          "Jamie Vardy",
          "Dominic Solanke",
          "Kai Havertz",
          "Harvey Barnes",
          "James Maddison",
          "Tomas Soucek",
          "Iliman Ndiaye",
          "Bruno Fernandes",
          "Ismaila Sarr",
          "Jacob Murphy",
          "Leandro Trossard",
          "Gabriel Martinelli",
          "Amad Diallo Traore",
          "Eberechi Eze",
          "Beto",
          "Rodrigo Muniz",
          "Morgan Rogers",
          "Son Heung-Min",
          "Mikel Merino",
          "Phil Foden",
          "Dejan Kulusevski",
          "Morgan Gibbs-White",
          "Dango Ouattara",
          "Noni Madueke",
          "Jhon Durán",
          "Marcus Rashford",
          "Mateo Kovacic",
          "Harry Wilson",
          "Diogo Jota",
          "Emile Smith-Rowe",
          "Bukayo Saka",
          "Anthony Gordon",
          "Anthony Elanga",
          "Dominik Szoboszlai",
          "Alejandro Garnacho",
          "Enzo Fernández",
          "Yankuba Minteh",
          "Jordan Ayew",
          "Nikola Milenkovic",
          "Callum Hudson-Odoi",
          "Georginio Rutter",
          "Christian Nørgaard",
          "Marc Cucurella",
          "Bruno Guimarães",
          "Alexis Mac Allister",
          "Josko Gvardiol",
          "Darwin Núñez",
          "Jack Hinshelwood",
          "Facundo Buonanotte",
          "Mohammed Kudus",
          "Fabian Schär",
          "Joelinton",
          "Kevin De Bruyne",
          "Thomas Partey",
          "Bernardo Silva",
          "Declan Rice",
          "Pedro Neto",
          "Rayan Ait Nouri",
          "Dwight McNeil",
          "Lucas Paquetá",
          "Stephy Mavididi",
          "Sandro Tonali",
          "Rasmus Højlund",
          "Ethan Nwaneri",
          "Paul Onuachu",
          "Daniel Muñoz",
          "Sammie Szmodics",
          "Ross Barkley",
          "Virgil van Dijk",
          "Abdoulaye Doucouré",
          "Trent Alexander-Arnold",
          "Pablo Sarabia",
          "Martin Odegaard",
          "Christopher Nkunku",
          "Dominic Calvert-Lewin",
          "Gabriel",
          "Youri Tielemans",
          "Jadon Sancho",
          "Eddie Nketiah",
          "Trevoh Chalobah",
          "Curtis Jones",
          "Marc Guehi",
          "Joshua Zirkzee",
          "George Hirst",
          "Jéremy Doku",
          "Pape Sarr",
          "Amadou Onana",
          "Omari Hutchinson",
          "Carlos Baleba",
          "Marcus Tavernier",
          "Joe Ayodele-Aribo",
          "João Gomes",
          "Dean Huijsen",
          "Jota Silva",
          "Ola Aina",
          "Adama Traoré",
          "Andreas Pereira",
          "Emerson",
          "Adam Armstrong",
          "Aaron Wan-Bissaka",
          "Yves Bissouma",
          "Gonçalo Guedes",
          "Jan Bednarek",
          "Rodrigo Bentancur",
          "David Brooks",
          "Tom Cairney",
          "Matt Doherty",
          "William Saliba",
          "Pedro Porro",
          "Ezri Konsa Ngoyo",
          "James Justin",
          "Jean-Ricner Bellegarde",
          "Matthijs de Ligt",
          "Hee-Chan Hwang",
          "Mikkel Damsgaard",
          "Elliot Anderson",
          "Jaden Philogene-Bidace",
          "Ethan Pinnock",
          "Nathan Collins",
          "Cameron Archer",
          "Tyler Dibling",
          "Ryan Christie",
          "Lisandro Martínez",
          "Levi Colwill",
          "Ryan Yates",
          "Julio Enciso",
          "Yasin Ayari",
          "Milos Kerkez",
          "Simon Adingra",
          "Jake O&#039;Brien",
          "Murillo",
          "Rodrigo Gomes",
          "Mateus Fernandes",
          "Bilal El Khannouss",
          "Matt O&#039;Riley",
          "Ilkay Gündogan",
          "Ashley Young",
          "Christian Eriksen",
          "Jack Grealish",
          "James Ward-Prowse",
          "James Tarkowski",
          "Harry Maguire",
          "Lewis Cook",
          "Casemiro",
          "Carlos Soler",
          "Estupiñán",
          "Leon Bailey",
          "Tosin Adarabioyo",
          "Boubacar Kamara",
          "Ibrahima Konaté",
          "Ben Johnson",
          "Bobby Reid",
          "Conor Coady",
          "Dan Burn",
          "John McGinn",
          "Taiwo Awoniyi",
          "Neco Williams",
          "Chris Richards",
          "Taylor Harwood-Bellis",
          "Wout Faes",
          "Jack Harrison",
          "Maxence Lacroix",
          "Matthew Cash",
          "Leif Davis",
          "Jacob Ramsey",
          "Chimuanya Ugochukwu",
          "Moisés Caicedo",
          "Kamaldeen Sulemana",
          "Vitaly Janelt",
          "Patson Daka",
          "Evan Ferguson",
          "Vitalii Mykolenko",
          "Jens Cajuste",
          "Djed Spence",
          "Jan Paul van Hecke",
          "Keane Lewis-Potter",
          "Flynn Downes",
          "Rico Lewis",
          "Matheus Nunes",
          "Brajan Gruda",
          "Jurriën Timber",
          "Calvin Bassey",
          "Sávio",
          "Manuel Ugarte",
          "Ian Maatsen",
          "Myles Lewis-Skelly",
          "Jacob Greaves",
          "Sam Morsy",
          "Conor Chaplin",
          "Jack Taylor",
          "Mats Wieffer",
          "Yukinari Sugawara",
          "Justin Devenny",
          "Bernd Leno",
          "Kieran Trippier",
          "Idrissa Gueye",
          "Jordan Pickford",
          "Adam Smith",
          "Kyle Walker-Peters",
          "Axel Tuanzebe",
          "Harry Winks",
          "Alisson",
          "Sasa Lukic",
          "Andrew Robertson",
          "Lucas Digne",
          "Jefferson Lerma",
          "Alphonse Areola",
          "Issa Diop",
          "Emiliano Martinez",
          "Kepa",
          "Wilfred Ndidi",
          "Nick Pope",
          "Aaron Ramsdale",
          "Kenny Tete",
          "Lewis Dunk",
          "Ederson",
          "Will Hughes",
          "Daichi Kamada",
          "Timothy Castagne",
          "Nélson Semedo",
          "Pau Torres",
          "Boubakary Soumare",
          "Joachim Andersen",
          "Manuel Akanji",
          "Joe Willock",
          "Konstantinos Mavropanos",
          "Jean-Clair Todibo",
          "Matz Sels",
          "Mark Flekken",
          "Sean Longstaff",
          "Mathias Jensen",
          "Oliver Skipp",
          "Diogo Dalot",
          "Max Kilman",
          "Tyler Adams",
          "James Garner",
          "Dean Henderson",
          "Tyrick Mitchell",
          "Nicolás Domínguez",
          "Guido Rodríguez",
          "Sander Berge",
          "Jarrad Branthwaite",
          "Tommy Doyle",
          "Dara O&#039;Shea",
          "Joël Veltman",
          "Wataru Endo",
          "Iyenoma Destiny Udogie",
          "Guglielmo Vicario",
          "Antonee Robinson",
          "Rúben Dias",
          "Vladimir Coufal",
          "Malo Gusto",
          "Robert Sánchez",
          "Valentino Livramento",
          "David Raya",
          "Kristoffer Ajer",
          "José Sá",
          "Jesper Lindstrom",
          "Archie Gray",
          "Lewis Hall",
          "Toti",
          "Leny Yoro",
          "Noussair Mazraoui",
          "Ryan Gravenberch",
          "Sepp van den Berg",
          "André Onana",
          "Santiago Bueno",
          "Kobbie Mainoo",
          "Victor Kristiansen",
          "Illia Zabarnyi",
          "Bart Verbruggen",
          "Yehor Yarmolyuk",
          "Edson Álvarez",
          "Alex Scott",
          "Adam Wharton",
          "Mads Hermansen",
          "Lucas Bergvall",
          "Jack Clarke",
          "André",
          "Morato",
          "Ryan Manning"
         ],
         "type": "scatter",
         "x": {
          "bdata": "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",
          "dtype": "f8"
         },
         "y": {
          "bdata": "pVZqNa9Hyz9ddNHt7+fMP2NudW5SIcw/PTw87P1vzT9ZU9aoK0rEP0RERMzye80/q6qq6m5kzD8AAADAJqizP57neZJNBsA/xc8o7eNezT9MaC8tebXLP6gRltNY4rw/qSfjD7VGxj9VVSVqBzXDP4miKI72NsU/l5aWZlR1xj8vuuhi3AjGPziO42Skdco/0zRN84GPvT+i4aQWLK/GP2ejvj+hI8g/ayivO6tMxz/lNZRHy/TGP8prKOurUMM/oUKFNgQMyD9aWloel+eyPwAAADiI98o/q6qqdM98yj+kJhjXcpLMP9/3fQfURL8/kAZpQNZXwz9wWPvWRsfCP1Pks+5ei8g/qaoquBFeuj/qvjx2DLTKP3fEHbWjnsM/chzHKUEVvz8AAADCMA/FP56N+hqE2bk/AAAASArKuD99aKzDCTXIP5qZGRH04cU/JchTalQfwz9+BPf9Z8HBP72G8l7pH8c/q6qqMjBRvT/KFcS8lRW+P0eb99HmxLk/WmutWaCSxj/NzEzYw/rCP3TOOT9sDsU/X/EVdxM8wj+P4zh+kYykP9wRd2Rvd7U/VVVV5ZSdyT9EPuv22jPCP85u4S8AFsE/PbYiCKbzwz9ddNFm7jrBP3h4ePabYro/btu21djEvD+XfQ5R5Z+9P2lpabVjWMU/ED74uNzWwD9Y7ml8Hi3EP6bIZy12YLE/j8L1FAkRvT+KndhFHPPCP6qqKkHF3MA/F2zBjk3Auj+vobwmPQq4P2ZmZhzQfL0/8fDwnskFyj8AAAB3TyPHP1VVVbXgAr8/Jr9YQt6muD8AAADO3ua6P1uwBQvUS7g/vYby4sHmuD8VO7Gbb4i3PwAA4OC1LMM/AAAA3w1Ysz91Xx7Tsi6zP3Icx9FRsLk/qqqqiHshsD9F7UpgWgfAP57YiYNGs8A/D+qgki8Avz8AAICY7XXHP6uqqjYR8bI/aWlp8qllwj/ks27YGQnEP7dt23bKg8s/AAAg4FRJwT9iJ3aOyMe7P4QQQpQJusA/7u7uXhKNpT+XlpaO/2TAP6fg5VS0cb0/exSuvzO+yT9cj8IN7/nFP7root8pBck/fQzON9kptz+rqqomM8m5P+gL+qIxS8U/q6qqTEofwj9aWlqmrzTBP2VmZt4QRMk/27ZtNQDbxz/btm03yiHJPz6NsKwvubA/tbS02J8Svj/Fw8OvMWnDP0VERKznC7Q/RhddzU/FsD8W01mUosu8P6alpZEQCMY/MzMz88IBtT88PDyskq+3PxaykB2De74/iy66wIFzpT8AAADwYJLCP4qd2KFRM70/AABABgwOwT8BAAB0YV3DPwAAgMkNorU/0UUXBSS3pD+hvYSmg5K/P2ZmZtjUX8o/0UUXRX9Grj+amZmBHme9P+mii74YibI/MzMzM3IuxD8AAAAuSQzhP9iJnci4Hqg/0UUXjUiuuT97FK5fKfW0P9FFF3ff37Q/q6qqLEdsxD8AAADso3TEP1h8xWcDbrk/zczMvEyLrD+9hvIyltTCPzMzM3OwALg/pqWlZ2/8wz/uaYRpwZPOP5IkSeyBRLw/Ntlk0wE5qT+npaVlYWa5PwAAACwXt8I/J5tskmY2tj/sxE6gmfqqPwAAAOyEbbQ/8xrK6zwIpD+2tLSwt6C3P1VVVRmsBso/pHA97iP3sz9JkiTVJuK4P8MwDCNvir4/iYiIeDacqD8XXXSVS8/BP5jQXh6+PsA/VFVV5QSHpT8AAADol7q2PzMzM6vAsbU/3bZtwUKqtz8AAAB+25u1P////7j1vMI/AAAAgFagsT8AAMBoWQavPxSuRyHceLc/AAAAwGAbqD9JkiSJYzi6Pyd2YovLWrc/AAAACAlMtD+T11BOSwW5P0mSJHl8x8o/AAAAPMBluD8AAAAAJYzUP53neXIEYr8/zjnnhDtVvz+amZmBe/XOP591g8GpybQ/AAAAwDkWwj8zMzOXLxm8P1VVVdd0rMA/n0ZYHuDMvT8zMzOh7Xy3P3ZiJ14/hKM/AAAAhnGJqT9sKK/5XJezPzMzM+3aF7U/zczMujSxoT/LPY1gb4+rP27btjWNS7E/AAAAjP4qvj9VVVVdypm/P0mSJHu3/6U/AAAAyFMiqj8AAADA91mlPwAAAJC+H64/t23bS6nIvT8zMzM98+O2P5mZmSXcAsU/chzHYf3rwD9fdNGF6ZW3P5MkSVaEA7g/27Zt1YhvtD8zMzMzCGy4P1FeQ4nHTa0/XkN5dWlnqj8AAACAnra1PwAAAE/TYMI/TuzEvlBMlz8AAABGtPW2P+U1lBf3kJ8/x3Ecn+NEvz/btm17XnGgPwAAAOhoXr0/AAAAAAAA+P/////HXjWkP1dVVX2FvKM/AAAAAAAA+P8AAABgWdS7P2ZmZob5u60/////ve2jtj/KzMxMDTaTPwAAAAAAAPj/q6qqHpvYtT+9u7tbe7i6P9mJnWjEw64/Yid2shKyoT8AAAAAAAD4/////z/M1rg/AAAAAAAA+P/+////R4KxPxdddA3F9rY/AAAAAAAA+P8AAAAAAAD4/8P1KEQdVrA/q6qqXNidtz8AAAAAAAD4/4wuukBEeKU/mpmZmRICqT8AAAD6JBWnP////3FdS6w/////iZfGqD+RJEly+buiP5qZmWmKqaY/u7u7uzQ8sT+Q4ziiBbK8PwAAADiNoLc/zczMzIhyrD8AAAAAAAD4/wAAAAAAAPj/q6qqUpBYsT////83cPymP2ZmZkae5ag/VVVVE6Efsj87sRO7ZeLAPx3HcdzaAsQ/VVVVHYebqT/n///fPmGGPwAAAEh1Tb4/6Hmei+58tz////8RD9OUP1VVVblzLcI/zszMtYeuwT8cx3Hkp56kPy666Cj9NbI/AAAAHmYEwT8AAAAAAAD4/5qZmZmq57E/AAAAAAAA+P8AAADHu9ywP6uqqg6JSLA/tm3bRqurpz8XXXSJ0huyPwAAAAAAAPj/AAAAOHy7qz8AAAAAAAD4/8dxHMuOP8A/AAAAAAAA+P+SJElUTnSyP+v//38AJ54/jC666F33qD+SJEmGC9/BPzMzM7Px0cw/T+zE9kEKsD/NzMw+WQyxPwAAAOzSfbs/AAAAAAAA+P8AAACQIwasP5qZmUlSbKk//P//z9o6qz+rqqrNasq8PwAAAAAAAPj/5DiOYwRptj+rqqqSMj+bP2ZmZs7Y5Kc/68ROPJRymj8AAAAAAAD4/0YXXXxWW6w/WVpawuWZsz+amZn5QUeePwAAALDjj6o/////+9uNpT8=",
          "dtype": "f8"
         }
        }
       ],
       "layout": {
        "annotations": [
         {
          "font": {
           "color": "black",
           "size": 12
          },
          "showarrow": false,
          "text": "Yoane Wissa",
          "x": 2.7522935779816513,
          "y": 0.25034510587652525
         },
         {
          "font": {
           "color": "black",
           "size": 12
          },
          "showarrow": false,
          "text": "Rodrigo Muniz",
          "x": 3.904555314533623,
          "y": 0.1909580501075834
         },
         {
          "font": {
           "color": "black",
           "size": 12
          },
          "showarrow": false,
          "text": "Jhon Durán",
          "x": 4.9555950266429845,
          "y": 0.1845026501388319
         },
         {
          "font": {
           "color": "black",
           "size": 12
          },
          "showarrow": false,
          "text": "Diogo Jota",
          "x": 3.8636363636363638,
          "y": 0.22012150953213372
         },
         {
          "font": {
           "color": "black",
           "size": 12
          },
          "showarrow": false,
          "text": "Eddie Nketiah",
          "x": 3.9329268292682924,
          "y": 0.18635723550652347
         },
         {
          "font": {
           "color": "black",
           "size": 12
          },
          "showarrow": false,
          "text": "William Saliba",
          "x": 0.1773981603153745,
          "y": 0.5527497385442257
         },
         {
          "font": {
           "color": "black",
           "size": 12
          },
          "showarrow": false,
          "text": "Cameron Archer",
          "x": 1.852377572746629,
          "y": 0.25888414051255276
         },
         {
          "font": {
           "color": "black",
           "size": 12
          },
          "showarrow": false,
          "text": "Julio Enciso",
          "x": 4.006849315068493,
          "y": 0.07269317705040941
         },
         {
          "font": {
           "color": "black",
           "size": 12
          },
          "showarrow": false,
          "text": "Conor Coady",
          "x": 0.10526315789473684,
          "y": 0.3410537433624268
         },
         {
          "font": {
           "color": "black",
           "size": 12
          },
          "showarrow": false,
          "text": "Taiwo Awoniyi",
          "x": 2.479338842975207,
          "y": 0.2618665297329426
         }
        ],
        "height": 700,
        "showlegend": false,
        "template": {
         "data": {
          "bar": [
           {
            "error_x": {
             "color": "#2a3f5f"
            },
            "error_y": {
             "color": "#2a3f5f"
            },
            "marker": {
             "line": {
              "color": "#E5ECF6",
              "width": 0.5
             },
             "pattern": {
              "fillmode": "overlay",
              "size": 10,
              "solidity": 0.2
             }
            },
            "type": "bar"
           }
          ],
          "barpolar": [
           {
            "marker": {
             "line": {
              "color": "#E5ECF6",
              "width": 0.5
             },
             "pattern": {
              "fillmode": "overlay",
              "size": 10,
              "solidity": 0.2
             }
            },
            "type": "barpolar"
           }
          ],
          "carpet": [
           {
            "aaxis": {
             "endlinecolor": "#2a3f5f",
             "gridcolor": "white",
             "linecolor": "white",
             "minorgridcolor": "white",
             "startlinecolor": "#2a3f5f"
            },
            "baxis": {
             "endlinecolor": "#2a3f5f",
             "gridcolor": "white",
             "linecolor": "white",
             "minorgridcolor": "white",
             "startlinecolor": "#2a3f5f"
            },
            "type": "carpet"
           }
          ],
          "choropleth": [
           {
            "colorbar": {
             "outlinewidth": 0,
             "ticks": ""
            },
            "type": "choropleth"
           }
          ],
          "contour": [
           {
            "colorbar": {
             "outlinewidth": 0,
             "ticks": ""
            },
            "colorscale": [
             [
              0,
              "#0d0887"
             ],
             [
              0.1111111111111111,
              "#46039f"
             ],
             [
              0.2222222222222222,
              "#7201a8"
             ],
             [
              0.3333333333333333,
              "#9c179e"
             ],
             [
              0.4444444444444444,
              "#bd3786"
             ],
             [
              0.5555555555555556,
              "#d8576b"
             ],
             [
              0.6666666666666666,
              "#ed7953"
             ],
             [
              0.7777777777777778,
              "#fb9f3a"
             ],
             [
              0.8888888888888888,
              "#fdca26"
             ],
             [
              1,
              "#f0f921"
             ]
            ],
            "type": "contour"
           }
          ],
          "contourcarpet": [
           {
            "colorbar": {
             "outlinewidth": 0,
             "ticks": ""
            },
            "type": "contourcarpet"
           }
          ],
          "heatmap": [
           {
            "colorbar": {
             "outlinewidth": 0,
             "ticks": ""
            },
            "colorscale": [
             [
              0,
              "#0d0887"
             ],
             [
              0.1111111111111111,
              "#46039f"
             ],
             [
              0.2222222222222222,
              "#7201a8"
             ],
             [
              0.3333333333333333,
              "#9c179e"
             ],
             [
              0.4444444444444444,
              "#bd3786"
             ],
             [
              0.5555555555555556,
              "#d8576b"
             ],
             [
              0.6666666666666666,
              "#ed7953"
             ],
             [
              0.7777777777777778,
              "#fb9f3a"
             ],
             [
              0.8888888888888888,
              "#fdca26"
             ],
             [
              1,
              "#f0f921"
             ]
            ],
            "type": "heatmap"
           }
          ],
          "histogram": [
           {
            "marker": {
             "pattern": {
              "fillmode": "overlay",
              "size": 10,
              "solidity": 0.2
             }
            },
            "type": "histogram"
           }
          ],
          "histogram2d": [
           {
            "colorbar": {
             "outlinewidth": 0,
             "ticks": ""
            },
            "colorscale": [
             [
              0,
              "#0d0887"
             ],
             [
              0.1111111111111111,
              "#46039f"
             ],
             [
              0.2222222222222222,
              "#7201a8"
             ],
             [
              0.3333333333333333,
              "#9c179e"
             ],
             [
              0.4444444444444444,
              "#bd3786"
             ],
             [
              0.5555555555555556,
              "#d8576b"
             ],
             [
              0.6666666666666666,
              "#ed7953"
             ],
             [
              0.7777777777777778,
              "#fb9f3a"
             ],
             [
              0.8888888888888888,
              "#fdca26"
             ],
             [
              1,
              "#f0f921"
             ]
            ],
            "type": "histogram2d"
           }
          ],
          "histogram2dcontour": [
           {
            "colorbar": {
             "outlinewidth": 0,
             "ticks": ""
            },
            "colorscale": [
             [
              0,
              "#0d0887"
             ],
             [
              0.1111111111111111,
              "#46039f"
             ],
             [
              0.2222222222222222,
              "#7201a8"
             ],
             [
              0.3333333333333333,
              "#9c179e"
             ],
             [
              0.4444444444444444,
              "#bd3786"
             ],
             [
              0.5555555555555556,
              "#d8576b"
             ],
             [
              0.6666666666666666,
              "#ed7953"
             ],
             [
              0.7777777777777778,
              "#fb9f3a"
             ],
             [
              0.8888888888888888,
              "#fdca26"
             ],
             [
              1,
              "#f0f921"
             ]
            ],
            "type": "histogram2dcontour"
           }
          ],
          "mesh3d": [
           {
            "colorbar": {
             "outlinewidth": 0,
             "ticks": ""
            },
            "type": "mesh3d"
           }
          ],
          "parcoords": [
           {
            "line": {
             "colorbar": {
              "outlinewidth": 0,
              "ticks": ""
             }
            },
            "type": "parcoords"
           }
          ],
          "pie": [
           {
            "automargin": true,
            "type": "pie"
           }
          ],
          "scatter": [
           {
            "fillpattern": {
             "fillmode": "overlay",
             "size": 10,
             "solidity": 0.2
            },
            "type": "scatter"
           }
          ],
          "scatter3d": [
           {
            "line": {
             "colorbar": {
              "outlinewidth": 0,
              "ticks": ""
             }
            },
            "marker": {
             "colorbar": {
              "outlinewidth": 0,
              "ticks": ""
             }
            },
            "type": "scatter3d"
           }
          ],
          "scattercarpet": [
           {
            "marker": {
             "colorbar": {
              "outlinewidth": 0,
              "ticks": ""
             }
            },
            "type": "scattercarpet"
           }
          ],
          "scattergeo": [
           {
            "marker": {
             "colorbar": {
              "outlinewidth": 0,
              "ticks": ""
             }
            },
            "type": "scattergeo"
           }
          ],
          "scattergl": [
           {
            "marker": {
             "colorbar": {
              "outlinewidth": 0,
              "ticks": ""
             }
            },
            "type": "scattergl"
           }
          ],
          "scattermap": [
           {
            "marker": {
             "colorbar": {
              "outlinewidth": 0,
              "ticks": ""
             }
            },
            "type": "scattermap"
           }
          ],
          "scattermapbox": [
           {
            "marker": {
             "colorbar": {
              "outlinewidth": 0,
              "ticks": ""
             }
            },
            "type": "scattermapbox"
           }
          ],
          "scatterpolar": [
           {
            "marker": {
             "colorbar": {
              "outlinewidth": 0,
              "ticks": ""
             }
            },
            "type": "scatterpolar"
           }
          ],
          "scatterpolargl": [
           {
            "marker": {
             "colorbar": {
              "outlinewidth": 0,
              "ticks": ""
             }
            },
            "type": "scatterpolargl"
           }
          ],
          "scatterternary": [
           {
            "marker": {
             "colorbar": {
              "outlinewidth": 0,
              "ticks": ""
             }
            },
            "type": "scatterternary"
           }
          ],
          "surface": [
           {
            "colorbar": {
             "outlinewidth": 0,
             "ticks": ""
            },
            "colorscale": [
             [
              0,
              "#0d0887"
             ],
             [
              0.1111111111111111,
              "#46039f"
             ],
             [
              0.2222222222222222,
              "#7201a8"
             ],
             [
              0.3333333333333333,
              "#9c179e"
             ],
             [
              0.4444444444444444,
              "#bd3786"
             ],
             [
              0.5555555555555556,
              "#d8576b"
             ],
             [
              0.6666666666666666,
              "#ed7953"
             ],
             [
              0.7777777777777778,
              "#fb9f3a"
             ],
             [
              0.8888888888888888,
              "#fdca26"
             ],
             [
              1,
              "#f0f921"
             ]
            ],
            "type": "surface"
           }
          ],
          "table": [
           {
            "cells": {
             "fill": {
              "color": "#EBF0F8"
             },
             "line": {
              "color": "white"
             }
            },
            "header": {
             "fill": {
              "color": "#C8D4E3"
             },
             "line": {
              "color": "white"
             }
            },
            "type": "table"
           }
          ]
         },
         "layout": {
          "annotationdefaults": {
           "arrowcolor": "#2a3f5f",
           "arrowhead": 0,
           "arrowwidth": 1
          },
          "autotypenumbers": "strict",
          "coloraxis": {
           "colorbar": {
            "outlinewidth": 0,
            "ticks": ""
           }
          },
          "colorscale": {
           "diverging": [
            [
             0,
             "#8e0152"
            ],
            [
             0.1,
             "#c51b7d"
            ],
            [
             0.2,
             "#de77ae"
            ],
            [
             0.3,
             "#f1b6da"
            ],
            [
             0.4,
             "#fde0ef"
            ],
            [
             0.5,
             "#f7f7f7"
            ],
            [
             0.6,
             "#e6f5d0"
            ],
            [
             0.7,
             "#b8e186"
            ],
            [
             0.8,
             "#7fbc41"
            ],
            [
             0.9,
             "#4d9221"
            ],
            [
             1,
             "#276419"
            ]
           ],
           "sequential": [
            [
             0,
             "#0d0887"
            ],
            [
             0.1111111111111111,
             "#46039f"
            ],
            [
             0.2222222222222222,
             "#7201a8"
            ],
            [
             0.3333333333333333,
             "#9c179e"
            ],
            [
             0.4444444444444444,
             "#bd3786"
            ],
            [
             0.5555555555555556,
             "#d8576b"
            ],
            [
             0.6666666666666666,
             "#ed7953"
            ],
            [
             0.7777777777777778,
             "#fb9f3a"
            ],
            [
             0.8888888888888888,
             "#fdca26"
            ],
            [
             1,
             "#f0f921"
            ]
           ],
           "sequentialminus": [
            [
             0,
             "#0d0887"
            ],
            [
             0.1111111111111111,
             "#46039f"
            ],
            [
             0.2222222222222222,
             "#7201a8"
            ],
            [
             0.3333333333333333,
             "#9c179e"
            ],
            [
             0.4444444444444444,
             "#bd3786"
            ],
            [
             0.5555555555555556,
             "#d8576b"
            ],
            [
             0.6666666666666666,
             "#ed7953"
            ],
            [
             0.7777777777777778,
             "#fb9f3a"
            ],
            [
             0.8888888888888888,
             "#fdca26"
            ],
            [
             1,
             "#f0f921"
            ]
           ]
          },
          "colorway": [
           "#636efa",
           "#EF553B",
           "#00cc96",
           "#ab63fa",
           "#FFA15A",
           "#19d3f3",
           "#FF6692",
           "#B6E880",
           "#FF97FF",
           "#FECB52"
          ],
          "font": {
           "color": "#2a3f5f"
          },
          "geo": {
           "bgcolor": "white",
           "lakecolor": "white",
           "landcolor": "#E5ECF6",
           "showlakes": true,
           "showland": true,
           "subunitcolor": "white"
          },
          "hoverlabel": {
           "align": "left"
          },
          "hovermode": "closest",
          "mapbox": {
           "style": "light"
          },
          "paper_bgcolor": "white",
          "plot_bgcolor": "#E5ECF6",
          "polar": {
           "angularaxis": {
            "gridcolor": "white",
            "linecolor": "white",
            "ticks": ""
           },
           "bgcolor": "#E5ECF6",
           "radialaxis": {
            "gridcolor": "white",
            "linecolor": "white",
            "ticks": ""
           }
          },
          "scene": {
           "xaxis": {
            "backgroundcolor": "#E5ECF6",
            "gridcolor": "white",
            "gridwidth": 2,
            "linecolor": "white",
            "showbackground": true,
            "ticks": "",
            "zerolinecolor": "white"
           },
           "yaxis": {
            "backgroundcolor": "#E5ECF6",
            "gridcolor": "white",
            "gridwidth": 2,
            "linecolor": "white",
            "showbackground": true,
            "ticks": "",
            "zerolinecolor": "white"
           },
           "zaxis": {
            "backgroundcolor": "#E5ECF6",
            "gridcolor": "white",
            "gridwidth": 2,
            "linecolor": "white",
            "showbackground": true,
            "ticks": "",
            "zerolinecolor": "white"
           }
          },
          "shapedefaults": {
           "line": {
            "color": "#2a3f5f"
           }
          },
          "ternary": {
           "aaxis": {
            "gridcolor": "white",
            "linecolor": "white",
            "ticks": ""
           },
           "baxis": {
            "gridcolor": "white",
            "linecolor": "white",
            "ticks": ""
           },
           "bgcolor": "#E5ECF6",
           "caxis": {
            "gridcolor": "white",
            "linecolor": "white",
            "ticks": ""
           }
          },
          "title": {
           "x": 0.05
          },
          "xaxis": {
           "automargin": true,
           "gridcolor": "white",
           "linecolor": "white",
           "ticks": "",
           "title": {
            "standoff": 15
           },
           "zerolinecolor": "white",
           "zerolinewidth": 2
          },
          "yaxis": {
           "automargin": true,
           "gridcolor": "white",
           "linecolor": "white",
           "ticks": "",
           "title": {
            "standoff": 15
           },
           "zerolinecolor": "white",
           "zerolinewidth": 2
          }
         }
        },
        "title": {
         "text": "Shot Quality vs. Shot Volume (Minimum 20 Games Played)"
        },
        "width": 950,
        "xaxis": {
         "title": {
          "text": "Shots per 90"
         }
        },
        "yaxis": {
         "title": {
          "text": "xG per Shot"
         }
        }
       }
      }
     },
     "metadata": {},
     "output_type": "display_data"
    }
   ],
   "source": [
    "import plotly.graph_objects as go\n",
    "\n",
    "# Identify top players\n",
    "top_clinical = filtered_df.sort_values(by='xG per Shot', ascending=False).head(5)\n",
    "top_volume = filtered_df.sort_values(by='Shots per 90', ascending=False).head(5)\n",
    "\n",
    "# Combine unique players from both groups\n",
    "highlight_players = pd.concat([top_clinical, top_volume]).drop_duplicates(subset='Player')\n",
    "\n",
    "filtered_df['Label'] = filtered_df['Player'].apply(lambda x: x if x in highlight_players['Player'].values else '')\n",
    "\n",
    "fig = go.Figure()\n",
    "\n",
    "# Plot all players\n",
    "fig.add_trace(go.Scatter(\n",
    "    x=filtered_df['Shots per 90'],\n",
    "    y=filtered_df['xG per Shot'],\n",
    "    mode='markers',\n",
    "    marker=dict(size=10, opacity=0.7),\n",
    "    text=filtered_df['Player'],\n",
    "    hoverinfo='text',\n",
    "    marker_color=filtered_df['Team'].astype('category').cat.codes \n",
    "))\n",
    "\n",
    "for _, row in filtered_df[filtered_df['Label'] != ''].iterrows():\n",
    "    fig.add_annotation(\n",
    "        x=row['Shots per 90'],\n",
    "        y=row['xG per Shot'] + 0.02,\n",
    "        text=row['Player'],\n",
    "        showarrow=False,\n",
    "        font=dict(size=12, color='black')\n",
    "    )\n",
    "\n",
    "fig.update_layout(\n",
    "    title='Shot Quality vs. Shot Volume (Minimum 20 Games Played)',\n",
    "    xaxis_title='Shots per 90',\n",
    "    yaxis_title='xG per Shot',\n",
    "    width=950,\n",
    "    height=700,\n",
    "    showlegend=False\n",
    ")\n",
    "\n",
    "fig.show()"
   ]
  },
  {
   "cell_type": "code",
   "execution_count": 7,
   "id": "a6c2f27c-b093-4281-92d0-ca7f3422aff1",
   "metadata": {},
   "outputs": [
    {
     "name": "stdout",
     "output_type": "stream",
     "text": [
      "Top 5 Clinical Finishers (Highest xG per Shot):\n"
     ]
    },
    {
     "data": {
      "text/html": [
       "<style type=\"text/css\">\n",
       "#T_0d0f9_row0_col0, #T_0d0f9_row0_col1, #T_0d0f9_row0_col2, #T_0d0f9_row0_col3, #T_0d0f9_row0_col4, #T_0d0f9_row0_col5, #T_0d0f9_row1_col0, #T_0d0f9_row1_col1, #T_0d0f9_row1_col2, #T_0d0f9_row1_col3, #T_0d0f9_row1_col4, #T_0d0f9_row1_col5, #T_0d0f9_row2_col0, #T_0d0f9_row2_col1, #T_0d0f9_row2_col2, #T_0d0f9_row2_col3, #T_0d0f9_row2_col4, #T_0d0f9_row2_col5, #T_0d0f9_row3_col0, #T_0d0f9_row3_col1, #T_0d0f9_row3_col2, #T_0d0f9_row3_col3, #T_0d0f9_row3_col4, #T_0d0f9_row3_col5, #T_0d0f9_row4_col0, #T_0d0f9_row4_col1, #T_0d0f9_row4_col2, #T_0d0f9_row4_col3, #T_0d0f9_row4_col4, #T_0d0f9_row4_col5 {\n",
       "  text-align: center;\n",
       "}\n",
       "</style>\n",
       "<table id=\"T_0d0f9\">\n",
       "  <thead>\n",
       "    <tr>\n",
       "      <th class=\"blank level0\" >&nbsp;</th>\n",
       "      <th id=\"T_0d0f9_level0_col0\" class=\"col_heading level0 col0\" >Player</th>\n",
       "      <th id=\"T_0d0f9_level0_col1\" class=\"col_heading level0 col1\" >Team</th>\n",
       "      <th id=\"T_0d0f9_level0_col2\" class=\"col_heading level0 col2\" >Position</th>\n",
       "      <th id=\"T_0d0f9_level0_col3\" class=\"col_heading level0 col3\" >Games</th>\n",
       "      <th id=\"T_0d0f9_level0_col4\" class=\"col_heading level0 col4\" >xG per Shot</th>\n",
       "      <th id=\"T_0d0f9_level0_col5\" class=\"col_heading level0 col5\" >Shots per 90</th>\n",
       "    </tr>\n",
       "  </thead>\n",
       "  <tbody>\n",
       "    <tr>\n",
       "      <th id=\"T_0d0f9_level0_row0\" class=\"row_heading level0 row0\" >144</th>\n",
       "      <td id=\"T_0d0f9_row0_col0\" class=\"data row0 col0\" >William Saliba</td>\n",
       "      <td id=\"T_0d0f9_row0_col1\" class=\"data row0 col1\" >Arsenal</td>\n",
       "      <td id=\"T_0d0f9_row0_col2\" class=\"data row0 col2\" >D</td>\n",
       "      <td id=\"T_0d0f9_row0_col3\" class=\"data row0 col3\" >35</td>\n",
       "      <td id=\"T_0d0f9_row0_col4\" class=\"data row0 col4\" >0.53</td>\n",
       "      <td id=\"T_0d0f9_row0_col5\" class=\"data row0 col5\" >0.18</td>\n",
       "    </tr>\n",
       "    <tr>\n",
       "      <th id=\"T_0d0f9_level0_row1\" class=\"row_heading level0 row1\" >204</th>\n",
       "      <td id=\"T_0d0f9_row1_col0\" class=\"data row1 col0\" >Conor Coady</td>\n",
       "      <td id=\"T_0d0f9_row1_col1\" class=\"data row1 col1\" >Leicester</td>\n",
       "      <td id=\"T_0d0f9_row1_col2\" class=\"data row1 col2\" >D S</td>\n",
       "      <td id=\"T_0d0f9_row1_col3\" class=\"data row1 col3\" >22</td>\n",
       "      <td id=\"T_0d0f9_row1_col4\" class=\"data row1 col4\" >0.32</td>\n",
       "      <td id=\"T_0d0f9_row1_col5\" class=\"data row1 col5\" >0.11</td>\n",
       "    </tr>\n",
       "    <tr>\n",
       "      <th id=\"T_0d0f9_level0_row2\" class=\"row_heading level0 row2\" >212</th>\n",
       "      <td id=\"T_0d0f9_row2_col0\" class=\"data row2 col0\" >Taiwo Awoniyi</td>\n",
       "      <td id=\"T_0d0f9_row2_col1\" class=\"data row2 col1\" >Nottingham Forest</td>\n",
       "      <td id=\"T_0d0f9_row2_col2\" class=\"data row2 col2\" >F S</td>\n",
       "      <td id=\"T_0d0f9_row2_col3\" class=\"data row2 col3\" >26</td>\n",
       "      <td id=\"T_0d0f9_row2_col4\" class=\"data row2 col4\" >0.24</td>\n",
       "      <td id=\"T_0d0f9_row2_col5\" class=\"data row2 col5\" >2.48</td>\n",
       "    </tr>\n",
       "    <tr>\n",
       "      <th id=\"T_0d0f9_level0_row3\" class=\"row_heading level0 row3\" >162</th>\n",
       "      <td id=\"T_0d0f9_row3_col0\" class=\"data row3 col0\" >Cameron Archer</td>\n",
       "      <td id=\"T_0d0f9_row3_col1\" class=\"data row3 col1\" >Southampton</td>\n",
       "      <td id=\"T_0d0f9_row3_col2\" class=\"data row3 col2\" >F S</td>\n",
       "      <td id=\"T_0d0f9_row3_col3\" class=\"data row3 col3\" >35</td>\n",
       "      <td id=\"T_0d0f9_row3_col4\" class=\"data row3 col4\" >0.24</td>\n",
       "      <td id=\"T_0d0f9_row3_col5\" class=\"data row3 col5\" >1.85</td>\n",
       "    </tr>\n",
       "    <tr>\n",
       "      <th id=\"T_0d0f9_level0_row4\" class=\"row_heading level0 row4\" >5</th>\n",
       "      <td id=\"T_0d0f9_row4_col0\" class=\"data row4 col0\" >Yoane Wissa</td>\n",
       "      <td id=\"T_0d0f9_row4_col1\" class=\"data row4 col1\" >Brentford</td>\n",
       "      <td id=\"T_0d0f9_row4_col2\" class=\"data row4 col2\" >F M S</td>\n",
       "      <td id=\"T_0d0f9_row4_col3\" class=\"data row4 col3\" >35</td>\n",
       "      <td id=\"T_0d0f9_row4_col4\" class=\"data row4 col4\" >0.23</td>\n",
       "      <td id=\"T_0d0f9_row4_col5\" class=\"data row4 col5\" >2.75</td>\n",
       "    </tr>\n",
       "  </tbody>\n",
       "</table>\n"
      ],
      "text/plain": [
       "<pandas.io.formats.style.Styler at 0x2184b847710>"
      ]
     },
     "metadata": {},
     "output_type": "display_data"
    },
    {
     "name": "stdout",
     "output_type": "stream",
     "text": [
      "\n",
      "Top 5 Volume Shooters (Highest Shots per 90):\n"
     ]
    },
    {
     "data": {
      "text/html": [
       "<style type=\"text/css\">\n",
       "#T_ddb44_row0_col0, #T_ddb44_row0_col1, #T_ddb44_row0_col2, #T_ddb44_row0_col3, #T_ddb44_row0_col4, #T_ddb44_row0_col5, #T_ddb44_row1_col0, #T_ddb44_row1_col1, #T_ddb44_row1_col2, #T_ddb44_row1_col3, #T_ddb44_row1_col4, #T_ddb44_row1_col5, #T_ddb44_row2_col0, #T_ddb44_row2_col1, #T_ddb44_row2_col2, #T_ddb44_row2_col3, #T_ddb44_row2_col4, #T_ddb44_row2_col5, #T_ddb44_row3_col0, #T_ddb44_row3_col1, #T_ddb44_row3_col2, #T_ddb44_row3_col3, #T_ddb44_row3_col4, #T_ddb44_row3_col5, #T_ddb44_row4_col0, #T_ddb44_row4_col1, #T_ddb44_row4_col2, #T_ddb44_row4_col3, #T_ddb44_row4_col4, #T_ddb44_row4_col5 {\n",
       "  text-align: center;\n",
       "}\n",
       "</style>\n",
       "<table id=\"T_ddb44\">\n",
       "  <thead>\n",
       "    <tr>\n",
       "      <th class=\"blank level0\" >&nbsp;</th>\n",
       "      <th id=\"T_ddb44_level0_col0\" class=\"col_heading level0 col0\" >Player</th>\n",
       "      <th id=\"T_ddb44_level0_col1\" class=\"col_heading level0 col1\" >Team</th>\n",
       "      <th id=\"T_ddb44_level0_col2\" class=\"col_heading level0 col2\" >Position</th>\n",
       "      <th id=\"T_ddb44_level0_col3\" class=\"col_heading level0 col3\" >Games</th>\n",
       "      <th id=\"T_ddb44_level0_col4\" class=\"col_heading level0 col4\" >xG per Shot</th>\n",
       "      <th id=\"T_ddb44_level0_col5\" class=\"col_heading level0 col5\" >Shots per 90</th>\n",
       "    </tr>\n",
       "  </thead>\n",
       "  <tbody>\n",
       "    <tr>\n",
       "      <th id=\"T_ddb44_level0_row0\" class=\"row_heading level0 row0\" >51</th>\n",
       "      <td id=\"T_ddb44_row0_col0\" class=\"data row0 col0\" >Jhon Durán</td>\n",
       "      <td id=\"T_ddb44_row0_col1\" class=\"data row0 col1\" >Aston Villa</td>\n",
       "      <td id=\"T_ddb44_row0_col2\" class=\"data row0 col2\" >F S</td>\n",
       "      <td id=\"T_ddb44_row0_col3\" class=\"data row0 col3\" >20</td>\n",
       "      <td id=\"T_ddb44_row0_col4\" class=\"data row0 col4\" >0.16</td>\n",
       "      <td id=\"T_ddb44_row0_col5\" class=\"data row0 col5\" >4.96</td>\n",
       "    </tr>\n",
       "    <tr>\n",
       "      <th id=\"T_ddb44_level0_row1\" class=\"row_heading level0 row1\" >168</th>\n",
       "      <td id=\"T_ddb44_row1_col0\" class=\"data row1 col0\" >Julio Enciso</td>\n",
       "      <td id=\"T_ddb44_row1_col1\" class=\"data row1 col1\" >Ipswich</td>\n",
       "      <td id=\"T_ddb44_row1_col2\" class=\"data row1 col2\" >M S</td>\n",
       "      <td id=\"T_ddb44_row1_col3\" class=\"data row1 col3\" >25</td>\n",
       "      <td id=\"T_ddb44_row1_col4\" class=\"data row1 col4\" >0.05</td>\n",
       "      <td id=\"T_ddb44_row1_col5\" class=\"data row1 col5\" >4.01</td>\n",
       "    </tr>\n",
       "    <tr>\n",
       "      <th id=\"T_ddb44_level0_row2\" class=\"row_heading level0 row2\" >111</th>\n",
       "      <td id=\"T_ddb44_row2_col0\" class=\"data row2 col0\" >Eddie Nketiah</td>\n",
       "      <td id=\"T_ddb44_row2_col1\" class=\"data row2 col1\" >Crystal Palace</td>\n",
       "      <td id=\"T_ddb44_row2_col2\" class=\"data row2 col2\" >F M S</td>\n",
       "      <td id=\"T_ddb44_row2_col3\" class=\"data row2 col3\" >29</td>\n",
       "      <td id=\"T_ddb44_row2_col4\" class=\"data row2 col4\" >0.17</td>\n",
       "      <td id=\"T_ddb44_row2_col5\" class=\"data row2 col5\" >3.93</td>\n",
       "    </tr>\n",
       "    <tr>\n",
       "      <th id=\"T_ddb44_level0_row3\" class=\"row_heading level0 row3\" >41</th>\n",
       "      <td id=\"T_ddb44_row3_col0\" class=\"data row3 col0\" >Rodrigo Muniz</td>\n",
       "      <td id=\"T_ddb44_row3_col1\" class=\"data row3 col1\" >Fulham</td>\n",
       "      <td id=\"T_ddb44_row3_col2\" class=\"data row3 col2\" >F S</td>\n",
       "      <td id=\"T_ddb44_row3_col3\" class=\"data row3 col3\" >31</td>\n",
       "      <td id=\"T_ddb44_row3_col4\" class=\"data row3 col4\" >0.17</td>\n",
       "      <td id=\"T_ddb44_row3_col5\" class=\"data row3 col5\" >3.90</td>\n",
       "    </tr>\n",
       "    <tr>\n",
       "      <th id=\"T_ddb44_level0_row4\" class=\"row_heading level0 row4\" >55</th>\n",
       "      <td id=\"T_ddb44_row4_col0\" class=\"data row4 col0\" >Diogo Jota</td>\n",
       "      <td id=\"T_ddb44_row4_col1\" class=\"data row4 col1\" >Liverpool</td>\n",
       "      <td id=\"T_ddb44_row4_col2\" class=\"data row4 col2\" >F S</td>\n",
       "      <td id=\"T_ddb44_row4_col3\" class=\"data row4 col3\" >26</td>\n",
       "      <td id=\"T_ddb44_row4_col4\" class=\"data row4 col4\" >0.20</td>\n",
       "      <td id=\"T_ddb44_row4_col5\" class=\"data row4 col5\" >3.86</td>\n",
       "    </tr>\n",
       "  </tbody>\n",
       "</table>\n"
      ],
      "text/plain": [
       "<pandas.io.formats.style.Styler at 0x2184b847710>"
      ]
     },
     "metadata": {},
     "output_type": "display_data"
    }
   ],
   "source": [
    "# Identify top 5 clinical finishers (highest xG per Shot)\n",
    "top_clinical_finishers = filtered_df.sort_values(by='xG per Shot', ascending=False).head(5)[\n",
    "    ['Player', 'Team', 'Position', 'Games', 'xG per Shot', 'Shots per 90']\n",
    "]\n",
    "\n",
    "# Identify top 5 volume shooters (highest Shots per 90)\n",
    "top_volume_shooters = filtered_df.sort_values(by='Shots per 90', ascending=False).head(5)[\n",
    "    ['Player', 'Team', 'Position', 'Games', 'xG per Shot', 'Shots per 90']\n",
    "]\n",
    "\n",
    "print(\"Top 5 Clinical Finishers (Highest xG per Shot):\")\n",
    "display(top_clinical_finishers.style.format({'xG per Shot': '{:.2f}', 'Shots per 90': '{:.2f}'}).set_properties(**{'text-align': 'center'}))\n",
    "\n",
    "print(\"\\nTop 5 Volume Shooters (Highest Shots per 90):\")\n",
    "display(top_volume_shooters.style.format({'xG per Shot': '{:.2f}', 'Shots per 90': '{:.2f}'}).set_properties(**{'text-align': 'center'}))"
   ]
  },
  {
   "cell_type": "markdown",
   "id": "ea001f3e-ceac-4bbf-bd40-7c90f73d0df9",
   "metadata": {},
   "source": [
    "## Key Takeaways : Player Shooting Profiles\n",
    "\n",
    "Based on the analysis of shooting efficiency and shot volume among players who have played at least 20 games in the 2024/25 Premier League season:\n",
    "\n",
    "- **Clinical Finishers:**  \n",
    "  These players exhibit the highest expected goals per shot (xG per Shot), suggesting they consistently take high-quality shots and convert chances efficiently. Their strength lies in shot quality rather than shooting frequency.\n",
    "\n",
    "- **Volume Shooters:**  \n",
    "  These players register the highest number of shots per 90 minutes, indicating their active involvement in the attacking phase with frequent shot attempts. However, high shot volume does not necessarily correlate with shooting efficiency.\n",
    "\n",
    "This distinction allows us to understand whether a player contributes through elite finishing ability or through sustained attacking involvement.\n",
    "\n",
    "The tables above present the top five players in each category, including their teams, positions, games played, xG per shot, and shots per 90 minutes."
   ]
  },
  {
   "cell_type": "markdown",
   "id": "3dd4b28d-5a56-4208-9cc9-164b54dc0ad1",
   "metadata": {},
   "source": [
    "---\n",
    "### Step 6 - Visualizing Top Performers: Clinical Finishers and Volume Shooters\n",
    "\n",
    "In this step, we will visualize:\n",
    "- The top 10 **clinical finishers**: players with the highest expected goals per shot (xG per Shot).\n",
    "- The top 10 **volume shooters**: players who take the most shots per 90 minutes.\n",
    "\n",
    "These bar plots provide a quick visual reference to identify standout players in terms of both shooting efficiency and shot volume.\n",
    "\n",
    "### Plot Details:\n",
    "- A **Blues palette** is used to represent clinical finishers, emphasizing shooting efficiency.\n",
    "- A **Reds palette** is used to represent volume shooters, emphasizing shot-taking frequency.\n"
   ]
  },
  {
   "cell_type": "code",
   "execution_count": 8,
   "id": "7efe9fd4-31c5-4064-8a97-13c1341ccbb1",
   "metadata": {},
   "outputs": [
    {
     "name": "stderr",
     "output_type": "stream",
     "text": [
      "C:\\Users\\Admin\\AppData\\Local\\Temp\\ipykernel_9404\\4134946192.py:10: FutureWarning:\n",
      "\n",
      "\n",
      "\n",
      "Passing `palette` without assigning `hue` is deprecated and will be removed in v0.14.0. Assign the `y` variable to `hue` and set `legend=False` for the same effect.\n",
      "\n",
      "\n"
     ]
    },
    {
     "data": {
      "image/png": "[encoded data removed]",
      "text/plain": [
       "<Figure size 1200x600 with 1 Axes>"
      ]
     },
     "metadata": {},
     "output_type": "display_data"
    },
    {
     "name": "stderr",
     "output_type": "stream",
     "text": [
      "C:\\Users\\Admin\\AppData\\Local\\Temp\\ipykernel_9404\\4134946192.py:20: FutureWarning:\n",
      "\n",
      "\n",
      "\n",
      "Passing `palette` without assigning `hue` is deprecated and will be removed in v0.14.0. Assign the `y` variable to `hue` and set `legend=False` for the same effect.\n",
      "\n",
      "\n"
     ]
    },
    {
     "data": {
      "image/png": "[encoded data removed]",
      "text/plain": [
       "<Figure size 1200x600 with 1 Axes>"
      ]
     },
     "metadata": {},
     "output_type": "display_data"
    }
   ],
   "source": [
    "import matplotlib.pyplot as plt\n",
    "import seaborn as sns\n",
    "\n",
    "sns.set(style=\"whitegrid\")\n",
    "\n",
    "# Top 10 Clinical Finishers (High xG per Shot)\n",
    "top_clinical = filtered_df.sort_values(by='xG per Shot', ascending=False).head(10)\n",
    "\n",
    "plt.figure(figsize=(12, 6))\n",
    "sns.barplot(data=top_clinical, x='xG per Shot', y='Player', palette='Blues_d')\n",
    "plt.title('Top 10 Clinical Finishers (xG per Shot)')\n",
    "plt.xlabel('Expected Goals per Shot')\n",
    "plt.ylabel('Player')\n",
    "plt.show()\n",
    "\n",
    "# Top 10 Volume Shooters (High Shots per 90)\n",
    "top_volume = filtered_df.sort_values(by='Shots per 90', ascending=False).head(10)\n",
    "\n",
    "plt.figure(figsize=(12, 6))\n",
    "sns.barplot(data=top_volume, x='Shots per 90', y='Player', palette='Reds_d')\n",
    "plt.title('Top 10 Volume Shooters (Shots per 90)')\n",
    "plt.xlabel('Shots per 90')\n",
    "plt.ylabel('Player')\n",
    "plt.show()"
   ]
  },
  {
   "cell_type": "markdown",
   "id": "446c62c4-4cd1-4eb1-9ff9-0035ebbece39",
   "metadata": {},
   "source": [
    "---\n",
    "# Conclusion: Player Efficiency and Shot Profiles\n",
    "\n",
    "This analysis provided detailed insights into the shooting profiles of Premier League players for the 2024/25 season.\n",
    "\n",
    "## Key Takeaways :\n",
    "- **Clinical Finishers:** These players consistently generated high-quality shots, as reflected by their high expected goals per shot (xG per Shot). They demonstrated superior shot selection and efficiency, often needing fewer attempts to produce significant goal-scoring opportunities.\n",
    "- **Volume Shooters:** These players contributed heavily through frequent shot attempts, maintaining high attacking involvement. However, high volume does not always equate to clinical finishing.\n",
    "\n",
    "By distinguishing between clinical finishers and volume shooters, we gain a deeper understanding of each player’s attacking style and contribution. Some players excel by maximizing the quality of fewer chances, while others influence games through relentless shot generation.\n",
    "\n",
    "This profiling can support more nuanced player evaluation, tactical decisions, and scouting assessments.\n",
    "\n",
    "---"
   ]
  }
 ],
 "metadata": {
  "kernelspec": {
   "display_name": "Python 3 (ipykernel)",
   "language": "python",
   "name": "python3"
  },
  "language_info": {
   "codemirror_mode": {
    "name": "ipython",
    "version": 3
   },
   "file_extension": ".py",
   "mimetype": "text/x-python",
   "name": "python",
   "nbconvert_exporter": "python",
   "pygments_lexer": "ipython3",
   "version": "3.11.9"
  }
 },
 "nbformat": 4,
 "nbformat_minor": 5
}
