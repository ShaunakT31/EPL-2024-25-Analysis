{
 "cells": [
  {
   "cell_type": "markdown",
   "id": "1dfdee56-8338-4268-b78b-ecda3370e910",
   "metadata": {},
   "source": [
    "# Analysis : Team Dependency on Star Players – Premier League 2024/25\n",
    "\n",
    "## Objective\n",
    "This analysis investigates how heavily English Premier League (EPL) teams rely on their key players for attacking contributions during the 2024/25 season. By examining the distribution of goals, assists, and key passes within each team, the aim was to identify:\n",
    "- Teams that are overly dependent on a small number of star players.\n",
    "- Teams that have a more balanced spread of attacking responsibilities.\n",
    "\n",
    "## Key Questions Analyzed\n",
    "1. **Which players contribute the highest proportion of their team's goals, assists, and key passes?**\n",
    "2. **Are certain teams highly reliant on one or two players for their attacking output?**\n",
    "3. **Which teams display a more distributed offensive contribution across their squad?**\n",
    "4. **How does player dependency vary across teams with different standings (top-tier, mid-table, relegation-threatened)?**\n",
    "\n",
    "---"
   ]
  },
  {
   "cell_type": "markdown",
   "id": "9981414d-d451-49d1-8466-8b20e1373e76",
   "metadata": {},
   "source": [
    "## Step 1: Importing Libraries & Loading Scraped Data\n",
    "\n",
    "In this step, the essential libraries for data handling, visualization, and numerical analysis were imported. Additionally, the CSV file containing player performance statistics from the 2024/25 Premier League season, previously obtained through web scraping, was loaded for further analysis."
   ]
  },
  {
   "cell_type": "code",
   "execution_count": 18,
   "id": "5c38db19-a8b5-4c1d-8efe-5e0371dd6771",
   "metadata": {},
   "outputs": [],
   "source": [
    "# Data handling\n",
    "import pandas as pd\n",
    "import numpy as np\n",
    "\n",
    "# Visualization\n",
    "import matplotlib.pyplot as plt\n",
    "import seaborn as sns\n",
    "\n",
    "plt.style.use('seaborn-v0_8')\n",
    "plt.rcParams['figure.figsize'] = (12, 7)\n",
    "plt.rcParams['axes.grid'] = True\n",
    "\n",
    "players_df = pd.read_csv('EPL_2024_25_Understat.csv')"
   ]
  },
  {
   "cell_type": "markdown",
   "id": "b80d9eeb-6293-4000-ba81-acd1ab4c1ceb",
   "metadata": {},
   "source": [
    "---\n",
    "## Step 2: Clean and Rename Columns\n",
    "\n",
    "To enhance readability and maintain consistency throughout the analysis, certain columns were renamed using more intuitive and descriptive labels."
   ]
  },
  {
   "cell_type": "code",
   "execution_count": 19,
   "id": "7af19c62-45fe-40c6-ae67-b2988db8a430",
   "metadata": {},
   "outputs": [
    {
     "name": "stdout",
     "output_type": "stream",
     "text": [
      "Dataset shape: (562, 18)\n",
      "Columns: Index(['id', 'Player', 'Games', 'Minutes Played', 'Goals', 'xG', 'Assists',\n",
      "       'xA', 'Shots', 'Key Passes', 'Yellow Cards', 'Red Cards', 'Position',\n",
      "       'Team', 'npg', 'npxG', 'xG Chain', 'xG Buildup'],\n",
      "      dtype='object')\n"
     ]
    }
   ],
   "source": [
    "players_df.rename(columns={\n",
    "    'games' : 'Games',\n",
    "    'time' : 'Minutes Played',\n",
    "    'goals' : 'Goals',\n",
    "    'assists' : 'Assists',\n",
    "    'shots' : 'Shots',\n",
    "    'key_passes' : 'Key Passes',\n",
    "    'yellow_cards' : 'Yellow Cards',\n",
    "    'red_cards' : 'Red Cards',\n",
    "    'position' : 'Position',\n",
    "    'player_name': 'Player',\n",
    "    'team_title': 'Team',\n",
    "    'xGChain': 'xG Chain',\n",
    "    'xGBuildup': 'xG Buildup'\n",
    "}, inplace=True)\n",
    "\n",
    "# Check the shape of the dataset\n",
    "print(\"Dataset shape:\", players_df.shape)\n",
    "\n",
    "# List all column names\n",
    "print(\"Columns:\", players_df.columns)"
   ]
  },
  {
   "cell_type": "markdown",
   "id": "5b1c13e6-49d5-4570-a529-c866b9bac4ef",
   "metadata": {},
   "source": [
    "---\n",
    "## Step 3: Cleaning Team Data for Multi-Club Players\n",
    "\n",
    "During the season, some players transfer between clubs, which may result in multiple teams being listed in the dataset for a single player (e.g., \"Arsenal, Fulham\"). To ensure each player is correctly associated with only one team, the most recent club was retained."
   ]
  },
  {
   "cell_type": "code",
   "execution_count": 20,
   "id": "3af2803f-e02a-4cd6-a796-0b228ae0ba93",
   "metadata": {},
   "outputs": [
    {
     "name": "stdout",
     "output_type": "stream",
     "text": [
      "Unique teams after cleaning:\n",
      "['Liverpool' 'Newcastle United' 'Manchester City' 'Nottingham Forest'\n",
      " 'Brentford' 'Aston Villa' 'Wolverhampton Wanderers' 'Chelsea'\n",
      " 'Crystal Palace' 'West Ham' 'Fulham' 'Bournemouth' 'Ipswich' 'Tottenham'\n",
      " 'Brighton' 'Leicester' 'Arsenal' 'Everton' 'Manchester United'\n",
      " 'Southampton']\n"
     ]
    }
   ],
   "source": [
    "players_df['Team'] = players_df['Team'].apply(lambda x: x.split(',')[-1].strip())\n",
    "\n",
    "# Verify the cleaning\n",
    "print(\"Unique teams after cleaning:\")\n",
    "print(players_df['Team'].unique())"
   ]
  },
  {
   "cell_type": "markdown",
   "id": "fcceced9-7d89-4a5b-a57b-dc5140831fd0",
   "metadata": {},
   "source": [
    "---\n",
    "## Step 4: Calculating Individual Contribution Percentages\n",
    "\n",
    "To understand player dependency within teams, the percentage contribution of each player to their team's total goals, assists and key passes, was calculated.\n",
    "\n",
    "The following formulas were used:\n",
    "- **Goal Contribution %** = (Player's Goals ÷ Team's Total Goals) × 100\n",
    "- **Assist Contribution %** = (Player's Assists ÷ Team's Total Assists) × 100\n",
    "- **Key Pass Contribution %** = (Player's Key Passes ÷ Team's Total Key Passes) × 100\n",
    "\n",
    "These percentages help in identifying how much each player contributes to their team’s attacking output, and whether certain teams are overly reliant on individual players."
   ]
  },
  {
   "cell_type": "code",
   "execution_count": 21,
   "id": "5d0f8ffa-af6e-4d6e-9d32-1b9a74f7f3a4",
   "metadata": {},
   "outputs": [],
   "source": [
    "# Recalculate team totals after cleaning\n",
    "team_totals = players_df.groupby('Team').agg({\n",
    "    'Goals': 'sum',\n",
    "    'Assists': 'sum',\n",
    "    'Key Passes': 'sum'\n",
    "}).rename(columns={\n",
    "    'Goals': 'Team Goals',\n",
    "    'Assists': 'Team Assists',\n",
    "    'Key Passes': 'Team Key Passes'\n",
    "}).reset_index()\n",
    "\n",
    "# Merge team totals back to the cleaned DataFrame\n",
    "players_df = players_df.merge(team_totals, on='Team', how='left')\n",
    "\n",
    "# Recalculate contribution percentages\n",
    "players_df['Goal Contribution %'] = (players_df['Goals'] / players_df['Team Goals']) * 100\n",
    "players_df['Assist Contribution %'] = (players_df['Assists'] / players_df['Team Assists']) * 100\n",
    "players_df['Key Pass Contribution %'] = (players_df['Key Passes'] / players_df['Team Key Passes']) * 100\n"
   ]
  },
  {
   "cell_type": "markdown",
   "id": "3820bd41-d80f-4cc0-b897-addf4f426e0a",
   "metadata": {},
   "source": [
    "---\n",
    "## Step 5: Identifying Top Contributors Per Team\n",
    "\n",
    "In this step, players within each team were sorted based on their **Goal Contribution %** to quickly identify the key players their teams heavily rely on."
   ]
  },
  {
   "cell_type": "code",
   "execution_count": 22,
   "id": "5468cfe0-a286-47b8-9328-d4aaf1404382",
   "metadata": {},
   "outputs": [],
   "source": [
    "# Sort players within each team by goal contribution\n",
    "players_sorted = players_df.sort_values(['Team', 'Goal Contribution %'], ascending=[True, False])\n",
    "\n",
    "# Get top 3 contributors per team\n",
    "top_contributors = players_sorted.groupby('Team').head(3)"
   ]
  },
  {
   "cell_type": "markdown",
   "id": "900ace70-414a-44fb-a5ea-8874fc5d923d",
   "metadata": {},
   "source": [
    "---\n",
    "## Step 6: Visualizing Teams' Dependencies on Top 3 Players\n",
    "\n",
    "In this step, the combined goal contribution of the top three players from each team were visualized using stacked bar charts.\n",
    "\n",
    "This approach helps in quickly assessing how reliant each team is on their key players for goal-scoring output."
   ]
  },
  {
   "cell_type": "code",
   "execution_count": 23,
   "id": "c19ce1e3-c3c1-4009-b39c-73d2ada5a94b",
   "metadata": {},
   "outputs": [
    {
     "name": "stderr",
     "output_type": "stream",
     "text": [
      "C:\\Users\\Admin\\AppData\\Local\\Temp\\ipykernel_4628\\4136596406.py:10: SettingWithCopyWarning:\n",
      "\n",
      "\n",
      "A value is trying to be set on a copy of a slice from a DataFrame.\n",
      "Try using .loc[row_indexer,col_indexer] = value instead\n",
      "\n",
      "See the caveats in the documentation: https://pandas.pydata.org/pandas-docs/stable/user_guide/indexing.html#returning-a-view-versus-a-copy\n",
      "\n"
     ]
    },
    {
     "data": {
      "application/vnd.plotly.v1+json": {
       "config": {
        "plotlyServerURL": "https://plot.ly"
       },
       "data": [
        {
         "hovertemplate": "<b>Bryan Mbeumo</b><br>Team: Brentford<br>Contribution: 31.25%",
         "marker": {
          "color": "#FF6666"
         },
         "name": "Bryan Mbeumo",
         "type": "bar",
         "x": [
          "Brentford"
         ],
         "y": [
          31.25
         ]
        },
        {
         "hovertemplate": "<b>Yoane Wissa</b><br>Team: Brentford<br>Contribution: 28.12%",
         "marker": {
          "color": "#FF6666"
         },
         "name": "Yoane Wissa",
         "type": "bar",
         "x": [
          "Brentford"
         ],
         "y": [
          28.125
         ]
        },
        {
         "hovertemplate": "<b>Kevin Schade</b><br>Team: Brentford<br>Contribution: 17.19%",
         "marker": {
          "color": "#FF6666"
         },
         "name": "Kevin Schade",
         "type": "bar",
         "x": [
          "Brentford"
         ],
         "y": [
          17.1875
         ]
        },
        {
         "hovertemplate": "<b>Matheus Cunha</b><br>Team: Wolverhampton Wanderers<br>Contribution: 28.30%",
         "marker": {
          "color": "#FDB913"
         },
         "name": "Matheus Cunha",
         "type": "bar",
         "x": [
          "Wolverhampton Wanderers"
         ],
         "y": [
          28.30188679245283
         ]
        },
        {
         "hovertemplate": "<b>Jørgen Strand Larsen</b><br>Team: Wolverhampton Wanderers<br>Contribution: 26.42%",
         "marker": {
          "color": "#FDB913"
         },
         "name": "Jørgen Strand Larsen",
         "type": "bar",
         "x": [
          "Wolverhampton Wanderers"
         ],
         "y": [
          26.41509433962264
         ]
        },
        {
         "hovertemplate": "<b>Rayan Ait Nouri</b><br>Team: Wolverhampton Wanderers<br>Contribution: 7.55%",
         "marker": {
          "color": "#FDB913"
         },
         "name": "Rayan Ait Nouri",
         "type": "bar",
         "x": [
          "Wolverhampton Wanderers"
         ],
         "y": [
          7.547169811320755
         ]
        },
        {
         "hovertemplate": "<b>Jarrod Bowen</b><br>Team: West Ham<br>Contribution: 29.55%",
         "marker": {
          "color": "#7A263A"
         },
         "name": "Jarrod Bowen",
         "type": "bar",
         "x": [
          "West Ham"
         ],
         "y": [
          29.545454545454547
         ]
        },
        {
         "hovertemplate": "<b>Tomas Soucek</b><br>Team: West Ham<br>Contribution: 20.45%",
         "marker": {
          "color": "#7A263A"
         },
         "name": "Tomas Soucek",
         "type": "bar",
         "x": [
          "West Ham"
         ],
         "y": [
          20.454545454545457
         ]
        },
        {
         "hovertemplate": "<b>Mohammed Kudus</b><br>Team: West Ham<br>Contribution: 11.36%",
         "marker": {
          "color": "#7A263A"
         },
         "name": "Mohammed Kudus",
         "type": "bar",
         "x": [
          "West Ham"
         ],
         "y": [
          11.363636363636363
         ]
        },
        {
         "hovertemplate": "<b>Jean-Philippe Mateta</b><br>Team: Crystal Palace<br>Contribution: 28.57%",
         "marker": {
          "color": "#034694"
         },
         "name": "Jean-Philippe Mateta (Part 1)",
         "type": "bar",
         "x": [
          "Crystal Palace"
         ],
         "y": [
          14.285714285714285
         ]
        },
        {
         "hovertemplate": "<b>Jean-Philippe Mateta</b><br>Team: Crystal Palace<br>Contribution: 28.57%",
         "marker": {
          "color": "#DA291C"
         },
         "name": "Jean-Philippe Mateta (Part 2)",
         "type": "bar",
         "x": [
          "Crystal Palace"
         ],
         "y": [
          14.285714285714285
         ]
        },
        {
         "hovertemplate": "<b>Ismaila Sarr</b><br>Team: Crystal Palace<br>Contribution: 16.33%",
         "marker": {
          "color": "#034694"
         },
         "name": "Ismaila Sarr (Part 1)",
         "type": "bar",
         "x": [
          "Crystal Palace"
         ],
         "y": [
          8.16326530612245
         ]
        },
        {
         "hovertemplate": "<b>Ismaila Sarr</b><br>Team: Crystal Palace<br>Contribution: 16.33%",
         "marker": {
          "color": "#DA291C"
         },
         "name": "Ismaila Sarr (Part 2)",
         "type": "bar",
         "x": [
          "Crystal Palace"
         ],
         "y": [
          8.16326530612245
         ]
        },
        {
         "hovertemplate": "<b>Eberechi Eze</b><br>Team: Crystal Palace<br>Contribution: 16.33%",
         "marker": {
          "color": "#034694"
         },
         "name": "Eberechi Eze (Part 1)",
         "type": "bar",
         "x": [
          "Crystal Palace"
         ],
         "y": [
          8.16326530612245
         ]
        },
        {
         "hovertemplate": "<b>Eberechi Eze</b><br>Team: Crystal Palace<br>Contribution: 16.33%",
         "marker": {
          "color": "#DA291C"
         },
         "name": "Eberechi Eze (Part 2)",
         "type": "bar",
         "x": [
          "Crystal Palace"
         ],
         "y": [
          8.16326530612245
         ]
        },
        {
         "hovertemplate": "<b>Mohamed Salah</b><br>Team: Liverpool<br>Contribution: 34.12%",
         "marker": {
          "color": "#C8102E"
         },
         "name": "Mohamed Salah",
         "type": "bar",
         "x": [
          "Liverpool"
         ],
         "y": [
          34.11764705882353
         ]
        },
        {
         "hovertemplate": "<b>Luis Díaz</b><br>Team: Liverpool<br>Contribution: 15.29%",
         "marker": {
          "color": "#C8102E"
         },
         "name": "Luis Díaz",
         "type": "bar",
         "x": [
          "Liverpool"
         ],
         "y": [
          15.294117647058824
         ]
        },
        {
         "hovertemplate": "<b>Cody Gakpo</b><br>Team: Liverpool<br>Contribution: 11.76%",
         "marker": {
          "color": "#C8102E"
         },
         "name": "Cody Gakpo",
         "type": "bar",
         "x": [
          "Liverpool"
         ],
         "y": [
          11.76470588235294
         ]
        },
        {
         "hovertemplate": "<b>Alexander Isak</b><br>Team: Newcastle United<br>Contribution: 34.85%",
         "marker": {
          "color": "#000000"
         },
         "name": "Alexander Isak",
         "type": "bar",
         "x": [
          "Newcastle United"
         ],
         "y": [
          34.84848484848485
         ]
        },
        {
         "hovertemplate": "<b>Harvey Barnes</b><br>Team: Newcastle United<br>Contribution: 13.64%",
         "marker": {
          "color": "#000000"
         },
         "name": "Harvey Barnes",
         "type": "bar",
         "x": [
          "Newcastle United"
         ],
         "y": [
          13.636363636363635
         ]
        },
        {
         "hovertemplate": "<b>Jacob Murphy</b><br>Team: Newcastle United<br>Contribution: 12.12%",
         "marker": {
          "color": "#000000"
         },
         "name": "Jacob Murphy",
         "type": "bar",
         "x": [
          "Newcastle United"
         ],
         "y": [
          12.121212121212121
         ]
        },
        {
         "hovertemplate": "<b>Justin Kluivert</b><br>Team: Bournemouth<br>Contribution: 21.05%",
         "marker": {
          "color": "#C8102E"
         },
         "name": "Justin Kluivert (Part 1)",
         "type": "bar",
         "x": [
          "Bournemouth"
         ],
         "y": [
          10.526315789473683
         ]
        },
        {
         "hovertemplate": "<b>Justin Kluivert</b><br>Team: Bournemouth<br>Contribution: 21.05%",
         "marker": {
          "color": "#000000"
         },
         "name": "Justin Kluivert (Part 2)",
         "type": "bar",
         "x": [
          "Bournemouth"
         ],
         "y": [
          10.526315789473683
         ]
        },
        {
         "hovertemplate": "<b>Antoine Semenyo</b><br>Team: Bournemouth<br>Contribution: 19.30%",
         "marker": {
          "color": "#C8102E"
         },
         "name": "Antoine Semenyo (Part 1)",
         "type": "bar",
         "x": [
          "Bournemouth"
         ],
         "y": [
          9.649122807017543
         ]
        },
        {
         "hovertemplate": "<b>Antoine Semenyo</b><br>Team: Bournemouth<br>Contribution: 19.30%",
         "marker": {
          "color": "#000000"
         },
         "name": "Antoine Semenyo (Part 2)",
         "type": "bar",
         "x": [
          "Bournemouth"
         ],
         "y": [
          9.649122807017543
         ]
        },
        {
         "hovertemplate": "<b>Evanilson</b><br>Team: Bournemouth<br>Contribution: 17.54%",
         "marker": {
          "color": "#C8102E"
         },
         "name": "Evanilson (Part 1)",
         "type": "bar",
         "x": [
          "Bournemouth"
         ],
         "y": [
          8.771929824561402
         ]
        },
        {
         "hovertemplate": "<b>Evanilson</b><br>Team: Bournemouth<br>Contribution: 17.54%",
         "marker": {
          "color": "#000000"
         },
         "name": "Evanilson (Part 2)",
         "type": "bar",
         "x": [
          "Bournemouth"
         ],
         "y": [
          8.771929824561402
         ]
        },
        {
         "hovertemplate": "<b>Chris Wood</b><br>Team: Nottingham Forest<br>Contribution: 35.09%",
         "marker": {
          "color": "#E53233"
         },
         "name": "Chris Wood",
         "type": "bar",
         "x": [
          "Nottingham Forest"
         ],
         "y": [
          35.08771929824561
         ]
        },
        {
         "hovertemplate": "<b>Morgan Gibbs-White</b><br>Team: Nottingham Forest<br>Contribution: 12.28%",
         "marker": {
          "color": "#E53233"
         },
         "name": "Morgan Gibbs-White",
         "type": "bar",
         "x": [
          "Nottingham Forest"
         ],
         "y": [
          12.280701754385964
         ]
        },
        {
         "hovertemplate": "<b>Anthony Elanga</b><br>Team: Nottingham Forest<br>Contribution: 10.53%",
         "marker": {
          "color": "#E53233"
         },
         "name": "Anthony Elanga",
         "type": "bar",
         "x": [
          "Nottingham Forest"
         ],
         "y": [
          10.526315789473683
         ]
        },
        {
         "hovertemplate": "<b>Jamie Vardy</b><br>Team: Leicester<br>Contribution: 27.27%",
         "marker": {
          "color": "#003090"
         },
         "name": "Jamie Vardy",
         "type": "bar",
         "x": [
          "Leicester"
         ],
         "y": [
          27.27272727272727
         ]
        },
        {
         "hovertemplate": "<b>Jordan Ayew</b><br>Team: Leicester<br>Contribution: 15.15%",
         "marker": {
          "color": "#003090"
         },
         "name": "Jordan Ayew",
         "type": "bar",
         "x": [
          "Leicester"
         ],
         "y": [
          15.151515151515152
         ]
        },
        {
         "hovertemplate": "<b>Facundo Buonanotte</b><br>Team: Leicester<br>Contribution: 15.15%",
         "marker": {
          "color": "#003090"
         },
         "name": "Facundo Buonanotte",
         "type": "bar",
         "x": [
          "Leicester"
         ],
         "y": [
          15.151515151515152
         ]
        },
        {
         "hovertemplate": "<b>Ollie Watkins</b><br>Team: Aston Villa<br>Contribution: 29.63%",
         "marker": {
          "color": "#7A263A"
         },
         "name": "Ollie Watkins",
         "type": "bar",
         "x": [
          "Aston Villa"
         ],
         "y": [
          29.629629629629626
         ]
        },
        {
         "hovertemplate": "<b>Morgan Rogers</b><br>Team: Aston Villa<br>Contribution: 14.81%",
         "marker": {
          "color": "#7A263A"
         },
         "name": "Morgan Rogers",
         "type": "bar",
         "x": [
          "Aston Villa"
         ],
         "y": [
          14.814814814814813
         ]
        },
        {
         "hovertemplate": "<b>Jhon Durán</b><br>Team: Aston Villa<br>Contribution: 12.96%",
         "marker": {
          "color": "#7A263A"
         },
         "name": "Jhon Durán",
         "type": "bar",
         "x": [
          "Aston Villa"
         ],
         "y": [
          12.962962962962962
         ]
        },
        {
         "hovertemplate": "<b>Iliman Ndiaye</b><br>Team: Everton<br>Contribution: 24.32%",
         "marker": {
          "color": "#003399"
         },
         "name": "Iliman Ndiaye",
         "type": "bar",
         "x": [
          "Everton"
         ],
         "y": [
          24.324324324324326
         ]
        },
        {
         "hovertemplate": "<b>Beto</b><br>Team: Everton<br>Contribution: 21.62%",
         "marker": {
          "color": "#003399"
         },
         "name": "Beto",
         "type": "bar",
         "x": [
          "Everton"
         ],
         "y": [
          21.62162162162162
         ]
        },
        {
         "hovertemplate": "<b>Dwight McNeil</b><br>Team: Everton<br>Contribution: 10.81%",
         "marker": {
          "color": "#003399"
         },
         "name": "Dwight McNeil",
         "type": "bar",
         "x": [
          "Everton"
         ],
         "y": [
          10.81081081081081
         ]
        },
        {
         "hovertemplate": "<b>Raúl Jiménez</b><br>Team: Fulham<br>Contribution: 22.64%",
         "marker": {
          "color": "#000000"
         },
         "name": "Raúl Jiménez",
         "type": "bar",
         "x": [
          "Fulham"
         ],
         "y": [
          22.641509433962266
         ]
        },
        {
         "hovertemplate": "<b>Alex Iwobi</b><br>Team: Fulham<br>Contribution: 16.98%",
         "marker": {
          "color": "#000000"
         },
         "name": "Alex Iwobi",
         "type": "bar",
         "x": [
          "Fulham"
         ],
         "y": [
          16.9811320754717
         ]
        },
        {
         "hovertemplate": "<b>Rodrigo Muniz</b><br>Team: Fulham<br>Contribution: 15.09%",
         "marker": {
          "color": "#000000"
         },
         "name": "Rodrigo Muniz",
         "type": "bar",
         "x": [
          "Fulham"
         ],
         "y": [
          15.09433962264151
         ]
        },
        {
         "hovertemplate": "<b>Liam Delap</b><br>Team: Ipswich<br>Contribution: 34.29%",
         "marker": {
          "color": "#0057B8"
         },
         "name": "Liam Delap",
         "type": "bar",
         "x": [
          "Ipswich"
         ],
         "y": [
          34.285714285714285
         ]
        },
        {
         "hovertemplate": "<b>Sammie Szmodics</b><br>Team: Ipswich<br>Contribution: 11.43%",
         "marker": {
          "color": "#0057B8"
         },
         "name": "Sammie Szmodics",
         "type": "bar",
         "x": [
          "Ipswich"
         ],
         "y": [
          11.428571428571429
         ]
        },
        {
         "hovertemplate": "<b>George Hirst</b><br>Team: Ipswich<br>Contribution: 8.57%",
         "marker": {
          "color": "#0057B8"
         },
         "name": "George Hirst",
         "type": "bar",
         "x": [
          "Ipswich"
         ],
         "y": [
          8.571428571428571
         ]
        },
        {
         "hovertemplate": "<b>Cole Palmer</b><br>Team: Chelsea<br>Contribution: 24.59%",
         "marker": {
          "color": "#034694"
         },
         "name": "Cole Palmer",
         "type": "bar",
         "x": [
          "Chelsea"
         ],
         "y": [
          24.59016393442623
         ]
        },
        {
         "hovertemplate": "<b>Nicolas Jackson</b><br>Team: Chelsea<br>Contribution: 16.39%",
         "marker": {
          "color": "#034694"
         },
         "name": "Nicolas Jackson",
         "type": "bar",
         "x": [
          "Chelsea"
         ],
         "y": [
          16.39344262295082
         ]
        },
        {
         "hovertemplate": "<b>Noni Madueke</b><br>Team: Chelsea<br>Contribution: 11.48%",
         "marker": {
          "color": "#034694"
         },
         "name": "Noni Madueke",
         "type": "bar",
         "x": [
          "Chelsea"
         ],
         "y": [
          11.475409836065573
         ]
        },
        {
         "hovertemplate": "<b>Erling Haaland</b><br>Team: Manchester City<br>Contribution: 30.99%",
         "marker": {
          "color": "#6CABDD"
         },
         "name": "Erling Haaland",
         "type": "bar",
         "x": [
          "Manchester City"
         ],
         "y": [
          30.985915492957744
         ]
        },
        {
         "hovertemplate": "<b>Phil Foden</b><br>Team: Manchester City<br>Contribution: 9.86%",
         "marker": {
          "color": "#6CABDD"
         },
         "name": "Phil Foden",
         "type": "bar",
         "x": [
          "Manchester City"
         ],
         "y": [
          9.859154929577464
         ]
        },
        {
         "hovertemplate": "<b>Omar Marmoush</b><br>Team: Manchester City<br>Contribution: 9.86%",
         "marker": {
          "color": "#6CABDD"
         },
         "name": "Omar Marmoush",
         "type": "bar",
         "x": [
          "Manchester City"
         ],
         "y": [
          9.859154929577464
         ]
        },
        {
         "hovertemplate": "<b>Bruno Fernandes</b><br>Team: Manchester United<br>Contribution: 18.18%",
         "marker": {
          "color": "#DA291C"
         },
         "name": "Bruno Fernandes",
         "type": "bar",
         "x": [
          "Manchester United"
         ],
         "y": [
          18.181818181818183
         ]
        },
        {
         "hovertemplate": "<b>Amad Diallo Traore</b><br>Team: Manchester United<br>Contribution: 18.18%",
         "marker": {
          "color": "#DA291C"
         },
         "name": "Amad Diallo Traore",
         "type": "bar",
         "x": [
          "Manchester United"
         ],
         "y": [
          18.181818181818183
         ]
        },
        {
         "hovertemplate": "<b>Marcus Rashford</b><br>Team: Manchester United<br>Contribution: 13.64%",
         "marker": {
          "color": "#DA291C"
         },
         "name": "Marcus Rashford",
         "type": "bar",
         "x": [
          "Manchester United"
         ],
         "y": [
          13.636363636363635
         ]
        },
        {
         "hovertemplate": "<b>Danny Welbeck</b><br>Team: Brighton<br>Contribution: 15.87%",
         "marker": {
          "color": "#0057B8"
         },
         "name": "Danny Welbeck (Part 1)",
         "type": "bar",
         "x": [
          "Brighton"
         ],
         "y": [
          7.936507936507936
         ]
        },
        {
         "hovertemplate": "<b>Danny Welbeck</b><br>Team: Brighton<br>Contribution: 15.87%",
         "marker": {
          "color": "#FFFFFF"
         },
         "name": "Danny Welbeck (Part 2)",
         "type": "bar",
         "x": [
          "Brighton"
         ],
         "y": [
          7.936507936507936
         ]
        },
        {
         "hovertemplate": "<b>João Pedro</b><br>Team: Brighton<br>Contribution: 15.87%",
         "marker": {
          "color": "#0057B8"
         },
         "name": "João Pedro (Part 1)",
         "type": "bar",
         "x": [
          "Brighton"
         ],
         "y": [
          7.936507936507936
         ]
        },
        {
         "hovertemplate": "<b>João Pedro</b><br>Team: Brighton<br>Contribution: 15.87%",
         "marker": {
          "color": "#FFFFFF"
         },
         "name": "João Pedro (Part 2)",
         "type": "bar",
         "x": [
          "Brighton"
         ],
         "y": [
          7.936507936507936
         ]
        },
        {
         "hovertemplate": "<b>Kaoru Mitoma</b><br>Team: Brighton<br>Contribution: 15.87%",
         "marker": {
          "color": "#0057B8"
         },
         "name": "Kaoru Mitoma (Part 1)",
         "type": "bar",
         "x": [
          "Brighton"
         ],
         "y": [
          7.936507936507936
         ]
        },
        {
         "hovertemplate": "<b>Kaoru Mitoma</b><br>Team: Brighton<br>Contribution: 15.87%",
         "marker": {
          "color": "#FFFFFF"
         },
         "name": "Kaoru Mitoma (Part 2)",
         "type": "bar",
         "x": [
          "Brighton"
         ],
         "y": [
          7.936507936507936
         ]
        },
        {
         "hovertemplate": "<b>Brennan Johnson</b><br>Team: Tottenham<br>Contribution: 18.03%",
         "marker": {
          "color": "#132257"
         },
         "name": "Brennan Johnson",
         "type": "bar",
         "x": [
          "Tottenham"
         ],
         "y": [
          18.0327868852459
         ]
        },
        {
         "hovertemplate": "<b>Dominic Solanke</b><br>Team: Tottenham<br>Contribution: 14.75%",
         "marker": {
          "color": "#132257"
         },
         "name": "Dominic Solanke",
         "type": "bar",
         "x": [
          "Tottenham"
         ],
         "y": [
          14.754098360655737
         ]
        },
        {
         "hovertemplate": "<b>James Maddison</b><br>Team: Tottenham<br>Contribution: 14.75%",
         "marker": {
          "color": "#132257"
         },
         "name": "James Maddison",
         "type": "bar",
         "x": [
          "Tottenham"
         ],
         "y": [
          14.754098360655737
         ]
        },
        {
         "hovertemplate": "<b>Kai Havertz</b><br>Team: Arsenal<br>Contribution: 13.43%",
         "marker": {
          "color": "#EF0107"
         },
         "name": "Kai Havertz (Part 1)",
         "type": "bar",
         "x": [
          "Arsenal"
         ],
         "y": [
          6.7164179104477615
         ]
        },
        {
         "hovertemplate": "<b>Kai Havertz</b><br>Team: Arsenal<br>Contribution: 13.43%",
         "marker": {
          "color": "#FFFFFF"
         },
         "name": "Kai Havertz (Part 2)",
         "type": "bar",
         "x": [
          "Arsenal"
         ],
         "y": [
          6.7164179104477615
         ]
        },
        {
         "hovertemplate": "<b>Leandro Trossard</b><br>Team: Arsenal<br>Contribution: 11.94%",
         "marker": {
          "color": "#EF0107"
         },
         "name": "Leandro Trossard (Part 1)",
         "type": "bar",
         "x": [
          "Arsenal"
         ],
         "y": [
          5.970149253731343
         ]
        },
        {
         "hovertemplate": "<b>Leandro Trossard</b><br>Team: Arsenal<br>Contribution: 11.94%",
         "marker": {
          "color": "#FFFFFF"
         },
         "name": "Leandro Trossard (Part 2)",
         "type": "bar",
         "x": [
          "Arsenal"
         ],
         "y": [
          5.970149253731343
         ]
        },
        {
         "hovertemplate": "<b>Gabriel Martinelli</b><br>Team: Arsenal<br>Contribution: 11.94%",
         "marker": {
          "color": "#EF0107"
         },
         "name": "Gabriel Martinelli (Part 1)",
         "type": "bar",
         "x": [
          "Arsenal"
         ],
         "y": [
          5.970149253731343
         ]
        },
        {
         "hovertemplate": "<b>Gabriel Martinelli</b><br>Team: Arsenal<br>Contribution: 11.94%",
         "marker": {
          "color": "#FFFFFF"
         },
         "name": "Gabriel Martinelli (Part 2)",
         "type": "bar",
         "x": [
          "Arsenal"
         ],
         "y": [
          5.970149253731343
         ]
        },
        {
         "hovertemplate": "<b>Paul Onuachu</b><br>Team: Southampton<br>Contribution: 14.81%",
         "marker": {
          "color": "#FF6666"
         },
         "name": "Paul Onuachu",
         "type": "bar",
         "x": [
          "Southampton"
         ],
         "y": [
          14.814814814814813
         ]
        },
        {
         "hovertemplate": "<b>Joe Ayodele-Aribo</b><br>Team: Southampton<br>Contribution: 11.11%",
         "marker": {
          "color": "#FF6666"
         },
         "name": "Joe Ayodele-Aribo",
         "type": "bar",
         "x": [
          "Southampton"
         ],
         "y": [
          11.11111111111111
         ]
        },
        {
         "hovertemplate": "<b>Adam Armstrong</b><br>Team: Southampton<br>Contribution: 7.41%",
         "marker": {
          "color": "#FF6666"
         },
         "name": "Adam Armstrong",
         "type": "bar",
         "x": [
          "Southampton"
         ],
         "y": [
          7.4074074074074066
         ]
        }
       ],
       "layout": {
        "barmode": "stack",
        "height": 700,
        "legend": {
         "title": {
          "text": "Players"
         }
        },
        "showlegend": false,
        "template": {
         "data": {
          "bar": [
           {
            "error_x": {
             "color": "#2a3f5f"
            },
            "error_y": {
             "color": "#2a3f5f"
            },
            "marker": {
             "line": {
              "color": "#E5ECF6",
              "width": 0.5
             },
             "pattern": {
              "fillmode": "overlay",
              "size": 10,
              "solidity": 0.2
             }
            },
            "type": "bar"
           }
          ],
          "barpolar": [
           {
            "marker": {
             "line": {
              "color": "#E5ECF6",
              "width": 0.5
             },
             "pattern": {
              "fillmode": "overlay",
              "size": 10,
              "solidity": 0.2
             }
            },
            "type": "barpolar"
           }
          ],
          "carpet": [
           {
            "aaxis": {
             "endlinecolor": "#2a3f5f",
             "gridcolor": "white",
             "linecolor": "white",
             "minorgridcolor": "white",
             "startlinecolor": "#2a3f5f"
            },
            "baxis": {
             "endlinecolor": "#2a3f5f",
             "gridcolor": "white",
             "linecolor": "white",
             "minorgridcolor": "white",
             "startlinecolor": "#2a3f5f"
            },
            "type": "carpet"
           }
          ],
          "choropleth": [
           {
            "colorbar": {
             "outlinewidth": 0,
             "ticks": ""
            },
            "type": "choropleth"
           }
          ],
          "contour": [
           {
            "colorbar": {
             "outlinewidth": 0,
             "ticks": ""
            },
            "colorscale": [
             [
              0,
              "#0d0887"
             ],
             [
              0.1111111111111111,
              "#46039f"
             ],
             [
              0.2222222222222222,
              "#7201a8"
             ],
             [
              0.3333333333333333,
              "#9c179e"
             ],
             [
              0.4444444444444444,
              "#bd3786"
             ],
             [
              0.5555555555555556,
              "#d8576b"
             ],
             [
              0.6666666666666666,
              "#ed7953"
             ],
             [
              0.7777777777777778,
              "#fb9f3a"
             ],
             [
              0.8888888888888888,
              "#fdca26"
             ],
             [
              1,
              "#f0f921"
             ]
            ],
            "type": "contour"
           }
          ],
          "contourcarpet": [
           {
            "colorbar": {
             "outlinewidth": 0,
             "ticks": ""
            },
            "type": "contourcarpet"
           }
          ],
          "heatmap": [
           {
            "colorbar": {
             "outlinewidth": 0,
             "ticks": ""
            },
            "colorscale": [
             [
              0,
              "#0d0887"
             ],
             [
              0.1111111111111111,
              "#46039f"
             ],
             [
              0.2222222222222222,
              "#7201a8"
             ],
             [
              0.3333333333333333,
              "#9c179e"
             ],
             [
              0.4444444444444444,
              "#bd3786"
             ],
             [
              0.5555555555555556,
              "#d8576b"
             ],
             [
              0.6666666666666666,
              "#ed7953"
             ],
             [
              0.7777777777777778,
              "#fb9f3a"
             ],
             [
              0.8888888888888888,
              "#fdca26"
             ],
             [
              1,
              "#f0f921"
             ]
            ],
            "type": "heatmap"
           }
          ],
          "histogram": [
           {
            "marker": {
             "pattern": {
              "fillmode": "overlay",
              "size": 10,
              "solidity": 0.2
             }
            },
            "type": "histogram"
           }
          ],
          "histogram2d": [
           {
            "colorbar": {
             "outlinewidth": 0,
             "ticks": ""
            },
            "colorscale": [
             [
              0,
              "#0d0887"
             ],
             [
              0.1111111111111111,
              "#46039f"
             ],
             [
              0.2222222222222222,
              "#7201a8"
             ],
             [
              0.3333333333333333,
              "#9c179e"
             ],
             [
              0.4444444444444444,
              "#bd3786"
             ],
             [
              0.5555555555555556,
              "#d8576b"
             ],
             [
              0.6666666666666666,
              "#ed7953"
             ],
             [
              0.7777777777777778,
              "#fb9f3a"
             ],
             [
              0.8888888888888888,
              "#fdca26"
             ],
             [
              1,
              "#f0f921"
             ]
            ],
            "type": "histogram2d"
           }
          ],
          "histogram2dcontour": [
           {
            "colorbar": {
             "outlinewidth": 0,
             "ticks": ""
            },
            "colorscale": [
             [
              0,
              "#0d0887"
             ],
             [
              0.1111111111111111,
              "#46039f"
             ],
             [
              0.2222222222222222,
              "#7201a8"
             ],
             [
              0.3333333333333333,
              "#9c179e"
             ],
             [
              0.4444444444444444,
              "#bd3786"
             ],
             [
              0.5555555555555556,
              "#d8576b"
             ],
             [
              0.6666666666666666,
              "#ed7953"
             ],
             [
              0.7777777777777778,
              "#fb9f3a"
             ],
             [
              0.8888888888888888,
              "#fdca26"
             ],
             [
              1,
              "#f0f921"
             ]
            ],
            "type": "histogram2dcontour"
           }
          ],
          "mesh3d": [
           {
            "colorbar": {
             "outlinewidth": 0,
             "ticks": ""
            },
            "type": "mesh3d"
           }
          ],
          "parcoords": [
           {
            "line": {
             "colorbar": {
              "outlinewidth": 0,
              "ticks": ""
             }
            },
            "type": "parcoords"
           }
          ],
          "pie": [
           {
            "automargin": true,
            "type": "pie"
           }
          ],
          "scatter": [
           {
            "fillpattern": {
             "fillmode": "overlay",
             "size": 10,
             "solidity": 0.2
            },
            "type": "scatter"
           }
          ],
          "scatter3d": [
           {
            "line": {
             "colorbar": {
              "outlinewidth": 0,
              "ticks": ""
             }
            },
            "marker": {
             "colorbar": {
              "outlinewidth": 0,
              "ticks": ""
             }
            },
            "type": "scatter3d"
           }
          ],
          "scattercarpet": [
           {
            "marker": {
             "colorbar": {
              "outlinewidth": 0,
              "ticks": ""
             }
            },
            "type": "scattercarpet"
           }
          ],
          "scattergeo": [
           {
            "marker": {
             "colorbar": {
              "outlinewidth": 0,
              "ticks": ""
             }
            },
            "type": "scattergeo"
           }
          ],
          "scattergl": [
           {
            "marker": {
             "colorbar": {
              "outlinewidth": 0,
              "ticks": ""
             }
            },
            "type": "scattergl"
           }
          ],
          "scattermap": [
           {
            "marker": {
             "colorbar": {
              "outlinewidth": 0,
              "ticks": ""
             }
            },
            "type": "scattermap"
           }
          ],
          "scattermapbox": [
           {
            "marker": {
             "colorbar": {
              "outlinewidth": 0,
              "ticks": ""
             }
            },
            "type": "scattermapbox"
           }
          ],
          "scatterpolar": [
           {
            "marker": {
             "colorbar": {
              "outlinewidth": 0,
              "ticks": ""
             }
            },
            "type": "scatterpolar"
           }
          ],
          "scatterpolargl": [
           {
            "marker": {
             "colorbar": {
              "outlinewidth": 0,
              "ticks": ""
             }
            },
            "type": "scatterpolargl"
           }
          ],
          "scatterternary": [
           {
            "marker": {
             "colorbar": {
              "outlinewidth": 0,
              "ticks": ""
             }
            },
            "type": "scatterternary"
           }
          ],
          "surface": [
           {
            "colorbar": {
             "outlinewidth": 0,
             "ticks": ""
            },
            "colorscale": [
             [
              0,
              "#0d0887"
             ],
             [
              0.1111111111111111,
              "#46039f"
             ],
             [
              0.2222222222222222,
              "#7201a8"
             ],
             [
              0.3333333333333333,
              "#9c179e"
             ],
             [
              0.4444444444444444,
              "#bd3786"
             ],
             [
              0.5555555555555556,
              "#d8576b"
             ],
             [
              0.6666666666666666,
              "#ed7953"
             ],
             [
              0.7777777777777778,
              "#fb9f3a"
             ],
             [
              0.8888888888888888,
              "#fdca26"
             ],
             [
              1,
              "#f0f921"
             ]
            ],
            "type": "surface"
           }
          ],
          "table": [
           {
            "cells": {
             "fill": {
              "color": "#EBF0F8"
             },
             "line": {
              "color": "white"
             }
            },
            "header": {
             "fill": {
              "color": "#C8D4E3"
             },
             "line": {
              "color": "white"
             }
            },
            "type": "table"
           }
          ]
         },
         "layout": {
          "annotationdefaults": {
           "arrowcolor": "#2a3f5f",
           "arrowhead": 0,
           "arrowwidth": 1
          },
          "autotypenumbers": "strict",
          "coloraxis": {
           "colorbar": {
            "outlinewidth": 0,
            "ticks": ""
           }
          },
          "colorscale": {
           "diverging": [
            [
             0,
             "#8e0152"
            ],
            [
             0.1,
             "#c51b7d"
            ],
            [
             0.2,
             "#de77ae"
            ],
            [
             0.3,
             "#f1b6da"
            ],
            [
             0.4,
             "#fde0ef"
            ],
            [
             0.5,
             "#f7f7f7"
            ],
            [
             0.6,
             "#e6f5d0"
            ],
            [
             0.7,
             "#b8e186"
            ],
            [
             0.8,
             "#7fbc41"
            ],
            [
             0.9,
             "#4d9221"
            ],
            [
             1,
             "#276419"
            ]
           ],
           "sequential": [
            [
             0,
             "#0d0887"
            ],
            [
             0.1111111111111111,
             "#46039f"
            ],
            [
             0.2222222222222222,
             "#7201a8"
            ],
            [
             0.3333333333333333,
             "#9c179e"
            ],
            [
             0.4444444444444444,
             "#bd3786"
            ],
            [
             0.5555555555555556,
             "#d8576b"
            ],
            [
             0.6666666666666666,
             "#ed7953"
            ],
            [
             0.7777777777777778,
             "#fb9f3a"
            ],
            [
             0.8888888888888888,
             "#fdca26"
            ],
            [
             1,
             "#f0f921"
            ]
           ],
           "sequentialminus": [
            [
             0,
             "#0d0887"
            ],
            [
             0.1111111111111111,
             "#46039f"
            ],
            [
             0.2222222222222222,
             "#7201a8"
            ],
            [
             0.3333333333333333,
             "#9c179e"
            ],
            [
             0.4444444444444444,
             "#bd3786"
            ],
            [
             0.5555555555555556,
             "#d8576b"
            ],
            [
             0.6666666666666666,
             "#ed7953"
            ],
            [
             0.7777777777777778,
             "#fb9f3a"
            ],
            [
             0.8888888888888888,
             "#fdca26"
            ],
            [
             1,
             "#f0f921"
            ]
           ]
          },
          "colorway": [
           "#636efa",
           "#EF553B",
           "#00cc96",
           "#ab63fa",
           "#FFA15A",
           "#19d3f3",
           "#FF6692",
           "#B6E880",
           "#FF97FF",
           "#FECB52"
          ],
          "font": {
           "color": "#2a3f5f"
          },
          "geo": {
           "bgcolor": "white",
           "lakecolor": "white",
           "landcolor": "#E5ECF6",
           "showlakes": true,
           "showland": true,
           "subunitcolor": "white"
          },
          "hoverlabel": {
           "align": "left"
          },
          "hovermode": "closest",
          "mapbox": {
           "style": "light"
          },
          "paper_bgcolor": "white",
          "plot_bgcolor": "#E5ECF6",
          "polar": {
           "angularaxis": {
            "gridcolor": "white",
            "linecolor": "white",
            "ticks": ""
           },
           "bgcolor": "#E5ECF6",
           "radialaxis": {
            "gridcolor": "white",
            "linecolor": "white",
            "ticks": ""
           }
          },
          "scene": {
           "xaxis": {
            "backgroundcolor": "#E5ECF6",
            "gridcolor": "white",
            "gridwidth": 2,
            "linecolor": "white",
            "showbackground": true,
            "ticks": "",
            "zerolinecolor": "white"
           },
           "yaxis": {
            "backgroundcolor": "#E5ECF6",
            "gridcolor": "white",
            "gridwidth": 2,
            "linecolor": "white",
            "showbackground": true,
            "ticks": "",
            "zerolinecolor": "white"
           },
           "zaxis": {
            "backgroundcolor": "#E5ECF6",
            "gridcolor": "white",
            "gridwidth": 2,
            "linecolor": "white",
            "showbackground": true,
            "ticks": "",
            "zerolinecolor": "white"
           }
          },
          "shapedefaults": {
           "line": {
            "color": "#2a3f5f"
           }
          },
          "ternary": {
           "aaxis": {
            "gridcolor": "white",
            "linecolor": "white",
            "ticks": ""
           },
           "baxis": {
            "gridcolor": "white",
            "linecolor": "white",
            "ticks": ""
           },
           "bgcolor": "#E5ECF6",
           "caxis": {
            "gridcolor": "white",
            "linecolor": "white",
            "ticks": ""
           }
          },
          "title": {
           "x": 0.05
          },
          "xaxis": {
           "automargin": true,
           "gridcolor": "white",
           "linecolor": "white",
           "ticks": "",
           "title": {
            "standoff": 15
           },
           "zerolinecolor": "white",
           "zerolinewidth": 2
          },
          "yaxis": {
           "automargin": true,
           "gridcolor": "white",
           "linecolor": "white",
           "ticks": "",
           "title": {
            "standoff": 15
           },
           "zerolinecolor": "white",
           "zerolinewidth": 2
          }
         }
        },
        "title": {
         "text": "Team Dependency on Top 3 Players (Goal Contribution %)"
        },
        "xaxis": {
         "categoryarray": [
          "Brentford",
          "Wolverhampton Wanderers",
          "West Ham",
          "Crystal Palace",
          "Liverpool",
          "Newcastle United",
          "Bournemouth",
          "Nottingham Forest",
          "Leicester",
          "Aston Villa",
          "Everton",
          "Fulham",
          "Ipswich",
          "Chelsea",
          "Manchester City",
          "Manchester United",
          "Brighton",
          "Tottenham",
          "Arsenal",
          "Southampton"
         ],
         "categoryorder": "array",
         "title": {
          "text": "Team"
         }
        },
        "yaxis": {
         "title": {
          "text": "Goal Contribution Percentage"
         }
        }
       }
      },
      "image/png": "[encoded data removed]"
     },
     "metadata": {},
     "output_type": "display_data"
    }
   ],
   "source": [
    "import plotly.graph_objects as go\n",
    "\n",
    "# Prepare the data\n",
    "plot_data = top_contributors[['Team', 'Player', 'Goal Contribution %']]\n",
    "\n",
    "# Sort teams by total contribution of top 3 players\n",
    "team_dependency = plot_data.groupby('Team')['Goal Contribution %'].sum().sort_values(ascending=False).index\n",
    "\n",
    "# Order teams correctly\n",
    "plot_data['Team'] = pd.Categorical(plot_data['Team'], categories=team_dependency, ordered=True)\n",
    "plot_data = plot_data.sort_values(['Team', 'Goal Contribution %'], ascending=[True, False])\n",
    "\n",
    "# Define team colors\n",
    "team_colors = {\n",
    "    'Liverpool': ['#C8102E'],                      \n",
    "    'Manchester United': ['#DA291C'],              \n",
    "    'Nottingham Forest': ['#E53233'],              \n",
    "    'Bournemouth': ['#C8102E', '#000000'],         \n",
    "    'Manchester City': ['#6CABDD'],                \n",
    "    'Brighton': ['#0057B8', '#FFFFFF'],            \n",
    "    'Chelsea': ['#034694'],                      \n",
    "    'Newcastle United': ['#000000'],   \n",
    "    'Fulham': ['#000000'],             \n",
    "    'Aston Villa': ['#7A263A'],                   \n",
    "    'West Ham': ['#7A263A'],                   \n",
    "    'Brentford': ['#FF6666'],       \n",
    "    'Southampton': ['#FF6666'],         \n",
    "    'Arsenal': ['#EF0107', '#FFFFFF'],            \n",
    "    'Crystal Palace': ['#034694', '#DA291C'],   \n",
    "    'Ipswich': ['#0057B8'],                    \n",
    "    'Everton': ['#003399'],                       \n",
    "    'Leicester': ['#003090'],                   \n",
    "    'Wolverhampton Wanderers': ['#FDB913'],      \n",
    "    'Tottenham': ['#132257']                    \n",
    "}\n",
    "\n",
    "fig = go.Figure()\n",
    "\n",
    "for team in team_dependency:\n",
    "    team_data = plot_data[plot_data['Team'] == team]\n",
    "    colors = team_colors[team]\n",
    "\n",
    "    for idx, row in team_data.iterrows():\n",
    "        player = row['Player']\n",
    "        value = row['Goal Contribution %']\n",
    "\n",
    "        if len(colors) == 2:\n",
    "            fig.add_trace(go.Bar(\n",
    "                x=[team],\n",
    "                y=[value / 2],  \n",
    "                name=f\"{player} (Part 1)\",\n",
    "                marker_color=colors[0],\n",
    "                hovertemplate=f'<b>{player}</b><br>Team: {team}<br>Contribution: {value:.2f}%'\n",
    "            ))\n",
    "            fig.add_trace(go.Bar(\n",
    "                x=[team],\n",
    "                y=[value / 2], \n",
    "                name=f\"{player} (Part 2)\",\n",
    "                marker_color=colors[1],\n",
    "                hovertemplate=f'<b>{player}</b><br>Team: {team}<br>Contribution: {value:.2f}%'\n",
    "            ))\n",
    "        else:\n",
    "            fig.add_trace(go.Bar(\n",
    "                x=[team],\n",
    "                y=[value],\n",
    "                name=player,\n",
    "                marker_color=colors[0],\n",
    "                hovertemplate=f'<b>{player}</b><br>Team: {team}<br>Contribution: {value:.2f}%'\n",
    "            ))\n",
    "\n",
    "fig.update_layout(\n",
    "    barmode='stack',\n",
    "    title='Team Dependency on Top 3 Players (Goal Contribution %)',\n",
    "    xaxis_title='Team',\n",
    "    yaxis_title='Goal Contribution Percentage',\n",
    "    xaxis={'categoryorder': 'array', 'categoryarray': team_dependency},\n",
    "    legend_title_text='Players',\n",
    "    showlegend=False,\n",
    "    height=700\n",
    ")\n",
    "\n",
    "fig.show()"
   ]
  },
  {
   "cell_type": "markdown",
   "id": "a6ba5e1f-e473-4a17-897e-57e111b21c81",
   "metadata": {},
   "source": [
    "---\n",
    "\n",
    "To clearly illustrate how much each team depends on their top 3 players, donut charts were used, showing the proportion of:\n",
    "- **Top 3 Players' Goal Contributions**\n",
    "- **Rest of Team's Goal Contributions**\n",
    "\n",
    "This visualization focused on:\n",
    "- The Top 5 most player-dependent teams\n",
    "- The Bottom 5 most balanced teams\n"
   ]
  },
  {
   "cell_type": "code",
   "execution_count": 24,
   "id": "95ca3f09-ab25-4344-a3a6-801e6759ac81",
   "metadata": {},
   "outputs": [
    {
     "name": "stderr",
     "output_type": "stream",
     "text": [
      "C:\\Users\\Admin\\AppData\\Local\\Temp\\ipykernel_4628\\3811354912.py:2: FutureWarning:\n",
      "\n",
      "The default of observed=False is deprecated and will be changed to True in a future version of pandas. Pass observed=False to retain current behavior or observed=True to adopt the future default and silence this warning.\n",
      "\n"
     ]
    }
   ],
   "source": [
    "# Calculate total goal contribution of top 3 players per team\n",
    "team_dependency_summary = plot_data.groupby('Team')['Goal Contribution %'].sum().sort_values(ascending=False)\n",
    "\n",
    "# Extract top 5 and bottom 5\n",
    "top_5_teams = team_dependency_summary.head(5)\n",
    "bottom_5_teams = team_dependency_summary.tail(5)"
   ]
  },
  {
   "cell_type": "code",
   "execution_count": 25,
   "id": "84ba538e-e205-471f-9db1-e03d3c823b32",
   "metadata": {},
   "outputs": [
    {
     "data": {
      "image/png": "[encoded data removed]",
      "text/plain": [
       "<Figure size 2000x500 with 5 Axes>"
      ]
     },
     "metadata": {},
     "output_type": "display_data"
    },
    {
     "data": {
      "image/png": "[encoded data removed]",
      "text/plain": [
       "<Figure size 2000x500 with 5 Axes>"
      ]
     },
     "metadata": {},
     "output_type": "display_data"
    }
   ],
   "source": [
    "import matplotlib.pyplot as plt\n",
    "import numpy as np\n",
    "\n",
    "def plot_donut_chart(ax, team, contribution_pct, colors):\n",
    "    sizes = [contribution_pct, 100 - contribution_pct]\n",
    "    wedges, _ = ax.pie(\n",
    "        sizes,\n",
    "        colors=colors,\n",
    "        startangle=90,\n",
    "        counterclock=False,\n",
    "        wedgeprops={'width': 0.3, 'edgecolor': 'white'}\n",
    "    )\n",
    "\n",
    "    \n",
    "    for i, p in enumerate(wedges):\n",
    "        ang = (p.theta2 - p.theta1) / 2. + p.theta1\n",
    "        y = np.sin(np.deg2rad(ang))\n",
    "        x = np.cos(np.deg2rad(ang))\n",
    "\n",
    "        horizontalalignment = 'left' if x > 0 else 'right'\n",
    "        connectionstyle = \"arc3\" \n",
    "\n",
    "        ax.annotate(f'{sizes[i]:.1f}%', xy=(x, y), xytext=(1.4 * x, 1.4 * y),\n",
    "                    horizontalalignment=horizontalalignment,\n",
    "                    fontsize=14, fontweight='bold',\n",
    "                    arrowprops=dict(arrowstyle='-', connectionstyle=connectionstyle, color='black'))\n",
    "\n",
    "    ax.set_title(f'{team}', fontsize=12)\n",
    "    ax.axis('equal')\n",
    "\n",
    "colors = ['#ff6666', '#66b3ff']\n",
    "\n",
    "# Plot Top 5 Teams\n",
    "fig, axes = plt.subplots(1, 5, figsize=(20, 5))\n",
    "\n",
    "for ax, (team, contribution) in zip(axes, top_5_teams.items()):\n",
    "    plot_donut_chart(ax, team, contribution, colors)\n",
    "\n",
    "plt.suptitle('Top 5 Most Player-Dependent Teams', fontsize=16)\n",
    "plt.figlegend(['Top 3 Players', 'Rest of Team'], loc='lower center', ncol=2, fontsize=12)\n",
    "plt.tight_layout()\n",
    "plt.show()\n",
    "\n",
    "# Plot Bottom 5 Teams\n",
    "fig, axes = plt.subplots(1, 5, figsize=(20, 5))\n",
    "\n",
    "for ax, (team, contribution) in zip(axes, bottom_5_teams.items()):\n",
    "    plot_donut_chart(ax, team, contribution, colors)\n",
    "\n",
    "plt.suptitle('Bottom 5 Most Balanced Teams', fontsize=16)\n",
    "plt.figlegend(['Top 3 Players', 'Rest of Team'], loc='lower center', ncol=2, fontsize=12)\n",
    "plt.tight_layout()\n",
    "plt.show()\n"
   ]
  },
  {
   "cell_type": "markdown",
   "id": "c41686b1-cb22-4716-b391-e4ee4ae4b968",
   "metadata": {},
   "source": [
    "---\n",
    "# Results: Player Reliance Across Teams\n",
    "\n",
    "## Top 5 Most Player-Dependent Teams\n",
    "These teams heavily relied on their top 3 players for the majority of their goals:\n",
    "\n",
    "| Team                     | Top 3 Players' Goal Contribution (%) |\n",
    "|--------------------------|-------------------------------------|\n",
    "| **Brentford**            | **76.56%**                          |\n",
    "| **Wolverhampton Wanderers** | **62.26%**                       |\n",
    "| **West Ham**             | **61.36%**                          |\n",
    "| **Crystal Palace**       | **61.22%**                          |\n",
    "| **Liverpool**            | **61.18%**                          |\n",
    "\n",
    "Brentford, in particular, stands out with **over three-fourths of their goals** contributed by just three players, indicating significant reliance.\n",
    "\n",
    "---\n",
    "\n",
    "### Bottom 5 Most Balanced Teams\n",
    "These teams showed a more **balanced goal distribution** across their squad:\n",
    "\n",
    "| Team                | Top 3 Players' Goal Contribution (%) |\n",
    "|---------------------|-------------------------------------|\n",
    "| **Manchester United** | **50.00%**                        |\n",
    "| **Brighton**          | **47.62%**                        |\n",
    "| **Tottenham**         | **47.54%**                        |\n",
    "| **Arsenal**           | **37.31%**                        |\n",
    "| **Southampton**       | **33.33%**                        |\n",
    "\n",
    "Southampton and Arsenal, in particular, had **a highly distributed scoring pattern**, suggesting a greater team effort in goal contributions rather than dependence on a few key players.\n",
    "\n",
    "---\n",
    "\n",
    "### Key Takeaways:\n",
    "- **High reliance** on a few players can be risky for teams in case of injuries, suspensions, or transfers.\n",
    "- **More balanced teams** may be harder to defend against as their goals come from multiple sources.\n",
    "\n",
    "---"
   ]
  }
 ],
 "metadata": {
  "kernelspec": {
   "display_name": "Python 3 (ipykernel)",
   "language": "python",
   "name": "python3"
  },
  "language_info": {
   "codemirror_mode": {
    "name": "ipython",
    "version": 3
   },
   "file_extension": ".py",
   "mimetype": "text/x-python",
   "name": "python",
   "nbconvert_exporter": "python",
   "pygments_lexer": "ipython3",
   "version": "3.11.9"
  }
 },
 "nbformat": 4,
 "nbformat_minor": 5
}
